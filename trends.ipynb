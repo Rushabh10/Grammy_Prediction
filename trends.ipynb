{
 "cells": [
  {
   "cell_type": "code",
   "execution_count": 1,
   "metadata": {},
   "outputs": [],
   "source": [
    "import pandas as pd\n"
   ]
  },
  {
   "cell_type": "code",
   "execution_count": 2,
   "metadata": {},
   "outputs": [],
   "source": [
    "import numpy as np"
   ]
  },
  {
   "cell_type": "code",
   "execution_count": 3,
   "metadata": {},
   "outputs": [],
   "source": [
    "path = \"search trends/rap_of_the_year/\""
   ]
  },
  {
   "cell_type": "code",
   "execution_count": 4,
   "metadata": {},
   "outputs": [],
   "source": [
    "years = [i for i in range(2005, 2024)]"
   ]
  },
  {
   "cell_type": "code",
   "execution_count": 7,
   "metadata": {},
   "outputs": [],
   "source": [
    "file_name = path+str(years[0])+\"_p1.csv\""
   ]
  },
  {
   "cell_type": "code",
   "execution_count": 8,
   "metadata": {},
   "outputs": [
    {
     "data": {
      "text/plain": "'search trends/rap_of_the_year/2005_p1.csv'"
     },
     "execution_count": 8,
     "metadata": {},
     "output_type": "execute_result"
    }
   ],
   "source": [
    "file_name"
   ]
  },
  {
   "cell_type": "code",
   "execution_count": null,
   "metadata": {},
   "outputs": [],
   "source": [
    "search trends/record_of_the_year/2005_part1.csv"
   ]
  },
  {
   "cell_type": "code",
   "execution_count": 18,
   "metadata": {},
   "outputs": [],
   "source": [
    "df = pd.read_csv(file_name)"
   ]
  },
  {
   "cell_type": "code",
   "execution_count": 19,
   "metadata": {},
   "outputs": [
    {
     "data": {
      "text/html": "<div>\n<style scoped>\n    .dataframe tbody tr th:only-of-type {\n        vertical-align: middle;\n    }\n\n    .dataframe tbody tr th {\n        vertical-align: top;\n    }\n\n    .dataframe thead th {\n        text-align: right;\n    }\n</style>\n<table border=\"1\" class=\"dataframe\">\n  <thead>\n    <tr style=\"text-align: right;\">\n      <th></th>\n      <th>Week</th>\n      <th>Here We Go Again: (Worldwide)</th>\n      <th>Yeah!: (Worldwide)</th>\n      <th>Heaven: (Worldwide)</th>\n      <th>American Idiot: (Worldwide)</th>\n      <th>Lets Get It Started: (Worldwide)</th>\n    </tr>\n  </thead>\n  <tbody>\n    <tr>\n      <th>0</th>\n      <td>2004-01-04</td>\n      <td>0</td>\n      <td>4</td>\n      <td>96</td>\n      <td>0</td>\n      <td>0</td>\n    </tr>\n    <tr>\n      <th>1</th>\n      <td>2004-01-11</td>\n      <td>&lt;1</td>\n      <td>5</td>\n      <td>88</td>\n      <td>0</td>\n      <td>0</td>\n    </tr>\n    <tr>\n      <th>2</th>\n      <td>2004-01-18</td>\n      <td>0</td>\n      <td>6</td>\n      <td>100</td>\n      <td>0</td>\n      <td>0</td>\n    </tr>\n    <tr>\n      <th>3</th>\n      <td>2004-01-25</td>\n      <td>1</td>\n      <td>8</td>\n      <td>93</td>\n      <td>0</td>\n      <td>0</td>\n    </tr>\n    <tr>\n      <th>4</th>\n      <td>2004-02-01</td>\n      <td>0</td>\n      <td>10</td>\n      <td>82</td>\n      <td>1</td>\n      <td>0</td>\n    </tr>\n    <tr>\n      <th>5</th>\n      <td>2004-02-08</td>\n      <td>1</td>\n      <td>9</td>\n      <td>88</td>\n      <td>0</td>\n      <td>0</td>\n    </tr>\n    <tr>\n      <th>6</th>\n      <td>2004-02-15</td>\n      <td>0</td>\n      <td>14</td>\n      <td>88</td>\n      <td>0</td>\n      <td>0</td>\n    </tr>\n    <tr>\n      <th>7</th>\n      <td>2004-02-22</td>\n      <td>&lt;1</td>\n      <td>20</td>\n      <td>96</td>\n      <td>0</td>\n      <td>0</td>\n    </tr>\n    <tr>\n      <th>8</th>\n      <td>2004-02-29</td>\n      <td>0</td>\n      <td>25</td>\n      <td>87</td>\n      <td>1</td>\n      <td>0</td>\n    </tr>\n    <tr>\n      <th>9</th>\n      <td>2004-03-07</td>\n      <td>1</td>\n      <td>35</td>\n      <td>86</td>\n      <td>0</td>\n      <td>0</td>\n    </tr>\n    <tr>\n      <th>10</th>\n      <td>2004-03-14</td>\n      <td>0</td>\n      <td>34</td>\n      <td>91</td>\n      <td>0</td>\n      <td>0</td>\n    </tr>\n    <tr>\n      <th>11</th>\n      <td>2004-03-21</td>\n      <td>0</td>\n      <td>40</td>\n      <td>94</td>\n      <td>0</td>\n      <td>0</td>\n    </tr>\n    <tr>\n      <th>12</th>\n      <td>2004-03-28</td>\n      <td>&lt;1</td>\n      <td>32</td>\n      <td>84</td>\n      <td>0</td>\n      <td>0</td>\n    </tr>\n    <tr>\n      <th>13</th>\n      <td>2004-04-04</td>\n      <td>0</td>\n      <td>33</td>\n      <td>95</td>\n      <td>0</td>\n      <td>&lt;1</td>\n    </tr>\n    <tr>\n      <th>14</th>\n      <td>2004-04-11</td>\n      <td>0</td>\n      <td>30</td>\n      <td>83</td>\n      <td>0</td>\n      <td>1</td>\n    </tr>\n    <tr>\n      <th>15</th>\n      <td>2004-04-18</td>\n      <td>0</td>\n      <td>26</td>\n      <td>89</td>\n      <td>0</td>\n      <td>&lt;1</td>\n    </tr>\n    <tr>\n      <th>16</th>\n      <td>2004-04-25</td>\n      <td>0</td>\n      <td>25</td>\n      <td>94</td>\n      <td>0</td>\n      <td>&lt;1</td>\n    </tr>\n    <tr>\n      <th>17</th>\n      <td>2004-05-02</td>\n      <td>1</td>\n      <td>23</td>\n      <td>90</td>\n      <td>0</td>\n      <td>&lt;1</td>\n    </tr>\n    <tr>\n      <th>18</th>\n      <td>2004-05-09</td>\n      <td>0</td>\n      <td>22</td>\n      <td>91</td>\n      <td>&lt;1</td>\n      <td>&lt;1</td>\n    </tr>\n    <tr>\n      <th>19</th>\n      <td>2004-05-16</td>\n      <td>0</td>\n      <td>19</td>\n      <td>94</td>\n      <td>0</td>\n      <td>&lt;1</td>\n    </tr>\n    <tr>\n      <th>20</th>\n      <td>2004-05-23</td>\n      <td>&lt;1</td>\n      <td>20</td>\n      <td>90</td>\n      <td>0</td>\n      <td>1</td>\n    </tr>\n    <tr>\n      <th>21</th>\n      <td>2004-05-30</td>\n      <td>&lt;1</td>\n      <td>15</td>\n      <td>94</td>\n      <td>0</td>\n      <td>1</td>\n    </tr>\n    <tr>\n      <th>22</th>\n      <td>2004-06-06</td>\n      <td>&lt;1</td>\n      <td>15</td>\n      <td>97</td>\n      <td>&lt;1</td>\n      <td>1</td>\n    </tr>\n    <tr>\n      <th>23</th>\n      <td>2004-06-13</td>\n      <td>0</td>\n      <td>14</td>\n      <td>91</td>\n      <td>&lt;1</td>\n      <td>3</td>\n    </tr>\n    <tr>\n      <th>24</th>\n      <td>2004-06-20</td>\n      <td>0</td>\n      <td>15</td>\n      <td>93</td>\n      <td>0</td>\n      <td>2</td>\n    </tr>\n    <tr>\n      <th>25</th>\n      <td>2004-06-27</td>\n      <td>&lt;1</td>\n      <td>12</td>\n      <td>85</td>\n      <td>1</td>\n      <td>2</td>\n    </tr>\n    <tr>\n      <th>26</th>\n      <td>2004-07-04</td>\n      <td>1</td>\n      <td>11</td>\n      <td>86</td>\n      <td>&lt;1</td>\n      <td>2</td>\n    </tr>\n    <tr>\n      <th>27</th>\n      <td>2004-07-11</td>\n      <td>&lt;1</td>\n      <td>9</td>\n      <td>83</td>\n      <td>&lt;1</td>\n      <td>1</td>\n    </tr>\n    <tr>\n      <th>28</th>\n      <td>2004-07-18</td>\n      <td>&lt;1</td>\n      <td>9</td>\n      <td>93</td>\n      <td>&lt;1</td>\n      <td>3</td>\n    </tr>\n    <tr>\n      <th>29</th>\n      <td>2004-07-25</td>\n      <td>1</td>\n      <td>8</td>\n      <td>93</td>\n      <td>1</td>\n      <td>3</td>\n    </tr>\n    <tr>\n      <th>30</th>\n      <td>2004-08-01</td>\n      <td>1</td>\n      <td>8</td>\n      <td>95</td>\n      <td>4</td>\n      <td>3</td>\n    </tr>\n    <tr>\n      <th>31</th>\n      <td>2004-08-08</td>\n      <td>0</td>\n      <td>9</td>\n      <td>98</td>\n      <td>6</td>\n      <td>2</td>\n    </tr>\n    <tr>\n      <th>32</th>\n      <td>2004-08-15</td>\n      <td>&lt;1</td>\n      <td>8</td>\n      <td>95</td>\n      <td>8</td>\n      <td>1</td>\n    </tr>\n    <tr>\n      <th>33</th>\n      <td>2004-08-22</td>\n      <td>1</td>\n      <td>6</td>\n      <td>90</td>\n      <td>10</td>\n      <td>2</td>\n    </tr>\n    <tr>\n      <th>34</th>\n      <td>2004-08-29</td>\n      <td>&lt;1</td>\n      <td>10</td>\n      <td>88</td>\n      <td>11</td>\n      <td>2</td>\n    </tr>\n    <tr>\n      <th>35</th>\n      <td>2004-09-05</td>\n      <td>1</td>\n      <td>8</td>\n      <td>93</td>\n      <td>9</td>\n      <td>2</td>\n    </tr>\n    <tr>\n      <th>36</th>\n      <td>2004-09-12</td>\n      <td>&lt;1</td>\n      <td>9</td>\n      <td>95</td>\n      <td>20</td>\n      <td>3</td>\n    </tr>\n    <tr>\n      <th>37</th>\n      <td>2004-09-19</td>\n      <td>&lt;1</td>\n      <td>7</td>\n      <td>91</td>\n      <td>31</td>\n      <td>3</td>\n    </tr>\n    <tr>\n      <th>38</th>\n      <td>2004-09-26</td>\n      <td>0</td>\n      <td>7</td>\n      <td>94</td>\n      <td>28</td>\n      <td>2</td>\n    </tr>\n  </tbody>\n</table>\n</div>",
      "text/plain": "          Week Here We Go Again: (Worldwide)  Yeah!: (Worldwide)  \\\n0   2004-01-04                             0                   4   \n1   2004-01-11                            <1                   5   \n2   2004-01-18                             0                   6   \n3   2004-01-25                             1                   8   \n4   2004-02-01                             0                  10   \n5   2004-02-08                             1                   9   \n6   2004-02-15                             0                  14   \n7   2004-02-22                            <1                  20   \n8   2004-02-29                             0                  25   \n9   2004-03-07                             1                  35   \n10  2004-03-14                             0                  34   \n11  2004-03-21                             0                  40   \n12  2004-03-28                            <1                  32   \n13  2004-04-04                             0                  33   \n14  2004-04-11                             0                  30   \n15  2004-04-18                             0                  26   \n16  2004-04-25                             0                  25   \n17  2004-05-02                             1                  23   \n18  2004-05-09                             0                  22   \n19  2004-05-16                             0                  19   \n20  2004-05-23                            <1                  20   \n21  2004-05-30                            <1                  15   \n22  2004-06-06                            <1                  15   \n23  2004-06-13                             0                  14   \n24  2004-06-20                             0                  15   \n25  2004-06-27                            <1                  12   \n26  2004-07-04                             1                  11   \n27  2004-07-11                            <1                   9   \n28  2004-07-18                            <1                   9   \n29  2004-07-25                             1                   8   \n30  2004-08-01                             1                   8   \n31  2004-08-08                             0                   9   \n32  2004-08-15                            <1                   8   \n33  2004-08-22                             1                   6   \n34  2004-08-29                            <1                  10   \n35  2004-09-05                             1                   8   \n36  2004-09-12                            <1                   9   \n37  2004-09-19                            <1                   7   \n38  2004-09-26                             0                   7   \n\n    Heaven: (Worldwide) American Idiot: (Worldwide)  \\\n0                    96                           0   \n1                    88                           0   \n2                   100                           0   \n3                    93                           0   \n4                    82                           1   \n5                    88                           0   \n6                    88                           0   \n7                    96                           0   \n8                    87                           1   \n9                    86                           0   \n10                   91                           0   \n11                   94                           0   \n12                   84                           0   \n13                   95                           0   \n14                   83                           0   \n15                   89                           0   \n16                   94                           0   \n17                   90                           0   \n18                   91                          <1   \n19                   94                           0   \n20                   90                           0   \n21                   94                           0   \n22                   97                          <1   \n23                   91                          <1   \n24                   93                           0   \n25                   85                           1   \n26                   86                          <1   \n27                   83                          <1   \n28                   93                          <1   \n29                   93                           1   \n30                   95                           4   \n31                   98                           6   \n32                   95                           8   \n33                   90                          10   \n34                   88                          11   \n35                   93                           9   \n36                   95                          20   \n37                   91                          31   \n38                   94                          28   \n\n   Lets Get It Started: (Worldwide)  \n0                                 0  \n1                                 0  \n2                                 0  \n3                                 0  \n4                                 0  \n5                                 0  \n6                                 0  \n7                                 0  \n8                                 0  \n9                                 0  \n10                                0  \n11                                0  \n12                                0  \n13                               <1  \n14                                1  \n15                               <1  \n16                               <1  \n17                               <1  \n18                               <1  \n19                               <1  \n20                                1  \n21                                1  \n22                                1  \n23                                3  \n24                                2  \n25                                2  \n26                                2  \n27                                1  \n28                                3  \n29                                3  \n30                                3  \n31                                2  \n32                                1  \n33                                2  \n34                                2  \n35                                2  \n36                                3  \n37                                3  \n38                                2  "
     },
     "execution_count": 19,
     "metadata": {},
     "output_type": "execute_result"
    }
   ],
   "source": [
    "df"
   ]
  },
  {
   "cell_type": "code",
   "execution_count": 12,
   "metadata": {},
   "outputs": [],
   "source": [
    "df_record = pd.read_csv(\"record_of_the_year_cleaned.csv\")"
   ]
  },
  {
   "cell_type": "code",
   "execution_count": 14,
   "metadata": {},
   "outputs": [],
   "source": [
    "df_record[\"year\"] = df_record[\"year\"] + 1\n",
    "df_record = df_record[(df_record['year'] >= 2005) & (df_record['year'] <= 2023)]"
   ]
  },
  {
   "cell_type": "code",
   "execution_count": 15,
   "metadata": {},
   "outputs": [
    {
     "data": {
      "text/html": "<div>\n<style scoped>\n    .dataframe tbody tr th:only-of-type {\n        vertical-align: middle;\n    }\n\n    .dataframe tbody tr th {\n        vertical-align: top;\n    }\n\n    .dataframe thead th {\n        text-align: right;\n    }\n</style>\n<table border=\"1\" class=\"dataframe\">\n  <thead>\n    <tr style=\"text-align: right;\">\n      <th></th>\n      <th>Unnamed: 0</th>\n      <th>year</th>\n      <th>award category</th>\n      <th>song</th>\n      <th>artist</th>\n      <th>wasWinner</th>\n    </tr>\n  </thead>\n  <tbody>\n    <tr>\n      <th>231</th>\n      <td>231</td>\n      <td>2005</td>\n      <td>Record of the year</td>\n      <td>Here We Go Again</td>\n      <td>Ray Charles &amp; Norah Jones</td>\n      <td>yes</td>\n    </tr>\n    <tr>\n      <th>232</th>\n      <td>232</td>\n      <td>2005</td>\n      <td>Record of the year</td>\n      <td>Yeah!</td>\n      <td>Usher Featuring Lil Jon &amp; Ludacris</td>\n      <td>no</td>\n    </tr>\n    <tr>\n      <th>233</th>\n      <td>233</td>\n      <td>2005</td>\n      <td>Record of the year</td>\n      <td>Heaven</td>\n      <td>Los Lonely Boys</td>\n      <td>no</td>\n    </tr>\n    <tr>\n      <th>234</th>\n      <td>234</td>\n      <td>2005</td>\n      <td>Record of the year</td>\n      <td>American Idiot</td>\n      <td>Green Day</td>\n      <td>no</td>\n    </tr>\n    <tr>\n      <th>235</th>\n      <td>235</td>\n      <td>2005</td>\n      <td>Record of the year</td>\n      <td>Let's Get It Started</td>\n      <td>The Black Eyed Peas</td>\n      <td>no</td>\n    </tr>\n    <tr>\n      <th>...</th>\n      <td>...</td>\n      <td>...</td>\n      <td>...</td>\n      <td>...</td>\n      <td>...</td>\n      <td>...</td>\n    </tr>\n    <tr>\n      <th>341</th>\n      <td>341</td>\n      <td>2023</td>\n      <td>Record of the year</td>\n      <td>Woman</td>\n      <td>Doja Cat</td>\n      <td>no</td>\n    </tr>\n    <tr>\n      <th>342</th>\n      <td>342</td>\n      <td>2023</td>\n      <td>Record of the year</td>\n      <td>You And Me On The Rock</td>\n      <td>Brandi Carlile Featuring Lucius</td>\n      <td>no</td>\n    </tr>\n    <tr>\n      <th>343</th>\n      <td>343</td>\n      <td>2023</td>\n      <td>Record of the year</td>\n      <td>Good Morning Gorgeous</td>\n      <td>Mary J. Blige</td>\n      <td>no</td>\n    </tr>\n    <tr>\n      <th>344</th>\n      <td>344</td>\n      <td>2023</td>\n      <td>Record of the year</td>\n      <td>Easy On Me</td>\n      <td>Adele</td>\n      <td>no</td>\n    </tr>\n    <tr>\n      <th>345</th>\n      <td>345</td>\n      <td>2023</td>\n      <td>Record of the year</td>\n      <td>Don't Shut Me Down</td>\n      <td>ABBA</td>\n      <td>no</td>\n    </tr>\n  </tbody>\n</table>\n<p>115 rows × 6 columns</p>\n</div>",
      "text/plain": "     Unnamed: 0  year      award category                    song  \\\n231         231  2005  Record of the year        Here We Go Again   \n232         232  2005  Record of the year                   Yeah!   \n233         233  2005  Record of the year                  Heaven   \n234         234  2005  Record of the year          American Idiot   \n235         235  2005  Record of the year    Let's Get It Started   \n..          ...   ...                 ...                     ...   \n341         341  2023  Record of the year                   Woman   \n342         342  2023  Record of the year  You And Me On The Rock   \n343         343  2023  Record of the year   Good Morning Gorgeous   \n344         344  2023  Record of the year              Easy On Me   \n345         345  2023  Record of the year      Don't Shut Me Down   \n\n                                 artist wasWinner  \n231           Ray Charles & Norah Jones       yes  \n232  Usher Featuring Lil Jon & Ludacris        no  \n233                     Los Lonely Boys        no  \n234                           Green Day        no  \n235                 The Black Eyed Peas        no  \n..                                  ...       ...  \n341                            Doja Cat        no  \n342     Brandi Carlile Featuring Lucius        no  \n343                       Mary J. Blige        no  \n344                               Adele        no  \n345                                ABBA        no  \n\n[115 rows x 6 columns]"
     },
     "execution_count": 15,
     "metadata": {},
     "output_type": "execute_result"
    }
   ],
   "source": [
    "df_record"
   ]
  },
  {
   "cell_type": "code",
   "execution_count": 22,
   "metadata": {},
   "outputs": [],
   "source": [
    "songs = df.columns"
   ]
  },
  {
   "cell_type": "code",
   "execution_count": 25,
   "metadata": {},
   "outputs": [],
   "source": [
    "scores = list(df[songs[1]])"
   ]
  },
  {
   "cell_type": "code",
   "execution_count": 26,
   "metadata": {},
   "outputs": [
    {
     "data": {
      "text/plain": "['0',\n '<1',\n '0',\n '1',\n '0',\n '1',\n '0',\n '<1',\n '0',\n '1',\n '0',\n '0',\n '<1',\n '0',\n '0',\n '0',\n '0',\n '1',\n '0',\n '0',\n '<1',\n '<1',\n '<1',\n '0',\n '0',\n '<1',\n '1',\n '<1',\n '<1',\n '1',\n '1',\n '0',\n '<1',\n '1',\n '<1',\n '1',\n '<1',\n '<1',\n '0']"
     },
     "execution_count": 26,
     "metadata": {},
     "output_type": "execute_result"
    }
   ],
   "source": [
    "scores"
   ]
  },
  {
   "cell_type": "code",
   "execution_count": 27,
   "metadata": {},
   "outputs": [],
   "source": [
    "scores = list(map(lambda x: x.replace('<1', '0.5'), scores))"
   ]
  },
  {
   "cell_type": "code",
   "execution_count": 29,
   "metadata": {},
   "outputs": [],
   "source": [
    "scores = [float(x) for x in scores]"
   ]
  },
  {
   "cell_type": "code",
   "execution_count": 32,
   "metadata": {},
   "outputs": [],
   "source": [
    "avg_pop = np.mean(np.array(scores))\n",
    "peak_pop = np.max(np.array(scores))"
   ]
  },
  {
   "cell_type": "code",
   "execution_count": 33,
   "metadata": {},
   "outputs": [
    {
     "data": {
      "text/plain": "0.3974358974358974"
     },
     "execution_count": 33,
     "metadata": {},
     "output_type": "execute_result"
    }
   ],
   "source": [
    "avg_pop"
   ]
  },
  {
   "cell_type": "code",
   "execution_count": 34,
   "metadata": {},
   "outputs": [
    {
     "data": {
      "text/plain": "1.0"
     },
     "execution_count": 34,
     "metadata": {},
     "output_type": "execute_result"
    }
   ],
   "source": [
    "peak_pop"
   ]
  },
  {
   "cell_type": "code",
   "execution_count": 36,
   "metadata": {},
   "outputs": [
    {
     "data": {
      "text/plain": "2005"
     },
     "execution_count": 36,
     "metadata": {},
     "output_type": "execute_result"
    }
   ],
   "source": [
    "df_record.iloc[0][\"year\"]"
   ]
  },
  {
   "cell_type": "code",
   "execution_count": 50,
   "metadata": {},
   "outputs": [
    {
     "data": {
      "text/plain": "[2005,\n 2006,\n 2007,\n 2008,\n 2009,\n 2010,\n 2011,\n 2012,\n 2013,\n 2014,\n 2015,\n 2016,\n 2017,\n 2018,\n 2019,\n 2020,\n 2021,\n 2022,\n 2023]"
     },
     "execution_count": 50,
     "metadata": {},
     "output_type": "execute_result"
    }
   ],
   "source": [
    "years"
   ]
  },
  {
   "cell_type": "code",
   "execution_count": 11,
   "metadata": {},
   "outputs": [
    {
     "name": "stdout",
     "output_type": "stream",
     "text": [
      "Done with year 2005\n",
      "Done with year 2006\n",
      "Done with year 2007\n",
      "Done with year 2008\n",
      "Done with year 2009\n",
      "Done with year 2010\n",
      "Done with year 2011\n",
      "Done with year 2012\n",
      "Done with year 2013\n",
      "Done with year 2014\n",
      "Done with year 2015\n",
      "Done with year 2016\n",
      "Done with year 2017\n",
      "Done with year 2018\n",
      "Done with year 2019\n",
      "Done with year 2020\n",
      "Done with year 2021\n",
      "Done with year 2022\n",
      "Done with year 2023\n"
     ]
    }
   ],
   "source": [
    "song_names = []\n",
    "avg_pops = []\n",
    "peak_pops = []\n",
    "years_list = []\n",
    "for year in years:\n",
    "    file_name = path+str(year)+\"_p1.csv\"\n",
    "    df = pd.read_csv(file_name)\n",
    "    songs = df.columns\n",
    "    for i in range(1, len(songs)):\n",
    "        scores = list(df[songs[i]])\n",
    "        song_names.append(songs[i])\n",
    "        #print(scores)\n",
    "        if '<1' in scores:\n",
    "            scores = list(map(lambda x: x.replace('<1', '0.5'), scores))\n",
    "        scores = [float(x) for x in scores]\n",
    "        scores = np.array(scores)\n",
    "        avg_pop = np.mean(scores)\n",
    "        peak_pop = np.max(scores)\n",
    "        avg_pops.append(avg_pop)\n",
    "        peak_pops.append(peak_pop)\n",
    "        years_list.append(year)\n",
    "    print(\"Done with year\", year)"
   ]
  },
  {
   "cell_type": "code",
   "execution_count": 12,
   "metadata": {},
   "outputs": [],
   "source": [
    "df = pd.DataFrame(columns=[\"song\", \"year\", \"peak pop\", \"avg pop\"])\n",
    "df[\"song\"] = song_names\n",
    "df[\"year\"] = years_list\n",
    "df[\"peak pop\"] = peak_pops\n",
    "df[\"avg pop\"] = avg_pops"
   ]
  },
  {
   "cell_type": "code",
   "execution_count": 13,
   "metadata": {},
   "outputs": [
    {
     "data": {
      "text/html": "<div>\n<style scoped>\n    .dataframe tbody tr th:only-of-type {\n        vertical-align: middle;\n    }\n\n    .dataframe tbody tr th {\n        vertical-align: top;\n    }\n\n    .dataframe thead th {\n        text-align: right;\n    }\n</style>\n<table border=\"1\" class=\"dataframe\">\n  <thead>\n    <tr style=\"text-align: right;\">\n      <th></th>\n      <th>song</th>\n      <th>year</th>\n      <th>peak pop</th>\n      <th>avg pop</th>\n    </tr>\n  </thead>\n  <tbody>\n    <tr>\n      <th>0</th>\n      <td>Lose Yourself: (Worldwide)</td>\n      <td>2005</td>\n      <td>69.0</td>\n      <td>40.846154</td>\n    </tr>\n    <tr>\n      <th>1</th>\n      <td>Beautiful: (Worldwide)</td>\n      <td>2005</td>\n      <td>10.0</td>\n      <td>1.179487</td>\n    </tr>\n    <tr>\n      <th>2</th>\n      <td>Excuse Me Miss: (Worldwide)</td>\n      <td>2005</td>\n      <td>16.0</td>\n      <td>1.358974</td>\n    </tr>\n    <tr>\n      <th>3</th>\n      <td>In da Club: (Worldwide)</td>\n      <td>2005</td>\n      <td>100.0</td>\n      <td>58.512821</td>\n    </tr>\n    <tr>\n      <th>4</th>\n      <td>Work It: (Worldwide)</td>\n      <td>2005</td>\n      <td>9.0</td>\n      <td>1.153846</td>\n    </tr>\n    <tr>\n      <th>...</th>\n      <td>...</td>\n      <td>...</td>\n      <td>...</td>\n      <td>...</td>\n    </tr>\n    <tr>\n      <th>92</th>\n      <td>Jail: (Worldwide)</td>\n      <td>2023</td>\n      <td>100.0</td>\n      <td>87.403846</td>\n    </tr>\n    <tr>\n      <th>93</th>\n      <td>Bath Salts: (Worldwide)</td>\n      <td>2023</td>\n      <td>1.0</td>\n      <td>1.000000</td>\n    </tr>\n    <tr>\n      <th>94</th>\n      <td>Best Friend: (Worldwide)</td>\n      <td>2023</td>\n      <td>0.5</td>\n      <td>0.500000</td>\n    </tr>\n    <tr>\n      <th>95</th>\n      <td>Family Ties: (Worldwide)</td>\n      <td>2023</td>\n      <td>2.0</td>\n      <td>1.019231</td>\n    </tr>\n    <tr>\n      <th>96</th>\n      <td>My Life: (Worldwide)</td>\n      <td>2023</td>\n      <td>63.0</td>\n      <td>56.692308</td>\n    </tr>\n  </tbody>\n</table>\n<p>97 rows × 4 columns</p>\n</div>",
      "text/plain": "                           song  year  peak pop    avg pop\n0    Lose Yourself: (Worldwide)  2005      69.0  40.846154\n1        Beautiful: (Worldwide)  2005      10.0   1.179487\n2   Excuse Me Miss: (Worldwide)  2005      16.0   1.358974\n3       In da Club: (Worldwide)  2005     100.0  58.512821\n4          Work It: (Worldwide)  2005       9.0   1.153846\n..                          ...   ...       ...        ...\n92            Jail: (Worldwide)  2023     100.0  87.403846\n93      Bath Salts: (Worldwide)  2023       1.0   1.000000\n94     Best Friend: (Worldwide)  2023       0.5   0.500000\n95     Family Ties: (Worldwide)  2023       2.0   1.019231\n96         My Life: (Worldwide)  2023      63.0  56.692308\n\n[97 rows x 4 columns]"
     },
     "execution_count": 13,
     "metadata": {},
     "output_type": "execute_result"
    }
   ],
   "source": [
    "df"
   ]
  },
  {
   "cell_type": "code",
   "execution_count": 14,
   "metadata": {},
   "outputs": [],
   "source": [
    "import re"
   ]
  },
  {
   "cell_type": "code",
   "execution_count": 15,
   "metadata": {},
   "outputs": [],
   "source": [
    "pattern = re.compile(r': \\(Worldwide\\)')\n",
    "\n",
    "# remove \"(Single)\" string from the end of values in Column1\n",
    "df['song'] = df['song'].apply(lambda x: re.sub(pattern, '', x))"
   ]
  },
  {
   "cell_type": "code",
   "execution_count": 16,
   "metadata": {},
   "outputs": [
    {
     "data": {
      "text/html": "<div>\n<style scoped>\n    .dataframe tbody tr th:only-of-type {\n        vertical-align: middle;\n    }\n\n    .dataframe tbody tr th {\n        vertical-align: top;\n    }\n\n    .dataframe thead th {\n        text-align: right;\n    }\n</style>\n<table border=\"1\" class=\"dataframe\">\n  <thead>\n    <tr style=\"text-align: right;\">\n      <th></th>\n      <th>song</th>\n      <th>year</th>\n      <th>peak pop</th>\n      <th>avg pop</th>\n    </tr>\n  </thead>\n  <tbody>\n    <tr>\n      <th>0</th>\n      <td>Lose Yourself</td>\n      <td>2005</td>\n      <td>69.0</td>\n      <td>40.846154</td>\n    </tr>\n    <tr>\n      <th>1</th>\n      <td>Beautiful</td>\n      <td>2005</td>\n      <td>10.0</td>\n      <td>1.179487</td>\n    </tr>\n    <tr>\n      <th>2</th>\n      <td>Excuse Me Miss</td>\n      <td>2005</td>\n      <td>16.0</td>\n      <td>1.358974</td>\n    </tr>\n    <tr>\n      <th>3</th>\n      <td>In da Club</td>\n      <td>2005</td>\n      <td>100.0</td>\n      <td>58.512821</td>\n    </tr>\n    <tr>\n      <th>4</th>\n      <td>Work It</td>\n      <td>2005</td>\n      <td>9.0</td>\n      <td>1.153846</td>\n    </tr>\n    <tr>\n      <th>...</th>\n      <td>...</td>\n      <td>...</td>\n      <td>...</td>\n      <td>...</td>\n    </tr>\n    <tr>\n      <th>92</th>\n      <td>Jail</td>\n      <td>2023</td>\n      <td>100.0</td>\n      <td>87.403846</td>\n    </tr>\n    <tr>\n      <th>93</th>\n      <td>Bath Salts</td>\n      <td>2023</td>\n      <td>1.0</td>\n      <td>1.000000</td>\n    </tr>\n    <tr>\n      <th>94</th>\n      <td>Best Friend</td>\n      <td>2023</td>\n      <td>0.5</td>\n      <td>0.500000</td>\n    </tr>\n    <tr>\n      <th>95</th>\n      <td>Family Ties</td>\n      <td>2023</td>\n      <td>2.0</td>\n      <td>1.019231</td>\n    </tr>\n    <tr>\n      <th>96</th>\n      <td>My Life</td>\n      <td>2023</td>\n      <td>63.0</td>\n      <td>56.692308</td>\n    </tr>\n  </tbody>\n</table>\n<p>97 rows × 4 columns</p>\n</div>",
      "text/plain": "              song  year  peak pop    avg pop\n0    Lose Yourself  2005      69.0  40.846154\n1        Beautiful  2005      10.0   1.179487\n2   Excuse Me Miss  2005      16.0   1.358974\n3       In da Club  2005     100.0  58.512821\n4          Work It  2005       9.0   1.153846\n..             ...   ...       ...        ...\n92            Jail  2023     100.0  87.403846\n93      Bath Salts  2023       1.0   1.000000\n94     Best Friend  2023       0.5   0.500000\n95     Family Ties  2023       2.0   1.019231\n96         My Life  2023      63.0  56.692308\n\n[97 rows x 4 columns]"
     },
     "execution_count": 16,
     "metadata": {},
     "output_type": "execute_result"
    }
   ],
   "source": [
    "df"
   ]
  },
  {
   "cell_type": "code",
   "execution_count": 17,
   "metadata": {},
   "outputs": [],
   "source": [
    "df.to_csv(\"rap_oy_search_trends.csv\")"
   ]
  },
  {
   "cell_type": "code",
   "execution_count": null,
   "metadata": {},
   "outputs": [],
   "source": []
  }
 ],
 "metadata": {
  "kernelspec": {
   "display_name": "Python 3.7.6 64-bit ('base': conda)",
   "name": "python376jvsc74a57bd00bfc7db77e0c4857d02c6a3eddcf2a18a066a4e9984550ab3594627fdc00b5fe"
  },
  "language_info": {
   "codemirror_mode": {
    "name": "ipython",
    "version": 3
   },
   "file_extension": ".py",
   "mimetype": "text/x-python",
   "name": "python",
   "nbconvert_exporter": "python",
   "pygments_lexer": "ipython3",
   "version": "3.7.6"
  },
  "orig_nbformat": 2
 },
 "nbformat": 4,
 "nbformat_minor": 2
}