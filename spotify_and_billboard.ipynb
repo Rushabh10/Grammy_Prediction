{
 "cells": [
  {
   "cell_type": "code",
   "execution_count": 2,
   "metadata": {},
   "outputs": [],
   "source": [
    "import pandas as pd\n",
    "\n",
    "import spotipy\n"
   ]
  },
  {
   "cell_type": "code",
   "execution_count": 3,
   "metadata": {},
   "outputs": [],
   "source": [
    "from spotipy.oauth2 import SpotifyClientCredentials "
   ]
  },
  {
   "cell_type": "code",
   "execution_count": 4,
   "metadata": {},
   "outputs": [],
   "source": [
    "client_id = \"381726c060ef49afad4e6d2db419b012\"\n",
    "client_secret = #FILL IN\n",
    "client_credentials_manager = SpotifyClientCredentials(client_id=client_id, client_secret=client_secret)\n",
    "sp = spotipy.Spotify(client_credentials_manager=client_credentials_manager) "
   ]
  },
  {
   "cell_type": "markdown",
   "metadata": {},
   "source": [
    "RAP SONG OF THE YEAR"
   ]
  },
  {
   "cell_type": "code",
   "execution_count": 13,
   "metadata": {},
   "outputs": [],
   "source": [
    "df_roy = pd.read_csv(\"./best_rap_song.csv\")"
   ]
  },
  {
   "cell_type": "code",
   "execution_count": 14,
   "metadata": {},
   "outputs": [],
   "source": [
    "feats = ['danceability', 'energy', 'key', 'loudness', 'mode', 'speechiness', 'acousticness', 'instrumentalness', 'liveness', 'valence', 'tempo', 'duration_ms', 'time_signature']\n",
    "song_features = {}\n",
    "for feat in feats:\n",
    "    song_features[feat] = []"
   ]
  },
  {
   "cell_type": "code",
   "execution_count": 15,
   "metadata": {},
   "outputs": [],
   "source": [
    "failed_songs = []"
   ]
  },
  {
   "cell_type": "code",
   "execution_count": 16,
   "metadata": {},
   "outputs": [],
   "source": [
    "for i in range(len(df_roy)):\n",
    "    artist = df_roy.iloc[i][\"artist\"]\n",
    "    track = df_roy.iloc[i][\"song\"]\n",
    "\n",
    "    try:\n",
    "        track_id = sp.search(q='artist:' + artist + ' track:' + track, type='track')['tracks']['items'][0]['id']\n",
    "        features = sp.audio_features(tracks=[track_id])[0]\n",
    "\n",
    "        for feat in feats:\n",
    "            song_features[feat].append(features[feat])\n",
    "    \n",
    "    except:\n",
    "        try:\n",
    "            artist = artist.split(\" \")[0]\n",
    "            track_id = sp.search(q='artist:' + artist + ' track:' + track, type='track')['tracks']['items'][0]['id']\n",
    "            features = sp.audio_features(tracks=[track_id])[0]\n",
    "\n",
    "            for feat in feats:\n",
    "                song_features[feat].append(features[feat])\n",
    "        except:\n",
    "            failed_songs.append(track)\n",
    "            for feat in feats:\n",
    "                song_features[feat].append(111)\n"
   ]
  },
  {
   "cell_type": "code",
   "execution_count": 17,
   "metadata": {},
   "outputs": [],
   "source": [
    "for feat in feats:\n",
    "    df_roy[feat] = song_features[feat]"
   ]
  },
  {
   "cell_type": "code",
   "execution_count": 18,
   "metadata": {},
   "outputs": [],
   "source": [
    "df_roy.to_csv(\"rap_oy_spotify.csv\")"
   ]
  },
  {
   "cell_type": "code",
   "execution_count": null,
   "metadata": {},
   "outputs": [],
   "source": []
  },
  {
   "cell_type": "code",
   "execution_count": 11,
   "metadata": {},
   "outputs": [
    {
     "data": {
      "text/plain": "['Niggas in Paris',\n '99 Problems',\n \"Can't Tell Me Nothing\",\n 'Donnie Trumpet',\n \"King's Dead\",\n 'Bad Idea']"
     },
     "execution_count": 11,
     "metadata": {},
     "output_type": "execute_result"
    }
   ],
   "source": [
    "failed_songs"
   ]
  },
  {
   "cell_type": "code",
   "execution_count": 19,
   "metadata": {},
   "outputs": [],
   "source": [
    "urls = {\n",
    "    \"Niggas in Paris\": \"https://open.spotify.com/track/4Li2WHPkuyCdtmokzW2007?si=65901e742fd748e1\",\n",
    "    \"99 Problems\": \"https://open.spotify.com/track/7sLpSWxQazJzDVG6YGzlVs?si=f4627adc5244404c\",\n",
    "    \"Can't Tell Me Nothing\": \"https://open.spotify.com/track/0mEdbdeRFQwBhN4xfyIeUM?si=f403e73235284c49\",\n",
    "    \"King's Dead\": \"https://open.spotify.com/track/51rXHuKN8Loc4sUlKPODgH?si=1efae022a3144f1d\",\n",
    "    \"Bad Idea\": \"https://open.spotify.com/track/5yK37zazHUe3WxEvymZs20?si=5eaf0d8c663e422e\"\n",
    "}"
   ]
  },
  {
   "cell_type": "code",
   "execution_count": 20,
   "metadata": {},
   "outputs": [],
   "source": [
    "\n",
    "song_features = {}\n",
    "for feat in feats:\n",
    "    song_features[feat] = []"
   ]
  },
  {
   "cell_type": "code",
   "execution_count": 21,
   "metadata": {},
   "outputs": [
    {
     "name": "stdout",
     "output_type": "stream",
     "text": [
      "Niggas in Paris\n",
      "99 Problems\n",
      "Can't Tell Me Nothing\n",
      "King's Dead\n",
      "Bad Idea\n"
     ]
    }
   ],
   "source": [
    "names = []\n",
    "for name in urls.keys():\n",
    "    track_url = urls[name]\n",
    "    track_id = sp.track(track_url)['id']\n",
    "    features = sp.audio_features(track_id)[0]\n",
    "    names.append(name)\n",
    "    print(name)\n",
    "    for feat in feats:\n",
    "        song_features[feat].append(features[feat])"
   ]
  },
  {
   "cell_type": "code",
   "execution_count": 22,
   "metadata": {},
   "outputs": [],
   "source": [
    "df_temp = pd.DataFrame(columns=[\"name\"])\n",
    "df_temp[\"name\"] = names\n",
    "for feat in feats:\n",
    "    df_temp[feat] = song_features[feat]"
   ]
  },
  {
   "cell_type": "code",
   "execution_count": 24,
   "metadata": {},
   "outputs": [],
   "source": [
    "df_temp.to_csv(\"rap_oy_failed.csv\")"
   ]
  },
  {
   "cell_type": "code",
   "execution_count": null,
   "metadata": {},
   "outputs": [],
   "source": []
  },
  {
   "cell_type": "code",
   "execution_count": null,
   "metadata": {},
   "outputs": [],
   "source": []
  },
  {
   "cell_type": "markdown",
   "metadata": {},
   "source": [
    "RECORD OF THE YEAR"
   ]
  },
  {
   "cell_type": "code",
   "execution_count": 5,
   "metadata": {},
   "outputs": [],
   "source": [
    "df_record = pd.read_csv(\"./record_of_the_year_cleaned.csv\")"
   ]
  },
  {
   "cell_type": "code",
   "execution_count": 6,
   "metadata": {},
   "outputs": [],
   "source": [
    "df_record[\"year\"] = df_record[\"year\"]+1"
   ]
  },
  {
   "cell_type": "code",
   "execution_count": 7,
   "metadata": {},
   "outputs": [],
   "source": [
    "feats = ['danceability', 'energy', 'key', 'loudness', 'mode', 'speechiness', 'acousticness', 'instrumentalness', 'liveness', 'valence', 'tempo', 'duration_ms', 'time_signature']\n",
    "song_features = {}\n",
    "for feat in feats:\n",
    "    song_features[feat] = []"
   ]
  },
  {
   "cell_type": "code",
   "execution_count": 8,
   "metadata": {},
   "outputs": [],
   "source": [
    "df_record = df_record[(df_record['year'] >= 1980) & (df_record['year'] <= 2023)]"
   ]
  },
  {
   "cell_type": "code",
   "execution_count": 9,
   "metadata": {},
   "outputs": [],
   "source": [
    "failed_songs = []"
   ]
  },
  {
   "cell_type": "code",
   "execution_count": 10,
   "metadata": {},
   "outputs": [],
   "source": [
    "for i in range(len(df_record)):\n",
    "    artist = df_record.iloc[i][\"artist\"]\n",
    "    track = df_record.iloc[i][\"song\"]\n",
    "\n",
    "    try:\n",
    "        track_id = sp.search(q='artist:' + artist + ' track:' + track, type='track')['tracks']['items'][0]['id']\n",
    "        features = sp.audio_features(tracks=[track_id])[0]\n",
    "\n",
    "        for feat in feats:\n",
    "            song_features[feat].append(features[feat])\n",
    "    \n",
    "    except:\n",
    "        try:\n",
    "            artist = artist.split(\" \")[0]\n",
    "            track_id = sp.search(q='artist:' + artist + ' track:' + track, type='track')['tracks']['items'][0]['id']\n",
    "            features = sp.audio_features(tracks=[track_id])[0]\n",
    "\n",
    "            for feat in feats:\n",
    "                song_features[feat].append(features[feat])\n",
    "        except:\n",
    "            failed_songs.append(track)\n",
    "            for feat in feats:\n",
    "                song_features[feat].append(111)\n"
   ]
  },
  {
   "cell_type": "code",
   "execution_count": 11,
   "metadata": {},
   "outputs": [
    {
     "name": "stderr",
     "output_type": "stream",
     "text": [
      "/home/rushabh/anaconda3/lib/python3.7/site-packages/ipykernel_launcher.py:2: SettingWithCopyWarning: \n",
      "A value is trying to be set on a copy of a slice from a DataFrame.\n",
      "Try using .loc[row_indexer,col_indexer] = value instead\n",
      "\n",
      "See the caveats in the documentation: https://pandas.pydata.org/pandas-docs/stable/user_guide/indexing.html#returning-a-view-versus-a-copy\n",
      "  \n"
     ]
    }
   ],
   "source": [
    "for feat in feats:\n",
    "    df_record[feat] = song_features[feat]"
   ]
  },
  {
   "cell_type": "code",
   "execution_count": 15,
   "metadata": {},
   "outputs": [],
   "source": [
    "df_record[0:10].to_csv(\"1980.csv\")"
   ]
  },
  {
   "cell_type": "code",
   "execution_count": 13,
   "metadata": {},
   "outputs": [
    {
     "data": {
      "text/plain": "['Harvest Moon ',\n \"I'll Make Love To You \",\n \"You're Still The One \",\n \"Don't Know Why\",\n 'Not Ready To Make Nice',\n 'Really Love',\n 'Leave The Door Open',\n \"Don't Shut Me Down\"]"
     },
     "execution_count": 13,
     "metadata": {},
     "output_type": "execute_result"
    }
   ],
   "source": [
    "failed_songs"
   ]
  },
  {
   "cell_type": "code",
   "execution_count": 24,
   "metadata": {},
   "outputs": [],
   "source": [
    "df_record.to_csv(\"record_of_the_year_spotify.csv\")"
   ]
  },
  {
   "cell_type": "code",
   "execution_count": 25,
   "metadata": {},
   "outputs": [],
   "source": [
    "urls = {\n",
    "    \"Harvest Moon\": \"https://open.spotify.com/track/2nekCvC9XRXQckWNnkIp2l?si=e0d7f0167b584422\",\n",
    "    \"I'll Make Love To You\": \"https://open.spotify.com/track/7dfl9X38RhIvB3oSmmneq3?si=4afb205786be41cb\",\n",
    "    \"Because You Loved Me\": \"https://open.spotify.com/track/28UMiBhn383n9S7GL4tsxD?si=74d56993818f47a8\",\n",
    "    \"You're Still The One\": \"https://open.spotify.com/track/1wb4P4F0sxAQ2KXrRvsx6n?si=7ce1c510a5de4588\",\n",
    "    \"Don't Know Why\": \"https://open.spotify.com/track/1zNXF2svmdlNxfS5XeNUgr?si=cc11f4960dc64301\",\n",
    "    \"Not Ready To Make Nice\": \"https://open.spotify.com/track/6LCEyZZHFF4ebF1Mike1s5?si=ea61ac78f8024bff\",\n",
    "    \"Really Love\": \"https://open.spotify.com/track/2RcanAJpudPNDkyIe9DzKS?si=c91c7fd103d64d22\",\n",
    "    \"Leave The Door Open\": \"https://open.spotify.com/track/02VBYrHfVwfEWXk5DXyf0T?si=aea8d93bca624202\",\n",
    "    \"Don't Shut Me Down\": \"https://open.spotify.com/track/2AHnmlkyZbnxqSA66B7jK3?si=cb9e0631efd84b1c\"\n",
    "}"
   ]
  },
  {
   "cell_type": "code",
   "execution_count": 26,
   "metadata": {},
   "outputs": [],
   "source": [
    "song_features = {}\n",
    "for feat in feats:\n",
    "    song_features[feat] = []"
   ]
  },
  {
   "cell_type": "code",
   "execution_count": 27,
   "metadata": {},
   "outputs": [
    {
     "name": "stdout",
     "output_type": "stream",
     "text": [
      "Harvest Moon\n",
      "I'll Make Love To You\n",
      "Because You Loved Me\n",
      "You're Still The One\n",
      "Don't Know Why\n",
      "Not Ready To Make Nice\n",
      "Really Love\n",
      "Leave The Door Open\n",
      "Don't Shut Me Down\n"
     ]
    }
   ],
   "source": [
    "names = []\n",
    "for name in urls.keys():\n",
    "    track_url = urls[name]\n",
    "    track_id = sp.track(track_url)['id']\n",
    "    features = sp.audio_features(track_id)[0]\n",
    "    names.append(name)\n",
    "    print(name)\n",
    "    for feat in feats:\n",
    "        song_features[feat].append(features[feat])"
   ]
  },
  {
   "cell_type": "code",
   "execution_count": 28,
   "metadata": {},
   "outputs": [],
   "source": [
    "df_temp = pd.DataFrame(columns=[\"name\"])\n",
    "df_temp[\"name\"] = names\n",
    "for feat in feats:\n",
    "    df_temp[feat] = song_features[feat]"
   ]
  },
  {
   "cell_type": "code",
   "execution_count": 29,
   "metadata": {},
   "outputs": [],
   "source": [
    "df_temp.to_csv(\"record_failed.csv\")"
   ]
  },
  {
   "cell_type": "code",
   "execution_count": null,
   "metadata": {},
   "outputs": [],
   "source": []
  },
  {
   "cell_type": "code",
   "execution_count": null,
   "metadata": {},
   "outputs": [],
   "source": []
  },
  {
   "cell_type": "code",
   "execution_count": null,
   "metadata": {},
   "outputs": [],
   "source": []
  },
  {
   "cell_type": "code",
   "execution_count": 4,
   "metadata": {},
   "outputs": [],
   "source": [
    "df_soy = pd.read_csv(\"./song_of_the_year.csv\")"
   ]
  },
  {
   "cell_type": "code",
   "execution_count": 5,
   "metadata": {},
   "outputs": [
    {
     "data": {
      "text/html": "<div>\n<style scoped>\n    .dataframe tbody tr th:only-of-type {\n        vertical-align: middle;\n    }\n\n    .dataframe tbody tr th {\n        vertical-align: top;\n    }\n\n    .dataframe thead th {\n        text-align: right;\n    }\n</style>\n<table border=\"1\" class=\"dataframe\">\n  <thead>\n    <tr style=\"text-align: right;\">\n      <th></th>\n      <th>year</th>\n      <th>award category</th>\n      <th>song</th>\n      <th>artist</th>\n      <th>wasWinner</th>\n    </tr>\n  </thead>\n  <tbody>\n    <tr>\n      <th>0</th>\n      <td>1959</td>\n      <td>Song of the Year</td>\n      <td>Nel blu dipinto di blu (Volare)</td>\n      <td>Domenico Modugno</td>\n      <td>yes</td>\n    </tr>\n    <tr>\n      <th>1</th>\n      <td>1960</td>\n      <td>Song of the Year</td>\n      <td>The Battle of New Orleans</td>\n      <td>Johnny Horton</td>\n      <td>yes</td>\n    </tr>\n    <tr>\n      <th>2</th>\n      <td>1961</td>\n      <td>Song of the Year</td>\n      <td>Theme of Exodus</td>\n      <td>Instrumental (Various Artists)</td>\n      <td>yes</td>\n    </tr>\n    <tr>\n      <th>3</th>\n      <td>1962</td>\n      <td>Song of the Year</td>\n      <td>Moon River</td>\n      <td>Henry Mancini</td>\n      <td>yes</td>\n    </tr>\n    <tr>\n      <th>4</th>\n      <td>1963</td>\n      <td>Song of the Year</td>\n      <td>What Kind of Fool Am I?</td>\n      <td>Sammy Davis Jr.</td>\n      <td>yes</td>\n    </tr>\n  </tbody>\n</table>\n</div>",
      "text/plain": "   year    award category                             song  \\\n0  1959  Song of the Year  Nel blu dipinto di blu (Volare)   \n1  1960  Song of the Year        The Battle of New Orleans   \n2  1961  Song of the Year                  Theme of Exodus   \n3  1962  Song of the Year                       Moon River   \n4  1963  Song of the Year          What Kind of Fool Am I?   \n\n                           artist wasWinner  \n0                Domenico Modugno       yes  \n1                   Johnny Horton       yes  \n2  Instrumental (Various Artists)       yes  \n3                   Henry Mancini       yes  \n4                 Sammy Davis Jr.       yes  "
     },
     "execution_count": 5,
     "metadata": {},
     "output_type": "execute_result"
    }
   ],
   "source": [
    "df_soy.head()"
   ]
  },
  {
   "cell_type": "code",
   "execution_count": 6,
   "metadata": {},
   "outputs": [],
   "source": [
    "df_soy = df_soy[(df_soy['year'] >= 1980) & (df_soy['year'] <= 2023)]"
   ]
  },
  {
   "cell_type": "code",
   "execution_count": 7,
   "metadata": {},
   "outputs": [
    {
     "data": {
      "text/html": "<div>\n<style scoped>\n    .dataframe tbody tr th:only-of-type {\n        vertical-align: middle;\n    }\n\n    .dataframe tbody tr th {\n        vertical-align: top;\n    }\n\n    .dataframe thead th {\n        text-align: right;\n    }\n</style>\n<table border=\"1\" class=\"dataframe\">\n  <thead>\n    <tr style=\"text-align: right;\">\n      <th></th>\n      <th>year</th>\n      <th>award category</th>\n      <th>song</th>\n      <th>artist</th>\n      <th>wasWinner</th>\n    </tr>\n  </thead>\n  <tbody>\n    <tr>\n      <th>22</th>\n      <td>1980</td>\n      <td>Song of the Year</td>\n      <td>What a Fool Believes</td>\n      <td>The Doobie Brothers</td>\n      <td>yes</td>\n    </tr>\n    <tr>\n      <th>23</th>\n      <td>1981</td>\n      <td>Song of the Year</td>\n      <td>Sailing</td>\n      <td>Christopher Cross</td>\n      <td>yes</td>\n    </tr>\n    <tr>\n      <th>24</th>\n      <td>1982</td>\n      <td>Song of the Year</td>\n      <td>Bette Davis Eyes</td>\n      <td>Kim Carnes</td>\n      <td>yes</td>\n    </tr>\n    <tr>\n      <th>25</th>\n      <td>1983</td>\n      <td>Song of the Year</td>\n      <td>Always on My Mind</td>\n      <td>Willie Nelson</td>\n      <td>yes</td>\n    </tr>\n    <tr>\n      <th>26</th>\n      <td>1984</td>\n      <td>Song of the Year</td>\n      <td>Every Breath You Take</td>\n      <td>The Police</td>\n      <td>yes</td>\n    </tr>\n    <tr>\n      <th>...</th>\n      <td>...</td>\n      <td>...</td>\n      <td>...</td>\n      <td>...</td>\n      <td>...</td>\n    </tr>\n    <tr>\n      <th>344</th>\n      <td>2023</td>\n      <td>Song of the Year</td>\n      <td>Bad Habit</td>\n      <td>Steve Lacy</td>\n      <td>no</td>\n    </tr>\n    <tr>\n      <th>345</th>\n      <td>2023</td>\n      <td>Song of the Year</td>\n      <td>The-Dream</td>\n      <td>Beyoncé</td>\n      <td>no</td>\n    </tr>\n    <tr>\n      <th>346</th>\n      <td>2023</td>\n      <td>Song of the Year</td>\n      <td>Easy on Me</td>\n      <td>Adele</td>\n      <td>no</td>\n    </tr>\n    <tr>\n      <th>347</th>\n      <td>2023</td>\n      <td>Song of the Year</td>\n      <td>God Did</td>\n      <td>DJ Khaled</td>\n      <td>no</td>\n    </tr>\n    <tr>\n      <th>348</th>\n      <td>2023</td>\n      <td>Song of the Year</td>\n      <td>The Heart Part 5</td>\n      <td>Kendrick Lamar</td>\n      <td>no</td>\n    </tr>\n  </tbody>\n</table>\n<p>243 rows × 5 columns</p>\n</div>",
      "text/plain": "     year    award category                   song               artist  \\\n22   1980  Song of the Year   What a Fool Believes  The Doobie Brothers   \n23   1981  Song of the Year                Sailing    Christopher Cross   \n24   1982  Song of the Year       Bette Davis Eyes           Kim Carnes   \n25   1983  Song of the Year      Always on My Mind        Willie Nelson   \n26   1984  Song of the Year  Every Breath You Take           The Police   \n..    ...               ...                    ...                  ...   \n344  2023  Song of the Year              Bad Habit           Steve Lacy   \n345  2023  Song of the Year              The-Dream              Beyoncé   \n346  2023  Song of the Year             Easy on Me                Adele   \n347  2023  Song of the Year                God Did           DJ Khaled    \n348  2023  Song of the Year       The Heart Part 5       Kendrick Lamar   \n\n    wasWinner  \n22        yes  \n23        yes  \n24        yes  \n25        yes  \n26        yes  \n..        ...  \n344        no  \n345        no  \n346        no  \n347        no  \n348        no  \n\n[243 rows x 5 columns]"
     },
     "execution_count": 7,
     "metadata": {},
     "output_type": "execute_result"
    }
   ],
   "source": [
    "df_soy"
   ]
  },
  {
   "cell_type": "code",
   "execution_count": 29,
   "metadata": {},
   "outputs": [
    {
     "data": {
      "text/plain": "'Smooth'"
     },
     "execution_count": 29,
     "metadata": {},
     "output_type": "execute_result"
    }
   ],
   "source": [
    "df_soy.iloc[0][\"song\"]"
   ]
  },
  {
   "cell_type": "code",
   "execution_count": 13,
   "metadata": {},
   "outputs": [],
   "source": [
    "feats = ['danceability', 'energy', 'key', 'loudness', 'mode', 'speechiness', 'acousticness', 'instrumentalness', 'liveness', 'valence', 'tempo', 'duration_ms', 'time_signature']"
   ]
  },
  {
   "cell_type": "code",
   "execution_count": 14,
   "metadata": {},
   "outputs": [],
   "source": [
    "song_features = {}\n",
    "for feat in feats:\n",
    "    song_features[feat] = []"
   ]
  },
  {
   "cell_type": "code",
   "execution_count": 15,
   "metadata": {},
   "outputs": [],
   "source": [
    "failed_songs = []"
   ]
  },
  {
   "cell_type": "code",
   "execution_count": 16,
   "metadata": {},
   "outputs": [],
   "source": [
    "for i in range(len(df_soy)):\n",
    "    artist = df_soy.iloc[i][\"artist\"]\n",
    "    track = df_soy.iloc[i][\"song\"]\n",
    "\n",
    "    try:\n",
    "        track_id = sp.search(q='artist:' + artist + ' track:' + track, type='track')['tracks']['items'][0]['id']\n",
    "        features = sp.audio_features(tracks=[track_id])[0]\n",
    "\n",
    "        for feat in feats:\n",
    "            song_features[feat].append(features[feat])\n",
    "    \n",
    "    except:\n",
    "        try:\n",
    "            artist = artist.split(\" \")[0]\n",
    "            track_id = sp.search(q='artist:' + artist + ' track:' + track, type='track')['tracks']['items'][0]['id']\n",
    "            features = sp.audio_features(tracks=[track_id])[0]\n",
    "\n",
    "            for feat in feats:\n",
    "                song_features[feat].append(features[feat])\n",
    "        except:\n",
    "            failed_songs.append(track)\n",
    "            for feat in feats:\n",
    "                song_features[feat].append(111)\n"
   ]
  },
  {
   "cell_type": "code",
   "execution_count": 17,
   "metadata": {},
   "outputs": [
    {
     "data": {
      "text/plain": "[\"Don't Know Why\",\n 'Not Ready to Make Nice',\n 'Leave the Door Open',\n 'Endless Love',\n 'I.G.Y. (What a Beautiful World)',\n \"Didn't We Almost Have It All\",\n \"Don't Know Much\",\n \"I'd Do Anything for Love (But I Won't Do That)\",\n 'Harvest Moon',\n 'I Swear',\n 'I Can Love You Like That',\n 'Babyface',\n \"Don't Speak\",\n 'How Do I Live',\n \"You're Still the One\",\n 'T-Boz',\n \"You've Got a Way\",\n 'Six July',\n \"I'm Like a Bird\",\n 'Despacito',\n '1-800-273-8255',\n \"Boo'd Up\",\n 'Kaydence',\n 'A Beautiful Noise',\n 'Fury']"
     },
     "execution_count": 17,
     "metadata": {},
     "output_type": "execute_result"
    }
   ],
   "source": [
    "failed_songs"
   ]
  },
  {
   "cell_type": "code",
   "execution_count": null,
   "metadata": {},
   "outputs": [],
   "source": []
  },
  {
   "cell_type": "code",
   "execution_count": 18,
   "metadata": {},
   "outputs": [],
   "source": [
    "for feat in feats:\n",
    "    df_soy[feat] = song_features[feat]"
   ]
  },
  {
   "cell_type": "code",
   "execution_count": 19,
   "metadata": {},
   "outputs": [
    {
     "data": {
      "text/html": "<div>\n<style scoped>\n    .dataframe tbody tr th:only-of-type {\n        vertical-align: middle;\n    }\n\n    .dataframe tbody tr th {\n        vertical-align: top;\n    }\n\n    .dataframe thead th {\n        text-align: right;\n    }\n</style>\n<table border=\"1\" class=\"dataframe\">\n  <thead>\n    <tr style=\"text-align: right;\">\n      <th></th>\n      <th>year</th>\n      <th>award category</th>\n      <th>song</th>\n      <th>artist</th>\n      <th>wasWinner</th>\n      <th>danceability</th>\n      <th>energy</th>\n      <th>key</th>\n      <th>loudness</th>\n      <th>mode</th>\n      <th>speechiness</th>\n      <th>acousticness</th>\n      <th>instrumentalness</th>\n      <th>liveness</th>\n      <th>valence</th>\n      <th>tempo</th>\n      <th>duration_ms</th>\n      <th>time_signature</th>\n    </tr>\n  </thead>\n  <tbody>\n    <tr>\n      <th>22</th>\n      <td>1980</td>\n      <td>Song of the Year</td>\n      <td>What a Fool Believes</td>\n      <td>The Doobie Brothers</td>\n      <td>yes</td>\n      <td>0.758</td>\n      <td>0.378</td>\n      <td>8</td>\n      <td>-15.308</td>\n      <td>0</td>\n      <td>0.0449</td>\n      <td>0.2840</td>\n      <td>0.000000</td>\n      <td>0.0490</td>\n      <td>0.985</td>\n      <td>120.736</td>\n      <td>223867</td>\n      <td>4</td>\n    </tr>\n    <tr>\n      <th>23</th>\n      <td>1981</td>\n      <td>Song of the Year</td>\n      <td>Sailing</td>\n      <td>Christopher Cross</td>\n      <td>yes</td>\n      <td>0.480</td>\n      <td>0.191</td>\n      <td>9</td>\n      <td>-20.594</td>\n      <td>1</td>\n      <td>0.0341</td>\n      <td>0.6430</td>\n      <td>0.000144</td>\n      <td>0.2630</td>\n      <td>0.187</td>\n      <td>149.125</td>\n      <td>258867</td>\n      <td>4</td>\n    </tr>\n    <tr>\n      <th>24</th>\n      <td>1982</td>\n      <td>Song of the Year</td>\n      <td>Bette Davis Eyes</td>\n      <td>Kim Carnes</td>\n      <td>yes</td>\n      <td>0.675</td>\n      <td>0.649</td>\n      <td>5</td>\n      <td>-10.271</td>\n      <td>1</td>\n      <td>0.0319</td>\n      <td>0.0204</td>\n      <td>0.000000</td>\n      <td>0.0959</td>\n      <td>0.596</td>\n      <td>116.624</td>\n      <td>228000</td>\n      <td>4</td>\n    </tr>\n    <tr>\n      <th>25</th>\n      <td>1983</td>\n      <td>Song of the Year</td>\n      <td>Always on My Mind</td>\n      <td>Willie Nelson</td>\n      <td>yes</td>\n      <td>0.524</td>\n      <td>0.261</td>\n      <td>2</td>\n      <td>-13.868</td>\n      <td>1</td>\n      <td>0.0272</td>\n      <td>0.7550</td>\n      <td>0.001050</td>\n      <td>0.1440</td>\n      <td>0.201</td>\n      <td>73.360</td>\n      <td>212667</td>\n      <td>4</td>\n    </tr>\n    <tr>\n      <th>26</th>\n      <td>1984</td>\n      <td>Song of the Year</td>\n      <td>Every Breath You Take</td>\n      <td>The Police</td>\n      <td>yes</td>\n      <td>0.820</td>\n      <td>0.452</td>\n      <td>1</td>\n      <td>-9.796</td>\n      <td>1</td>\n      <td>0.0348</td>\n      <td>0.5430</td>\n      <td>0.002940</td>\n      <td>0.0714</td>\n      <td>0.740</td>\n      <td>117.401</td>\n      <td>253920</td>\n      <td>4</td>\n    </tr>\n    <tr>\n      <th>...</th>\n      <td>...</td>\n      <td>...</td>\n      <td>...</td>\n      <td>...</td>\n      <td>...</td>\n      <td>...</td>\n      <td>...</td>\n      <td>...</td>\n      <td>...</td>\n      <td>...</td>\n      <td>...</td>\n      <td>...</td>\n      <td>...</td>\n      <td>...</td>\n      <td>...</td>\n      <td>...</td>\n      <td>...</td>\n      <td>...</td>\n    </tr>\n    <tr>\n      <th>344</th>\n      <td>2023</td>\n      <td>Song of the Year</td>\n      <td>Bad Habit</td>\n      <td>Steve Lacy</td>\n      <td>no</td>\n      <td>0.686</td>\n      <td>0.507</td>\n      <td>1</td>\n      <td>-7.097</td>\n      <td>1</td>\n      <td>0.0357</td>\n      <td>0.6260</td>\n      <td>0.000075</td>\n      <td>0.3830</td>\n      <td>0.690</td>\n      <td>168.955</td>\n      <td>232115</td>\n      <td>4</td>\n    </tr>\n    <tr>\n      <th>345</th>\n      <td>2023</td>\n      <td>Song of the Year</td>\n      <td>The-Dream</td>\n      <td>Beyoncé</td>\n      <td>no</td>\n      <td>0.432</td>\n      <td>0.637</td>\n      <td>11</td>\n      <td>-3.905</td>\n      <td>1</td>\n      <td>0.0475</td>\n      <td>0.4160</td>\n      <td>0.000000</td>\n      <td>0.1130</td>\n      <td>0.187</td>\n      <td>122.394</td>\n      <td>219547</td>\n      <td>4</td>\n    </tr>\n    <tr>\n      <th>346</th>\n      <td>2023</td>\n      <td>Song of the Year</td>\n      <td>Easy on Me</td>\n      <td>Adele</td>\n      <td>no</td>\n      <td>0.604</td>\n      <td>0.366</td>\n      <td>5</td>\n      <td>-7.519</td>\n      <td>1</td>\n      <td>0.0282</td>\n      <td>0.5780</td>\n      <td>0.000000</td>\n      <td>0.1330</td>\n      <td>0.130</td>\n      <td>141.981</td>\n      <td>224695</td>\n      <td>4</td>\n    </tr>\n    <tr>\n      <th>347</th>\n      <td>2023</td>\n      <td>Song of the Year</td>\n      <td>God Did</td>\n      <td>DJ Khaled</td>\n      <td>no</td>\n      <td>0.420</td>\n      <td>0.725</td>\n      <td>8</td>\n      <td>-4.262</td>\n      <td>1</td>\n      <td>0.2230</td>\n      <td>0.0920</td>\n      <td>0.000000</td>\n      <td>0.1800</td>\n      <td>0.186</td>\n      <td>77.941</td>\n      <td>501648</td>\n      <td>1</td>\n    </tr>\n    <tr>\n      <th>348</th>\n      <td>2023</td>\n      <td>Song of the Year</td>\n      <td>The Heart Part 5</td>\n      <td>Kendrick Lamar</td>\n      <td>no</td>\n      <td>0.700</td>\n      <td>0.812</td>\n      <td>1</td>\n      <td>-8.128</td>\n      <td>0</td>\n      <td>0.2970</td>\n      <td>0.1830</td>\n      <td>0.000000</td>\n      <td>0.0756</td>\n      <td>0.801</td>\n      <td>97.405</td>\n      <td>332229</td>\n      <td>4</td>\n    </tr>\n  </tbody>\n</table>\n<p>243 rows × 18 columns</p>\n</div>",
      "text/plain": "     year    award category                   song               artist  \\\n22   1980  Song of the Year   What a Fool Believes  The Doobie Brothers   \n23   1981  Song of the Year                Sailing    Christopher Cross   \n24   1982  Song of the Year       Bette Davis Eyes           Kim Carnes   \n25   1983  Song of the Year      Always on My Mind        Willie Nelson   \n26   1984  Song of the Year  Every Breath You Take           The Police   \n..    ...               ...                    ...                  ...   \n344  2023  Song of the Year              Bad Habit           Steve Lacy   \n345  2023  Song of the Year              The-Dream              Beyoncé   \n346  2023  Song of the Year             Easy on Me                Adele   \n347  2023  Song of the Year                God Did           DJ Khaled    \n348  2023  Song of the Year       The Heart Part 5       Kendrick Lamar   \n\n    wasWinner  danceability  energy  key  loudness  mode  speechiness  \\\n22        yes         0.758   0.378    8   -15.308     0       0.0449   \n23        yes         0.480   0.191    9   -20.594     1       0.0341   \n24        yes         0.675   0.649    5   -10.271     1       0.0319   \n25        yes         0.524   0.261    2   -13.868     1       0.0272   \n26        yes         0.820   0.452    1    -9.796     1       0.0348   \n..        ...           ...     ...  ...       ...   ...          ...   \n344        no         0.686   0.507    1    -7.097     1       0.0357   \n345        no         0.432   0.637   11    -3.905     1       0.0475   \n346        no         0.604   0.366    5    -7.519     1       0.0282   \n347        no         0.420   0.725    8    -4.262     1       0.2230   \n348        no         0.700   0.812    1    -8.128     0       0.2970   \n\n     acousticness  instrumentalness  liveness  valence    tempo  duration_ms  \\\n22         0.2840          0.000000    0.0490    0.985  120.736       223867   \n23         0.6430          0.000144    0.2630    0.187  149.125       258867   \n24         0.0204          0.000000    0.0959    0.596  116.624       228000   \n25         0.7550          0.001050    0.1440    0.201   73.360       212667   \n26         0.5430          0.002940    0.0714    0.740  117.401       253920   \n..            ...               ...       ...      ...      ...          ...   \n344        0.6260          0.000075    0.3830    0.690  168.955       232115   \n345        0.4160          0.000000    0.1130    0.187  122.394       219547   \n346        0.5780          0.000000    0.1330    0.130  141.981       224695   \n347        0.0920          0.000000    0.1800    0.186   77.941       501648   \n348        0.1830          0.000000    0.0756    0.801   97.405       332229   \n\n     time_signature  \n22                4  \n23                4  \n24                4  \n25                4  \n26                4  \n..              ...  \n344               4  \n345               4  \n346               4  \n347               1  \n348               4  \n\n[243 rows x 18 columns]"
     },
     "execution_count": 19,
     "metadata": {},
     "output_type": "execute_result"
    }
   ],
   "source": [
    "df_soy"
   ]
  },
  {
   "cell_type": "code",
   "execution_count": 20,
   "metadata": {},
   "outputs": [
    {
     "data": {
      "text/plain": "0      28\n5      26\n7      25\n111    25\n1      22\n2      21\n9      19\n10     17\n4      16\n6      13\n8      12\n11     12\n3       7\nName: key, dtype: int64"
     },
     "execution_count": 20,
     "metadata": {},
     "output_type": "execute_result"
    }
   ],
   "source": [
    "df_soy[\"key\"].value_counts()"
   ]
  },
  {
   "cell_type": "code",
   "execution_count": 21,
   "metadata": {},
   "outputs": [],
   "source": [
    "df_soy.to_csv(\"soy_spotify.csv\")"
   ]
  },
  {
   "cell_type": "code",
   "execution_count": 22,
   "metadata": {},
   "outputs": [
    {
     "data": {
      "text/plain": "[\"Don't Know Why\",\n 'Not Ready to Make Nice',\n 'Leave the Door Open',\n 'Endless Love',\n 'I.G.Y. (What a Beautiful World)',\n \"Didn't We Almost Have It All\",\n \"Don't Know Much\",\n \"I'd Do Anything for Love (But I Won't Do That)\",\n 'Harvest Moon',\n 'I Swear',\n 'I Can Love You Like That',\n 'Babyface',\n \"Don't Speak\",\n 'How Do I Live',\n \"You're Still the One\",\n 'T-Boz',\n \"You've Got a Way\",\n 'Six July',\n \"I'm Like a Bird\",\n 'Despacito',\n '1-800-273-8255',\n \"Boo'd Up\",\n 'Kaydence',\n 'A Beautiful Noise',\n 'Fury']"
     },
     "execution_count": 22,
     "metadata": {},
     "output_type": "execute_result"
    }
   ],
   "source": [
    "failed_songs"
   ]
  },
  {
   "cell_type": "code",
   "execution_count": 53,
   "metadata": {},
   "outputs": [],
   "source": [
    "urls = {\n",
    "    \"Don't Know Why\": \"https://open.spotify.com/track/1zNXF2svmdlNxfS5XeNUgr?si=2b066f68faa345ac\",\n",
    "    \"Not Ready to Make Nice\": \"https://open.spotify.com/track/6LCEyZZHFF4ebF1Mike1s5?si=cd932836934044a8\",\n",
    "    \"Leave the Door Open\": \"https://open.spotify.com/track/02VBYrHfVwfEWXk5DXyf0T?si=48a6de875fbf41a7\",\n",
    "    \"Endless Love\": \"https://open.spotify.com/track/5iwyLsQ5yjnCaRrJGyAPZM?si=6234d4cd4221461a\",\n",
    "    \"I.G.Y. (What a Beautiful World)\": \"https://open.spotify.com/track/6bzwsAtj4TqaBysLDrGiO3?si=e11af2e329f04235\",\n",
    "    \"Didn't We Almost Have It All\": \"https://open.spotify.com/track/19wadMw1A8XejDV4p5wMt1?si=3ba0a2ba9d984b47\",\n",
    "    \"Don't Know Much\": \"https://open.spotify.com/track/5z3ZDMP02xF33yCvPFnct3?si=01f04dc8e7314ccd\",\n",
    "    \"I'd Do Anything for Love (But I Won't Do That)\": \"https://open.spotify.com/track/4UrgDocbHywDZv2f3mBhCq?si=fef3a720aec04e72\",\n",
    "    \"Harvest Moon\": \"https://open.spotify.com/track/2nekCvC9XRXQckWNnkIp2l?si=f0877ea389d048ea\",\n",
    "    \"I Swear\": \"https://open.spotify.com/track/4WUnM4KNZ0kjp0CUeoyOnS?si=9064adfbe8c7458e\",\n",
    "    \"I Can Love You Like That\": \"https://open.spotify.com/track/70d8omRI2p7qesFOiy55Ro?si=43c8eba56f7c4221\",\n",
    "    \"Don't Speak\": \"https://open.spotify.com/track/6urCAbunOQI4bLhmGpX7iS?si=2a055a4d59984872\",\n",
    "    \"How Do I Live\": \"https://open.spotify.com/track/7BD50ATrF3Vab5FQy7vtK8?si=c4c61353d9364a80\",\n",
    "    \"You're Still the One\": \"https://open.spotify.com/track/1wb4P4F0sxAQ2KXrRvsx6n?si=cbede566a423495a\",\n",
    "    \"You've Got a Way\": \"https://open.spotify.com/track/4FpYzosLDCvIuX7mS6qX3q?si=a8497a0adf384eff\",\n",
    "    \"I'm Like a Bird\": \"https://open.spotify.com/track/2aGw77pZqli064JiPuXYRi?si=8fabb7a4e211403c\",\n",
    "    \"Despacito\": \"https://open.spotify.com/track/6habFhsOp2NvshLv26DqMb?si=a960776157aa49fb\",\n",
    "    \"1-800-273-8255\": \"https://open.spotify.com/track/5tz69p7tJuGPeMGwNTxYuV?si=0cc987872f4546d7\",\n",
    "    \"Boo'd Up\": \"https://open.spotify.com/track/0At2qAoaVjIwWNAqrscXli?si=87b24f237672420b\",\n",
    "    \"A Beautiful Noise\": \"https://open.spotify.com/track/28m84EzeAOlqrJQ3GHzs8C?si=c280fad86ee34f7e\",\n",
    "    \"Peaches\": \"https://open.spotify.com/track/4iJyoBOLtHqaGxP12qzhQI?si=cf913ae2552b4813\",  \n",
    "}"
   ]
  },
  {
   "cell_type": "code",
   "execution_count": 59,
   "metadata": {},
   "outputs": [],
   "source": [
    "feats = ['danceability', 'energy', 'key', 'loudness', 'mode', 'speechiness', 'acousticness', 'instrumentalness', 'liveness', 'valence', 'tempo', 'duration_ms', 'time_signature']"
   ]
  },
  {
   "cell_type": "code",
   "execution_count": 56,
   "metadata": {},
   "outputs": [],
   "source": [
    "song_features = {}\n",
    "for feat in feats:\n",
    "    song_features[feat] = []"
   ]
  },
  {
   "cell_type": "code",
   "execution_count": null,
   "metadata": {},
   "outputs": [],
   "source": []
  },
  {
   "cell_type": "code",
   "execution_count": 61,
   "metadata": {},
   "outputs": [
    {
     "name": "stdout",
     "output_type": "stream",
     "text": [
      "Don't Know Why\n",
      "Not Ready to Make Nice\n",
      "Leave the Door Open\n",
      "Endless Love\n",
      "I.G.Y. (What a Beautiful World)\n",
      "Didn't We Almost Have It All\n",
      "Don't Know Much\n",
      "I'd Do Anything for Love (But I Won't Do That)\n",
      "Harvest Moon\n",
      "I Swear\n",
      "I Can Love You Like That\n",
      "Don't Speak\n",
      "How Do I Live\n",
      "You're Still the One\n",
      "You've Got a Way\n",
      "I'm Like a Bird\n",
      "Despacito\n",
      "1-800-273-8255\n",
      "Boo'd Up\n",
      "A Beautiful Noise\n",
      "Peaches\n"
     ]
    }
   ],
   "source": [
    "names = []\n",
    "for name in urls.keys():\n",
    "    track_url = urls[name]\n",
    "    track_id = sp.track(track_url)['id']\n",
    "    features = sp.audio_features(track_id)[0]\n",
    "    names.append(name)\n",
    "    print(name)\n",
    "    for feat in feats:\n",
    "        song_features[feat].append(features[feat])"
   ]
  },
  {
   "cell_type": "code",
   "execution_count": 64,
   "metadata": {},
   "outputs": [],
   "source": [
    "df_temp = pd.DataFrame(columns=[\"name\"])\n",
    "df_temp[\"name\"] = names"
   ]
  },
  {
   "cell_type": "code",
   "execution_count": 65,
   "metadata": {},
   "outputs": [
    {
     "data": {
      "text/html": "<div>\n<style scoped>\n    .dataframe tbody tr th:only-of-type {\n        vertical-align: middle;\n    }\n\n    .dataframe tbody tr th {\n        vertical-align: top;\n    }\n\n    .dataframe thead th {\n        text-align: right;\n    }\n</style>\n<table border=\"1\" class=\"dataframe\">\n  <thead>\n    <tr style=\"text-align: right;\">\n      <th></th>\n      <th>name</th>\n    </tr>\n  </thead>\n  <tbody>\n    <tr>\n      <th>0</th>\n      <td>Don't Know Why</td>\n    </tr>\n    <tr>\n      <th>1</th>\n      <td>Not Ready to Make Nice</td>\n    </tr>\n    <tr>\n      <th>2</th>\n      <td>Leave the Door Open</td>\n    </tr>\n    <tr>\n      <th>3</th>\n      <td>Endless Love</td>\n    </tr>\n    <tr>\n      <th>4</th>\n      <td>I.G.Y. (What a Beautiful World)</td>\n    </tr>\n    <tr>\n      <th>5</th>\n      <td>Didn't We Almost Have It All</td>\n    </tr>\n    <tr>\n      <th>6</th>\n      <td>Don't Know Much</td>\n    </tr>\n    <tr>\n      <th>7</th>\n      <td>I'd Do Anything for Love (But I Won't Do That)</td>\n    </tr>\n    <tr>\n      <th>8</th>\n      <td>Harvest Moon</td>\n    </tr>\n    <tr>\n      <th>9</th>\n      <td>I Swear</td>\n    </tr>\n    <tr>\n      <th>10</th>\n      <td>I Can Love You Like That</td>\n    </tr>\n    <tr>\n      <th>11</th>\n      <td>Don't Speak</td>\n    </tr>\n    <tr>\n      <th>12</th>\n      <td>How Do I Live</td>\n    </tr>\n    <tr>\n      <th>13</th>\n      <td>You're Still the One</td>\n    </tr>\n    <tr>\n      <th>14</th>\n      <td>You've Got a Way</td>\n    </tr>\n    <tr>\n      <th>15</th>\n      <td>I'm Like a Bird</td>\n    </tr>\n    <tr>\n      <th>16</th>\n      <td>Despacito</td>\n    </tr>\n    <tr>\n      <th>17</th>\n      <td>1-800-273-8255</td>\n    </tr>\n    <tr>\n      <th>18</th>\n      <td>Boo'd Up</td>\n    </tr>\n    <tr>\n      <th>19</th>\n      <td>A Beautiful Noise</td>\n    </tr>\n    <tr>\n      <th>20</th>\n      <td>Peaches</td>\n    </tr>\n  </tbody>\n</table>\n</div>",
      "text/plain": "                                              name\n0                                   Don't Know Why\n1                           Not Ready to Make Nice\n2                              Leave the Door Open\n3                                     Endless Love\n4                  I.G.Y. (What a Beautiful World)\n5                     Didn't We Almost Have It All\n6                                  Don't Know Much\n7   I'd Do Anything for Love (But I Won't Do That)\n8                                     Harvest Moon\n9                                          I Swear\n10                        I Can Love You Like That\n11                                     Don't Speak\n12                                   How Do I Live\n13                            You're Still the One\n14                                You've Got a Way\n15                                 I'm Like a Bird\n16                                       Despacito\n17                                  1-800-273-8255\n18                                        Boo'd Up\n19                               A Beautiful Noise\n20                                         Peaches"
     },
     "execution_count": 65,
     "metadata": {},
     "output_type": "execute_result"
    }
   ],
   "source": [
    "df_temp"
   ]
  },
  {
   "cell_type": "code",
   "execution_count": 67,
   "metadata": {},
   "outputs": [],
   "source": [
    "for feat in feats:\n",
    "    df_temp[feat] = song_features[feat]"
   ]
  },
  {
   "cell_type": "code",
   "execution_count": 69,
   "metadata": {},
   "outputs": [],
   "source": [
    "df_temp.to_csv(\"failed_soy.csv\")"
   ]
  },
  {
   "cell_type": "code",
   "execution_count": null,
   "metadata": {},
   "outputs": [],
   "source": []
  },
  {
   "cell_type": "code",
   "execution_count": 50,
   "metadata": {},
   "outputs": [],
   "source": [
    "track_url = 'https://open.spotify.com/track/6LCEyZZHFF4ebF1Mike1s5?si=cd6edc5bc7934a9a'\n",
    "track_id = sp.track(track_url)['id']"
   ]
  },
  {
   "cell_type": "code",
   "execution_count": 60,
   "metadata": {},
   "outputs": [
    {
     "data": {
      "text/plain": "{'danceability': 0.745,\n 'energy': 0.219,\n 'key': 5,\n 'loudness': -11.216,\n 'mode': 1,\n 'speechiness': 0.0276,\n 'acousticness': 0.851,\n 'instrumentalness': 1.8e-05,\n 'liveness': 0.0678,\n 'valence': 0.635,\n 'tempo': 88.609,\n 'type': 'audio_features',\n 'id': '1zNXF2svmdlNxfS5XeNUgr',\n 'uri': 'spotify:track:1zNXF2svmdlNxfS5XeNUgr',\n 'track_href': 'https://api.spotify.com/v1/tracks/1zNXF2svmdlNxfS5XeNUgr',\n 'analysis_url': 'https://api.spotify.com/v1/audio-analysis/1zNXF2svmdlNxfS5XeNUgr',\n 'duration_ms': 186251,\n 'time_signature': 4}"
     },
     "execution_count": 60,
     "metadata": {},
     "output_type": "execute_result"
    }
   ],
   "source": [
    "sp.audio_features(track_id)[0]"
   ]
  },
  {
   "cell_type": "code",
   "execution_count": 45,
   "metadata": {},
   "outputs": [],
   "source": [
    "track = \"Don't Know Why\"\n",
    "artist = 'Jones'\n",
    "track_id = sp.search(q='artist:' + artist + ' track:' + track, type='track')"
   ]
  },
  {
   "cell_type": "code",
   "execution_count": 46,
   "metadata": {},
   "outputs": [
    {
     "ename": "IndexError",
     "evalue": "list index out of range",
     "output_type": "error",
     "traceback": [
      "\u001b[0;31m---------------------------------------------------------------------------\u001b[0m",
      "\u001b[0;31mIndexError\u001b[0m                                Traceback (most recent call last)",
      "\u001b[0;32m<ipython-input-46-1076fb9257d1>\u001b[0m in \u001b[0;36m<module>\u001b[0;34m\u001b[0m\n\u001b[0;32m----> 1\u001b[0;31m \u001b[0mfeats\u001b[0m \u001b[0;34m=\u001b[0m \u001b[0msp\u001b[0m\u001b[0;34m.\u001b[0m\u001b[0maudio_features\u001b[0m\u001b[0;34m(\u001b[0m\u001b[0mtracks\u001b[0m\u001b[0;34m=\u001b[0m\u001b[0;34m[\u001b[0m\u001b[0mtrack_id\u001b[0m\u001b[0;34m[\u001b[0m\u001b[0;34m'tracks'\u001b[0m\u001b[0;34m]\u001b[0m\u001b[0;34m[\u001b[0m\u001b[0;34m'items'\u001b[0m\u001b[0;34m]\u001b[0m\u001b[0;34m[\u001b[0m\u001b[0;36m0\u001b[0m\u001b[0;34m]\u001b[0m\u001b[0;34m[\u001b[0m\u001b[0;34m'id'\u001b[0m\u001b[0;34m]\u001b[0m\u001b[0;34m]\u001b[0m\u001b[0;34m)\u001b[0m\u001b[0;34m\u001b[0m\u001b[0;34m\u001b[0m\u001b[0m\n\u001b[0m",
      "\u001b[0;31mIndexError\u001b[0m: list index out of range"
     ]
    }
   ],
   "source": [
    "feats = sp.audio_features(tracks=[track_id['tracks']['items'][0]['id']])"
   ]
  },
  {
   "cell_type": "code",
   "execution_count": 42,
   "metadata": {},
   "outputs": [
    {
     "data": {
      "text/plain": "[{'danceability': 0.586,\n  'energy': 0.616,\n  'key': 5,\n  'loudness': -7.964,\n  'mode': 1,\n  'speechiness': 0.0324,\n  'acousticness': 0.182,\n  'instrumentalness': 0,\n  'liveness': 0.0927,\n  'valence': 0.719,\n  'tempo': 148.088,\n  'type': 'audio_features',\n  'id': '02VBYrHfVwfEWXk5DXyf0T',\n  'uri': 'spotify:track:02VBYrHfVwfEWXk5DXyf0T',\n  'track_href': 'https://api.spotify.com/v1/tracks/02VBYrHfVwfEWXk5DXyf0T',\n  'analysis_url': 'https://api.spotify.com/v1/audio-analysis/02VBYrHfVwfEWXk5DXyf0T',\n  'duration_ms': 242096,\n  'time_signature': 4}]"
     },
     "execution_count": 42,
     "metadata": {},
     "output_type": "execute_result"
    }
   ],
   "source": [
    "feats"
   ]
  },
  {
   "cell_type": "code",
   "execution_count": null,
   "metadata": {},
   "outputs": [],
   "source": []
  },
  {
   "cell_type": "code",
   "execution_count": 8,
   "metadata": {},
   "outputs": [],
   "source": [
    "### BILLBOARD"
   ]
  },
  {
   "cell_type": "code",
   "execution_count": 2,
   "metadata": {},
   "outputs": [],
   "source": [
    "import billboard\n",
    "from datetime import date, timedelta"
   ]
  },
  {
   "cell_type": "code",
   "execution_count": 3,
   "metadata": {},
   "outputs": [],
   "source": [
    "df_record = pd.read_csv(\"record_of_the_year_cleaned.csv\").drop(columns=[\"Unnamed: 0\"])"
   ]
  },
  {
   "cell_type": "code",
   "execution_count": 4,
   "metadata": {},
   "outputs": [],
   "source": [
    "df_record[\"year\"] = df_record[\"year\"] + 1"
   ]
  },
  {
   "cell_type": "code",
   "execution_count": 5,
   "metadata": {},
   "outputs": [],
   "source": [
    "df_record = df_record[(df_record['year'] >= 1980) & (df_record['year'] <= 2023)]"
   ]
  },
  {
   "cell_type": "code",
   "execution_count": 39,
   "metadata": {},
   "outputs": [],
   "source": [
    "years = [i for i in range(1980, 2024)]"
   ]
  },
  {
   "cell_type": "code",
   "execution_count": 40,
   "metadata": {},
   "outputs": [
    {
     "data": {
      "text/html": "<div>\n<style scoped>\n    .dataframe tbody tr th:only-of-type {\n        vertical-align: middle;\n    }\n\n    .dataframe tbody tr th {\n        vertical-align: top;\n    }\n\n    .dataframe thead th {\n        text-align: right;\n    }\n</style>\n<table border=\"1\" class=\"dataframe\">\n  <thead>\n    <tr style=\"text-align: right;\">\n      <th></th>\n      <th>year</th>\n      <th>award category</th>\n      <th>song</th>\n      <th>artist</th>\n      <th>wasWinner</th>\n    </tr>\n  </thead>\n  <tbody>\n    <tr>\n      <th>106</th>\n      <td>1980</td>\n      <td>Record of the year</td>\n      <td>What A Fool Believes</td>\n      <td>The Doobie Brothers</td>\n      <td>yes</td>\n    </tr>\n    <tr>\n      <th>107</th>\n      <td>1980</td>\n      <td>Record of the year</td>\n      <td>You Don't Bring Me Flowers</td>\n      <td>Barbra Streisand And Neil Diamond</td>\n      <td>no</td>\n    </tr>\n    <tr>\n      <th>108</th>\n      <td>1980</td>\n      <td>Record of the year</td>\n      <td>The Gambler</td>\n      <td>Kenny Rogers</td>\n      <td>no</td>\n    </tr>\n    <tr>\n      <th>109</th>\n      <td>1980</td>\n      <td>Record of the year</td>\n      <td>I Will Survive</td>\n      <td>Gloria Gaynor</td>\n      <td>no</td>\n    </tr>\n    <tr>\n      <th>110</th>\n      <td>1980</td>\n      <td>Record of the year</td>\n      <td>After The Love Has Gone</td>\n      <td>Earth Wind &amp; Fire</td>\n      <td>no</td>\n    </tr>\n    <tr>\n      <th>...</th>\n      <td>...</td>\n      <td>...</td>\n      <td>...</td>\n      <td>...</td>\n      <td>...</td>\n    </tr>\n    <tr>\n      <th>341</th>\n      <td>2023</td>\n      <td>Record of the year</td>\n      <td>Woman</td>\n      <td>Doja Cat</td>\n      <td>no</td>\n    </tr>\n    <tr>\n      <th>342</th>\n      <td>2023</td>\n      <td>Record of the year</td>\n      <td>You And Me On The Rock</td>\n      <td>Brandi Carlile Featuring Lucius</td>\n      <td>no</td>\n    </tr>\n    <tr>\n      <th>343</th>\n      <td>2023</td>\n      <td>Record of the year</td>\n      <td>Good Morning Gorgeous</td>\n      <td>Mary J. Blige</td>\n      <td>no</td>\n    </tr>\n    <tr>\n      <th>344</th>\n      <td>2023</td>\n      <td>Record of the year</td>\n      <td>Easy On Me</td>\n      <td>Adele</td>\n      <td>no</td>\n    </tr>\n    <tr>\n      <th>345</th>\n      <td>2023</td>\n      <td>Record of the year</td>\n      <td>Don't Shut Me Down</td>\n      <td>ABBA</td>\n      <td>no</td>\n    </tr>\n  </tbody>\n</table>\n<p>240 rows × 5 columns</p>\n</div>",
      "text/plain": "     year      award category                        song  \\\n106  1980  Record of the year        What A Fool Believes   \n107  1980  Record of the year  You Don't Bring Me Flowers   \n108  1980  Record of the year                The Gambler    \n109  1980  Record of the year             I Will Survive    \n110  1980  Record of the year     After The Love Has Gone   \n..    ...                 ...                         ...   \n341  2023  Record of the year                       Woman   \n342  2023  Record of the year      You And Me On The Rock   \n343  2023  Record of the year       Good Morning Gorgeous   \n344  2023  Record of the year                  Easy On Me   \n345  2023  Record of the year          Don't Shut Me Down   \n\n                                artist wasWinner  \n106                The Doobie Brothers       yes  \n107  Barbra Streisand And Neil Diamond        no  \n108                       Kenny Rogers        no  \n109                      Gloria Gaynor        no  \n110                  Earth Wind & Fire        no  \n..                                 ...       ...  \n341                           Doja Cat        no  \n342    Brandi Carlile Featuring Lucius        no  \n343                      Mary J. Blige        no  \n344                              Adele        no  \n345                               ABBA        no  \n\n[240 rows x 5 columns]"
     },
     "execution_count": 40,
     "metadata": {},
     "output_type": "execute_result"
    }
   ],
   "source": [
    "df_record"
   ]
  },
  {
   "cell_type": "code",
   "execution_count": 41,
   "metadata": {},
   "outputs": [],
   "source": [
    "df_list = []"
   ]
  },
  {
   "cell_type": "code",
   "execution_count": 42,
   "metadata": {},
   "outputs": [],
   "source": [
    "import string"
   ]
  },
  {
   "cell_type": "code",
   "execution_count": 43,
   "metadata": {},
   "outputs": [
    {
     "name": "stderr",
     "output_type": "stream",
     "text": [
      "/home/rushabh/anaconda3/lib/python3.7/site-packages/ipykernel_launcher.py:47: SettingWithCopyWarning: \n",
      "A value is trying to be set on a copy of a slice from a DataFrame.\n",
      "Try using .loc[row_indexer,col_indexer] = value instead\n",
      "\n",
      "See the caveats in the documentation: https://pandas.pydata.org/pandas-docs/stable/user_guide/indexing.html#returning-a-view-versus-a-copy\n"
     ]
    },
    {
     "name": "stdout",
     "output_type": "stream",
     "text": [
      "Done with  1980\n",
      "Done with  1981\n",
      "Done with  1982\n",
      "Done with  1983\n",
      "Done with  1984\n",
      "Done with  1985\n",
      "Done with  1986\n",
      "Done with  1987\n",
      "Done with  1988\n",
      "Done with  1989\n",
      "Done with  1990\n",
      "Done with  1991\n",
      "Done with  1992\n",
      "Done with  1993\n",
      "Done with  1994\n",
      "Done with  1995\n",
      "Done with  1996\n",
      "Done with  1997\n",
      "Done with  1998\n",
      "Done with  1999\n",
      "Done with  2000\n",
      "Done with  2001\n",
      "Done with  2002\n",
      "Done with  2003\n",
      "Done with  2004\n",
      "Done with  2005\n",
      "Done with  2006\n",
      "Done with  2007\n",
      "Done with  2008\n",
      "Done with  2009\n",
      "Done with  2010\n",
      "Done with  2011\n",
      "Done with  2012\n",
      "Done with  2013\n",
      "Done with  2014\n",
      "Done with  2015\n",
      "Done with  2016\n",
      "Done with  2017\n",
      "Done with  2018\n",
      "Done with  2019\n",
      "Done with  2020\n",
      "Done with  2021\n",
      "Done with  2022\n",
      "Done with  2023\n"
     ]
    }
   ],
   "source": [
    "for year in years:\n",
    "    df_record_oy_year = df_record.loc[df_record['year'] == year]\n",
    "    bb_year = year-1\n",
    "\n",
    "    # Define the start and end dates of the year\n",
    "    start_date = date(bb_year-1, 10, 1)\n",
    "    end_date = date(bb_year, 9, 30)\n",
    "\n",
    "    dates = []\n",
    "    d = start_date\n",
    "    while d <= end_date:\n",
    "        if d.weekday() == 1:  # Sunday has weekday index 6\n",
    "            dates.append(d)\n",
    "        d += timedelta(days=1)\n",
    "\n",
    "    rankings = {}\n",
    "\n",
    "    songs = df_record_oy_year['song']\n",
    "    for song in songs:\n",
    "        rankings[song] = []\n",
    "\n",
    "    # Iterate over each date in the year\n",
    "    for d in dates:\n",
    "        # Retrieve the chart data for the Hot 100 chart for the given date\n",
    "        chart = billboard.ChartData('hot-100', date=d.isoformat())\n",
    "        \n",
    "        # Iterate over each row in the dataframe\n",
    "        for index, row in df_record_oy_year.iterrows():\n",
    "            song = row['song']\n",
    "            artist = row['artist']\n",
    "            # Check if the song is on the chart\n",
    "            for track in chart:\n",
    "                if song.lower().translate(str.maketrans('','', string.punctuation)) == track.title.lower().translate(str.maketrans('','', string.punctuation)):\n",
    "                    # Record the song's position on the chart\n",
    "                    rankings[song].append(track.rank)\n",
    "                    break\n",
    "            else:\n",
    "                # If the song is not on the chart, record a 150 value\n",
    "                rankings[song].append(150)\n",
    "\n",
    "\n",
    "\n",
    "    rankings_for_df = []\n",
    "    for song in songs:\n",
    "        rankings_for_df.append(rankings[song])\n",
    "\n",
    "    df_record_oy_year[\"rankings\"] = rankings_for_df\n",
    "    df_list.append(df_record_oy_year)\n",
    "    print(\"Done with \", year) "
   ]
  },
  {
   "cell_type": "code",
   "execution_count": 44,
   "metadata": {},
   "outputs": [],
   "source": [
    "bb_df = pd.concat(df_list, ignore_index=True)"
   ]
  },
  {
   "cell_type": "code",
   "execution_count": 45,
   "metadata": {},
   "outputs": [],
   "source": [
    "bb_df.to_csv(\"record_oy_billboard.csv\")"
   ]
  },
  {
   "cell_type": "code",
   "execution_count": null,
   "metadata": {},
   "outputs": [],
   "source": []
  },
  {
   "cell_type": "code",
   "execution_count": 3,
   "metadata": {},
   "outputs": [],
   "source": [
    "df_rap_oy = pd.read_csv(\"best_rap_song.csv\")"
   ]
  },
  {
   "cell_type": "code",
   "execution_count": 4,
   "metadata": {},
   "outputs": [
    {
     "data": {
      "text/html": "<div>\n<style scoped>\n    .dataframe tbody tr th:only-of-type {\n        vertical-align: middle;\n    }\n\n    .dataframe tbody tr th {\n        vertical-align: top;\n    }\n\n    .dataframe thead th {\n        text-align: right;\n    }\n</style>\n<table border=\"1\" class=\"dataframe\">\n  <thead>\n    <tr style=\"text-align: right;\">\n      <th></th>\n      <th>year</th>\n      <th>award category</th>\n      <th>song</th>\n      <th>artist</th>\n      <th>wasWinner</th>\n    </tr>\n  </thead>\n  <tbody>\n    <tr>\n      <th>0</th>\n      <td>2004</td>\n      <td>Song of the Year</td>\n      <td>Lose Yourself</td>\n      <td>Eminem</td>\n      <td>yes</td>\n    </tr>\n    <tr>\n      <th>1</th>\n      <td>2005</td>\n      <td>Song of the Year</td>\n      <td>Jesus Walks</td>\n      <td>Kanye West</td>\n      <td>yes</td>\n    </tr>\n    <tr>\n      <th>2</th>\n      <td>2006</td>\n      <td>Song of the Year</td>\n      <td>Diamonds from Sierra Leone</td>\n      <td>Kanye West</td>\n      <td>yes</td>\n    </tr>\n    <tr>\n      <th>3</th>\n      <td>2007</td>\n      <td>Song of the Year</td>\n      <td>Money Maker</td>\n      <td>Ludacris featuring Pharrell</td>\n      <td>yes</td>\n    </tr>\n    <tr>\n      <th>4</th>\n      <td>2008</td>\n      <td>Song of the Year</td>\n      <td>Good Life</td>\n      <td>Kanye West featuring T-Pain</td>\n      <td>yes</td>\n    </tr>\n    <tr>\n      <th>...</th>\n      <td>...</td>\n      <td>...</td>\n      <td>...</td>\n      <td>...</td>\n      <td>...</td>\n    </tr>\n    <tr>\n      <th>98</th>\n      <td>2023</td>\n      <td>Song of the Year</td>\n      <td>Churchill Downs</td>\n      <td>Jack Harlow featuring Drake</td>\n      <td>no</td>\n    </tr>\n    <tr>\n      <th>99</th>\n      <td>2023</td>\n      <td>Song of the Year</td>\n      <td>God Did</td>\n      <td>DJ Khaled featuring Rick Ross</td>\n      <td>no</td>\n    </tr>\n    <tr>\n      <th>100</th>\n      <td>2023</td>\n      <td>Song of the Year</td>\n      <td>The Heart Part 5</td>\n      <td>Kendrick Lamar</td>\n      <td>no</td>\n    </tr>\n    <tr>\n      <th>101</th>\n      <td>2023</td>\n      <td>Song of the Year</td>\n      <td>Pushin P</td>\n      <td>Gunna and Future featuring Young Thug</td>\n      <td>no</td>\n    </tr>\n    <tr>\n      <th>102</th>\n      <td>2023</td>\n      <td>Song of the Year</td>\n      <td>Wait for U</td>\n      <td>Future featuring Drake and Tems</td>\n      <td>no</td>\n    </tr>\n  </tbody>\n</table>\n<p>103 rows × 5 columns</p>\n</div>",
      "text/plain": "     year    award category                        song  \\\n0    2004  Song of the Year               Lose Yourself   \n1    2005  Song of the Year                 Jesus Walks   \n2    2006  Song of the Year  Diamonds from Sierra Leone   \n3    2007  Song of the Year                 Money Maker   \n4    2008  Song of the Year                   Good Life   \n..    ...               ...                         ...   \n98   2023  Song of the Year             Churchill Downs   \n99   2023  Song of the Year                     God Did   \n100  2023  Song of the Year            The Heart Part 5   \n101  2023  Song of the Year                    Pushin P   \n102  2023  Song of the Year                  Wait for U   \n\n                                    artist wasWinner  \n0                                   Eminem       yes  \n1                               Kanye West       yes  \n2                               Kanye West       yes  \n3              Ludacris featuring Pharrell       yes  \n4              Kanye West featuring T-Pain       yes  \n..                                     ...       ...  \n98             Jack Harlow featuring Drake        no  \n99           DJ Khaled featuring Rick Ross        no  \n100                         Kendrick Lamar        no  \n101  Gunna and Future featuring Young Thug        no  \n102        Future featuring Drake and Tems        no  \n\n[103 rows x 5 columns]"
     },
     "execution_count": 4,
     "metadata": {},
     "output_type": "execute_result"
    }
   ],
   "source": [
    "df_rap_oy"
   ]
  },
  {
   "cell_type": "code",
   "execution_count": 5,
   "metadata": {},
   "outputs": [],
   "source": [
    "years = [i for i in range(2004, 2024)]"
   ]
  },
  {
   "cell_type": "code",
   "execution_count": 6,
   "metadata": {},
   "outputs": [],
   "source": [
    "df_list = []"
   ]
  },
  {
   "cell_type": "code",
   "execution_count": 27,
   "metadata": {},
   "outputs": [],
   "source": [
    "df_rap_oy_year = df_rap_oy.loc[df_rap_oy['year'] == 2023]"
   ]
  },
  {
   "cell_type": "code",
   "execution_count": 28,
   "metadata": {},
   "outputs": [
    {
     "data": {
      "text/html": "<div>\n<style scoped>\n    .dataframe tbody tr th:only-of-type {\n        vertical-align: middle;\n    }\n\n    .dataframe tbody tr th {\n        vertical-align: top;\n    }\n\n    .dataframe thead th {\n        text-align: right;\n    }\n</style>\n<table border=\"1\" class=\"dataframe\">\n  <thead>\n    <tr style=\"text-align: right;\">\n      <th></th>\n      <th>year</th>\n      <th>award category</th>\n      <th>song</th>\n      <th>artist</th>\n      <th>wasWinner</th>\n    </tr>\n  </thead>\n  <tbody>\n    <tr>\n      <th>65</th>\n      <td>2023</td>\n      <td>Song of the Year</td>\n      <td>Just Like That</td>\n      <td>Bonnie Raitt</td>\n      <td>yes</td>\n    </tr>\n    <tr>\n      <th>340</th>\n      <td>2023</td>\n      <td>Song of the Year</td>\n      <td>ABCDEFU</td>\n      <td>Gayle</td>\n      <td>no</td>\n    </tr>\n    <tr>\n      <th>341</th>\n      <td>2023</td>\n      <td>Song of the Year</td>\n      <td>Lizzo</td>\n      <td>Lizzo</td>\n      <td>no</td>\n    </tr>\n    <tr>\n      <th>342</th>\n      <td>2023</td>\n      <td>Song of the Year</td>\n      <td>All Too Well (10 Minute Version)</td>\n      <td>Taylor Swift</td>\n      <td>no</td>\n    </tr>\n    <tr>\n      <th>343</th>\n      <td>2023</td>\n      <td>Song of the Year</td>\n      <td>As It Was</td>\n      <td>Harry Styles</td>\n      <td>no</td>\n    </tr>\n    <tr>\n      <th>344</th>\n      <td>2023</td>\n      <td>Song of the Year</td>\n      <td>Bad Habit</td>\n      <td>Steve Lacy</td>\n      <td>no</td>\n    </tr>\n    <tr>\n      <th>345</th>\n      <td>2023</td>\n      <td>Song of the Year</td>\n      <td>The-Dream</td>\n      <td>Beyoncé</td>\n      <td>no</td>\n    </tr>\n    <tr>\n      <th>346</th>\n      <td>2023</td>\n      <td>Song of the Year</td>\n      <td>Easy on Me</td>\n      <td>Adele</td>\n      <td>no</td>\n    </tr>\n    <tr>\n      <th>347</th>\n      <td>2023</td>\n      <td>Song of the Year</td>\n      <td>God Did</td>\n      <td>DJ Khaled</td>\n      <td>no</td>\n    </tr>\n    <tr>\n      <th>348</th>\n      <td>2023</td>\n      <td>Song of the Year</td>\n      <td>The Heart Part 5</td>\n      <td>Kendrick Lamar</td>\n      <td>no</td>\n    </tr>\n  </tbody>\n</table>\n</div>",
      "text/plain": "     year    award category                              song  \\\n65   2023  Song of the Year                    Just Like That   \n340  2023  Song of the Year                           ABCDEFU   \n341  2023  Song of the Year                             Lizzo   \n342  2023  Song of the Year  All Too Well (10 Minute Version)   \n343  2023  Song of the Year                         As It Was   \n344  2023  Song of the Year                         Bad Habit   \n345  2023  Song of the Year                         The-Dream   \n346  2023  Song of the Year                        Easy on Me   \n347  2023  Song of the Year                           God Did   \n348  2023  Song of the Year                  The Heart Part 5   \n\n              artist wasWinner  \n65      Bonnie Raitt       yes  \n340            Gayle        no  \n341            Lizzo        no  \n342     Taylor Swift        no  \n343     Harry Styles        no  \n344       Steve Lacy        no  \n345          Beyoncé        no  \n346            Adele        no  \n347       DJ Khaled         no  \n348   Kendrick Lamar        no  "
     },
     "execution_count": 28,
     "metadata": {},
     "output_type": "execute_result"
    }
   ],
   "source": [
    "df_soy_year"
   ]
  },
  {
   "cell_type": "code",
   "execution_count": 29,
   "metadata": {},
   "outputs": [
    {
     "name": "stderr",
     "output_type": "stream",
     "text": [
      "/home/rushabh/anaconda3/lib/python3.7/site-packages/pandas/core/indexing.py:1817: SettingWithCopyWarning: \n",
      "A value is trying to be set on a copy of a slice from a DataFrame.\n",
      "Try using .loc[row_indexer,col_indexer] = value instead\n",
      "\n",
      "See the caveats in the documentation: https://pandas.pydata.org/pandas-docs/stable/user_guide/indexing.html#returning-a-view-versus-a-copy\n",
      "  self._setitem_single_column(loc, value, pi)\n"
     ]
    }
   ],
   "source": [
    "df_soy_year.iloc[3, 2] = \"All Too Well (Taylor's Version)\""
   ]
  },
  {
   "cell_type": "code",
   "execution_count": 30,
   "metadata": {},
   "outputs": [
    {
     "data": {
      "text/html": "<div>\n<style scoped>\n    .dataframe tbody tr th:only-of-type {\n        vertical-align: middle;\n    }\n\n    .dataframe tbody tr th {\n        vertical-align: top;\n    }\n\n    .dataframe thead th {\n        text-align: right;\n    }\n</style>\n<table border=\"1\" class=\"dataframe\">\n  <thead>\n    <tr style=\"text-align: right;\">\n      <th></th>\n      <th>year</th>\n      <th>award category</th>\n      <th>song</th>\n      <th>artist</th>\n      <th>wasWinner</th>\n    </tr>\n  </thead>\n  <tbody>\n    <tr>\n      <th>65</th>\n      <td>2023</td>\n      <td>Song of the Year</td>\n      <td>Just Like That</td>\n      <td>Bonnie Raitt</td>\n      <td>yes</td>\n    </tr>\n    <tr>\n      <th>340</th>\n      <td>2023</td>\n      <td>Song of the Year</td>\n      <td>ABCDEFU</td>\n      <td>Gayle</td>\n      <td>no</td>\n    </tr>\n    <tr>\n      <th>341</th>\n      <td>2023</td>\n      <td>Song of the Year</td>\n      <td>Lizzo</td>\n      <td>Lizzo</td>\n      <td>no</td>\n    </tr>\n    <tr>\n      <th>342</th>\n      <td>2023</td>\n      <td>Song of the Year</td>\n      <td>All Too Well (Taylor's Version)</td>\n      <td>Taylor Swift</td>\n      <td>no</td>\n    </tr>\n    <tr>\n      <th>343</th>\n      <td>2023</td>\n      <td>Song of the Year</td>\n      <td>As It Was</td>\n      <td>Harry Styles</td>\n      <td>no</td>\n    </tr>\n    <tr>\n      <th>344</th>\n      <td>2023</td>\n      <td>Song of the Year</td>\n      <td>Bad Habit</td>\n      <td>Steve Lacy</td>\n      <td>no</td>\n    </tr>\n    <tr>\n      <th>345</th>\n      <td>2023</td>\n      <td>Song of the Year</td>\n      <td>The-Dream</td>\n      <td>Beyoncé</td>\n      <td>no</td>\n    </tr>\n    <tr>\n      <th>346</th>\n      <td>2023</td>\n      <td>Song of the Year</td>\n      <td>Easy on Me</td>\n      <td>Adele</td>\n      <td>no</td>\n    </tr>\n    <tr>\n      <th>347</th>\n      <td>2023</td>\n      <td>Song of the Year</td>\n      <td>God Did</td>\n      <td>DJ Khaled</td>\n      <td>no</td>\n    </tr>\n    <tr>\n      <th>348</th>\n      <td>2023</td>\n      <td>Song of the Year</td>\n      <td>The Heart Part 5</td>\n      <td>Kendrick Lamar</td>\n      <td>no</td>\n    </tr>\n  </tbody>\n</table>\n</div>",
      "text/plain": "     year    award category                             song           artist  \\\n65   2023  Song of the Year                   Just Like That     Bonnie Raitt   \n340  2023  Song of the Year                          ABCDEFU            Gayle   \n341  2023  Song of the Year                            Lizzo            Lizzo   \n342  2023  Song of the Year  All Too Well (Taylor's Version)     Taylor Swift   \n343  2023  Song of the Year                        As It Was     Harry Styles   \n344  2023  Song of the Year                        Bad Habit       Steve Lacy   \n345  2023  Song of the Year                        The-Dream          Beyoncé   \n346  2023  Song of the Year                       Easy on Me            Adele   \n347  2023  Song of the Year                          God Did       DJ Khaled    \n348  2023  Song of the Year                 The Heart Part 5   Kendrick Lamar   \n\n    wasWinner  \n65        yes  \n340        no  \n341        no  \n342        no  \n343        no  \n344        no  \n345        no  \n346        no  \n347        no  \n348        no  "
     },
     "execution_count": 30,
     "metadata": {},
     "output_type": "execute_result"
    }
   ],
   "source": [
    "df_soy_year"
   ]
  },
  {
   "cell_type": "code",
   "execution_count": 31,
   "metadata": {},
   "outputs": [],
   "source": [
    "bb_year = 2022\n",
    "start_date = date(bb_year-1, 10, 1)\n",
    "end_date = date(bb_year, 9, 30)\n",
    "\n",
    "dates = []\n",
    "d = start_date\n",
    "while d <= end_date:\n",
    "    if d.weekday() == 1:  # Sunday has weekday index 6\n",
    "        dates.append(d)\n",
    "    d += timedelta(days=1)\n",
    "\n",
    "rankings = {}\n",
    "\n",
    "songs = df_soy_year['song']\n",
    "for song in songs:\n",
    "    rankings[song] = []"
   ]
  },
  {
   "cell_type": "code",
   "execution_count": 32,
   "metadata": {},
   "outputs": [
    {
     "name": "stderr",
     "output_type": "stream",
     "text": [
      "/home/rushabh/anaconda3/lib/python3.7/site-packages/ipykernel_launcher.py:26: SettingWithCopyWarning: \n",
      "A value is trying to be set on a copy of a slice from a DataFrame.\n",
      "Try using .loc[row_indexer,col_indexer] = value instead\n",
      "\n",
      "See the caveats in the documentation: https://pandas.pydata.org/pandas-docs/stable/user_guide/indexing.html#returning-a-view-versus-a-copy\n"
     ]
    }
   ],
   "source": [
    "# Iterate over each date in the year\n",
    "for d in dates:\n",
    "    # Retrieve the chart data for the Hot 100 chart for the given date\n",
    "    chart = billboard.ChartData('hot-100', date=d.isoformat())\n",
    "    \n",
    "    # Iterate over each row in the dataframe\n",
    "    for index, row in df_soy_year.iterrows():\n",
    "        song = row['song']\n",
    "        artist = row['artist']\n",
    "        # Check if the song is on the chart\n",
    "        for track in chart:\n",
    "            if song.lower() == track.title.lower():\n",
    "                # Record the song's position on the chart\n",
    "                rankings[song].append(track.rank)\n",
    "                break\n",
    "        else:\n",
    "            # If the song is not on the chart, record a 150 value\n",
    "            rankings[song].append(150)\n",
    "\n",
    "\n",
    "\n",
    "rankings_for_df = []\n",
    "for song in songs:\n",
    "    rankings_for_df.append(rankings[song])\n",
    "\n",
    "df_soy_year[\"rankings\"] = rankings_for_df"
   ]
  },
  {
   "cell_type": "code",
   "execution_count": 33,
   "metadata": {},
   "outputs": [],
   "source": [
    "df_soy_year.to_csv(\"temp_2023.csv\")"
   ]
  },
  {
   "cell_type": "code",
   "execution_count": null,
   "metadata": {},
   "outputs": [],
   "source": []
  },
  {
   "cell_type": "code",
   "execution_count": null,
   "metadata": {},
   "outputs": [],
   "source": []
  },
  {
   "cell_type": "code",
   "execution_count": 8,
   "metadata": {},
   "outputs": [
    {
     "name": "stderr",
     "output_type": "stream",
     "text": [
      "/home/rushabh/anaconda3/lib/python3.7/site-packages/ipykernel_launcher.py:47: SettingWithCopyWarning: \n",
      "A value is trying to be set on a copy of a slice from a DataFrame.\n",
      "Try using .loc[row_indexer,col_indexer] = value instead\n",
      "\n",
      "See the caveats in the documentation: https://pandas.pydata.org/pandas-docs/stable/user_guide/indexing.html#returning-a-view-versus-a-copy\n"
     ]
    },
    {
     "name": "stdout",
     "output_type": "stream",
     "text": [
      "Done with  2004\n",
      "Done with  2005\n",
      "Done with  2006\n",
      "Done with  2007\n",
      "Done with  2008\n"
     ]
    },
    {
     "ename": "ConnectionError",
     "evalue": "HTTPSConnectionPool(host='www.billboard.com', port=443): Read timed out.",
     "output_type": "error",
     "traceback": [
      "\u001b[0;31m---------------------------------------------------------------------------\u001b[0m",
      "\u001b[0;31mtimeout\u001b[0m                                   Traceback (most recent call last)",
      "\u001b[0;32m~/anaconda3/lib/python3.7/site-packages/urllib3/response.py\u001b[0m in \u001b[0;36m_error_catcher\u001b[0;34m(self)\u001b[0m\n\u001b[1;32m    437\u001b[0m             \u001b[0;32mtry\u001b[0m\u001b[0;34m:\u001b[0m\u001b[0;34m\u001b[0m\u001b[0;34m\u001b[0m\u001b[0m\n\u001b[0;32m--> 438\u001b[0;31m                 \u001b[0;32myield\u001b[0m\u001b[0;34m\u001b[0m\u001b[0;34m\u001b[0m\u001b[0m\n\u001b[0m\u001b[1;32m    439\u001b[0m \u001b[0;34m\u001b[0m\u001b[0m\n",
      "\u001b[0;32m~/anaconda3/lib/python3.7/site-packages/urllib3/response.py\u001b[0m in \u001b[0;36mread_chunked\u001b[0;34m(self, amt, decode_content)\u001b[0m\n\u001b[1;32m    766\u001b[0m                     \u001b[0;32mbreak\u001b[0m\u001b[0;34m\u001b[0m\u001b[0;34m\u001b[0m\u001b[0m\n\u001b[0;32m--> 767\u001b[0;31m                 \u001b[0mchunk\u001b[0m \u001b[0;34m=\u001b[0m \u001b[0mself\u001b[0m\u001b[0;34m.\u001b[0m\u001b[0m_handle_chunk\u001b[0m\u001b[0;34m(\u001b[0m\u001b[0mamt\u001b[0m\u001b[0;34m)\u001b[0m\u001b[0;34m\u001b[0m\u001b[0;34m\u001b[0m\u001b[0m\n\u001b[0m\u001b[1;32m    768\u001b[0m                 decoded = self._decode(\n",
      "\u001b[0;32m~/anaconda3/lib/python3.7/site-packages/urllib3/response.py\u001b[0m in \u001b[0;36m_handle_chunk\u001b[0;34m(self, amt)\u001b[0m\n\u001b[1;32m    719\u001b[0m         \u001b[0;32melse\u001b[0m\u001b[0;34m:\u001b[0m  \u001b[0;31m# amt > self.chunk_left\u001b[0m\u001b[0;34m\u001b[0m\u001b[0;34m\u001b[0m\u001b[0m\n\u001b[0;32m--> 720\u001b[0;31m             \u001b[0mreturned_chunk\u001b[0m \u001b[0;34m=\u001b[0m \u001b[0mself\u001b[0m\u001b[0;34m.\u001b[0m\u001b[0m_fp\u001b[0m\u001b[0;34m.\u001b[0m\u001b[0m_safe_read\u001b[0m\u001b[0;34m(\u001b[0m\u001b[0mself\u001b[0m\u001b[0;34m.\u001b[0m\u001b[0mchunk_left\u001b[0m\u001b[0;34m)\u001b[0m\u001b[0;34m\u001b[0m\u001b[0;34m\u001b[0m\u001b[0m\n\u001b[0m\u001b[1;32m    721\u001b[0m             \u001b[0mself\u001b[0m\u001b[0;34m.\u001b[0m\u001b[0m_fp\u001b[0m\u001b[0;34m.\u001b[0m\u001b[0m_safe_read\u001b[0m\u001b[0;34m(\u001b[0m\u001b[0;36m2\u001b[0m\u001b[0;34m)\u001b[0m  \u001b[0;31m# Toss the CRLF at the end of the chunk.\u001b[0m\u001b[0;34m\u001b[0m\u001b[0;34m\u001b[0m\u001b[0m\n",
      "\u001b[0;32m~/anaconda3/lib/python3.7/http/client.py\u001b[0m in \u001b[0;36m_safe_read\u001b[0;34m(self, amt)\u001b[0m\n\u001b[1;32m    619\u001b[0m         \u001b[0;32mwhile\u001b[0m \u001b[0mamt\u001b[0m \u001b[0;34m>\u001b[0m \u001b[0;36m0\u001b[0m\u001b[0;34m:\u001b[0m\u001b[0;34m\u001b[0m\u001b[0;34m\u001b[0m\u001b[0m\n\u001b[0;32m--> 620\u001b[0;31m             \u001b[0mchunk\u001b[0m \u001b[0;34m=\u001b[0m \u001b[0mself\u001b[0m\u001b[0;34m.\u001b[0m\u001b[0mfp\u001b[0m\u001b[0;34m.\u001b[0m\u001b[0mread\u001b[0m\u001b[0;34m(\u001b[0m\u001b[0mmin\u001b[0m\u001b[0;34m(\u001b[0m\u001b[0mamt\u001b[0m\u001b[0;34m,\u001b[0m \u001b[0mMAXAMOUNT\u001b[0m\u001b[0;34m)\u001b[0m\u001b[0;34m)\u001b[0m\u001b[0;34m\u001b[0m\u001b[0;34m\u001b[0m\u001b[0m\n\u001b[0m\u001b[1;32m    621\u001b[0m             \u001b[0;32mif\u001b[0m \u001b[0;32mnot\u001b[0m \u001b[0mchunk\u001b[0m\u001b[0;34m:\u001b[0m\u001b[0;34m\u001b[0m\u001b[0;34m\u001b[0m\u001b[0m\n",
      "\u001b[0;32m~/anaconda3/lib/python3.7/socket.py\u001b[0m in \u001b[0;36mreadinto\u001b[0;34m(self, b)\u001b[0m\n\u001b[1;32m    588\u001b[0m             \u001b[0;32mtry\u001b[0m\u001b[0;34m:\u001b[0m\u001b[0;34m\u001b[0m\u001b[0;34m\u001b[0m\u001b[0m\n\u001b[0;32m--> 589\u001b[0;31m                 \u001b[0;32mreturn\u001b[0m \u001b[0mself\u001b[0m\u001b[0;34m.\u001b[0m\u001b[0m_sock\u001b[0m\u001b[0;34m.\u001b[0m\u001b[0mrecv_into\u001b[0m\u001b[0;34m(\u001b[0m\u001b[0mb\u001b[0m\u001b[0;34m)\u001b[0m\u001b[0;34m\u001b[0m\u001b[0;34m\u001b[0m\u001b[0m\n\u001b[0m\u001b[1;32m    590\u001b[0m             \u001b[0;32mexcept\u001b[0m \u001b[0mtimeout\u001b[0m\u001b[0;34m:\u001b[0m\u001b[0;34m\u001b[0m\u001b[0;34m\u001b[0m\u001b[0m\n",
      "\u001b[0;32m~/anaconda3/lib/python3.7/ssl.py\u001b[0m in \u001b[0;36mrecv_into\u001b[0;34m(self, buffer, nbytes, flags)\u001b[0m\n\u001b[1;32m   1070\u001b[0m                   self.__class__)\n\u001b[0;32m-> 1071\u001b[0;31m             \u001b[0;32mreturn\u001b[0m \u001b[0mself\u001b[0m\u001b[0;34m.\u001b[0m\u001b[0mread\u001b[0m\u001b[0;34m(\u001b[0m\u001b[0mnbytes\u001b[0m\u001b[0;34m,\u001b[0m \u001b[0mbuffer\u001b[0m\u001b[0;34m)\u001b[0m\u001b[0;34m\u001b[0m\u001b[0;34m\u001b[0m\u001b[0m\n\u001b[0m\u001b[1;32m   1072\u001b[0m         \u001b[0;32melse\u001b[0m\u001b[0;34m:\u001b[0m\u001b[0;34m\u001b[0m\u001b[0;34m\u001b[0m\u001b[0m\n",
      "\u001b[0;32m~/anaconda3/lib/python3.7/ssl.py\u001b[0m in \u001b[0;36mread\u001b[0;34m(self, len, buffer)\u001b[0m\n\u001b[1;32m    928\u001b[0m             \u001b[0;32mif\u001b[0m \u001b[0mbuffer\u001b[0m \u001b[0;32mis\u001b[0m \u001b[0;32mnot\u001b[0m \u001b[0;32mNone\u001b[0m\u001b[0;34m:\u001b[0m\u001b[0;34m\u001b[0m\u001b[0;34m\u001b[0m\u001b[0m\n\u001b[0;32m--> 929\u001b[0;31m                 \u001b[0;32mreturn\u001b[0m \u001b[0mself\u001b[0m\u001b[0;34m.\u001b[0m\u001b[0m_sslobj\u001b[0m\u001b[0;34m.\u001b[0m\u001b[0mread\u001b[0m\u001b[0;34m(\u001b[0m\u001b[0mlen\u001b[0m\u001b[0;34m,\u001b[0m \u001b[0mbuffer\u001b[0m\u001b[0;34m)\u001b[0m\u001b[0;34m\u001b[0m\u001b[0;34m\u001b[0m\u001b[0m\n\u001b[0m\u001b[1;32m    930\u001b[0m             \u001b[0;32melse\u001b[0m\u001b[0;34m:\u001b[0m\u001b[0;34m\u001b[0m\u001b[0;34m\u001b[0m\u001b[0m\n",
      "\u001b[0;31mtimeout\u001b[0m: The read operation timed out",
      "\nDuring handling of the above exception, another exception occurred:\n",
      "\u001b[0;31mReadTimeoutError\u001b[0m                          Traceback (most recent call last)",
      "\u001b[0;32m~/anaconda3/lib/python3.7/site-packages/requests/models.py\u001b[0m in \u001b[0;36mgenerate\u001b[0;34m()\u001b[0m\n\u001b[1;32m    815\u001b[0m                 \u001b[0;32mtry\u001b[0m\u001b[0;34m:\u001b[0m\u001b[0;34m\u001b[0m\u001b[0;34m\u001b[0m\u001b[0m\n\u001b[0;32m--> 816\u001b[0;31m                     \u001b[0;32myield\u001b[0m \u001b[0;32mfrom\u001b[0m \u001b[0mself\u001b[0m\u001b[0;34m.\u001b[0m\u001b[0mraw\u001b[0m\u001b[0;34m.\u001b[0m\u001b[0mstream\u001b[0m\u001b[0;34m(\u001b[0m\u001b[0mchunk_size\u001b[0m\u001b[0;34m,\u001b[0m \u001b[0mdecode_content\u001b[0m\u001b[0;34m=\u001b[0m\u001b[0;32mTrue\u001b[0m\u001b[0;34m)\u001b[0m\u001b[0;34m\u001b[0m\u001b[0;34m\u001b[0m\u001b[0m\n\u001b[0m\u001b[1;32m    817\u001b[0m                 \u001b[0;32mexcept\u001b[0m \u001b[0mProtocolError\u001b[0m \u001b[0;32mas\u001b[0m \u001b[0me\u001b[0m\u001b[0;34m:\u001b[0m\u001b[0;34m\u001b[0m\u001b[0;34m\u001b[0m\u001b[0m\n",
      "\u001b[0;32m~/anaconda3/lib/python3.7/site-packages/urllib3/response.py\u001b[0m in \u001b[0;36mstream\u001b[0;34m(self, amt, decode_content)\u001b[0m\n\u001b[1;32m    571\u001b[0m         \u001b[0;32mif\u001b[0m \u001b[0mself\u001b[0m\u001b[0;34m.\u001b[0m\u001b[0mchunked\u001b[0m \u001b[0;32mand\u001b[0m \u001b[0mself\u001b[0m\u001b[0;34m.\u001b[0m\u001b[0msupports_chunked_reads\u001b[0m\u001b[0;34m(\u001b[0m\u001b[0;34m)\u001b[0m\u001b[0;34m:\u001b[0m\u001b[0;34m\u001b[0m\u001b[0;34m\u001b[0m\u001b[0m\n\u001b[0;32m--> 572\u001b[0;31m             \u001b[0;32mfor\u001b[0m \u001b[0mline\u001b[0m \u001b[0;32min\u001b[0m \u001b[0mself\u001b[0m\u001b[0;34m.\u001b[0m\u001b[0mread_chunked\u001b[0m\u001b[0;34m(\u001b[0m\u001b[0mamt\u001b[0m\u001b[0;34m,\u001b[0m \u001b[0mdecode_content\u001b[0m\u001b[0;34m=\u001b[0m\u001b[0mdecode_content\u001b[0m\u001b[0;34m)\u001b[0m\u001b[0;34m:\u001b[0m\u001b[0;34m\u001b[0m\u001b[0;34m\u001b[0m\u001b[0m\n\u001b[0m\u001b[1;32m    573\u001b[0m                 \u001b[0;32myield\u001b[0m \u001b[0mline\u001b[0m\u001b[0;34m\u001b[0m\u001b[0;34m\u001b[0m\u001b[0m\n",
      "\u001b[0;32m~/anaconda3/lib/python3.7/site-packages/urllib3/response.py\u001b[0m in \u001b[0;36mread_chunked\u001b[0;34m(self, amt, decode_content)\u001b[0m\n\u001b[1;32m    792\u001b[0m             \u001b[0;32mif\u001b[0m \u001b[0mself\u001b[0m\u001b[0;34m.\u001b[0m\u001b[0m_original_response\u001b[0m\u001b[0;34m:\u001b[0m\u001b[0;34m\u001b[0m\u001b[0;34m\u001b[0m\u001b[0m\n\u001b[0;32m--> 793\u001b[0;31m                 \u001b[0mself\u001b[0m\u001b[0;34m.\u001b[0m\u001b[0m_original_response\u001b[0m\u001b[0;34m.\u001b[0m\u001b[0mclose\u001b[0m\u001b[0;34m(\u001b[0m\u001b[0;34m)\u001b[0m\u001b[0;34m\u001b[0m\u001b[0;34m\u001b[0m\u001b[0m\n\u001b[0m\u001b[1;32m    794\u001b[0m \u001b[0;34m\u001b[0m\u001b[0m\n",
      "\u001b[0;32m~/anaconda3/lib/python3.7/contextlib.py\u001b[0m in \u001b[0;36m__exit__\u001b[0;34m(self, type, value, traceback)\u001b[0m\n\u001b[1;32m    129\u001b[0m             \u001b[0;32mtry\u001b[0m\u001b[0;34m:\u001b[0m\u001b[0;34m\u001b[0m\u001b[0;34m\u001b[0m\u001b[0m\n\u001b[0;32m--> 130\u001b[0;31m                 \u001b[0mself\u001b[0m\u001b[0;34m.\u001b[0m\u001b[0mgen\u001b[0m\u001b[0;34m.\u001b[0m\u001b[0mthrow\u001b[0m\u001b[0;34m(\u001b[0m\u001b[0mtype\u001b[0m\u001b[0;34m,\u001b[0m \u001b[0mvalue\u001b[0m\u001b[0;34m,\u001b[0m \u001b[0mtraceback\u001b[0m\u001b[0;34m)\u001b[0m\u001b[0;34m\u001b[0m\u001b[0;34m\u001b[0m\u001b[0m\n\u001b[0m\u001b[1;32m    131\u001b[0m             \u001b[0;32mexcept\u001b[0m \u001b[0mStopIteration\u001b[0m \u001b[0;32mas\u001b[0m \u001b[0mexc\u001b[0m\u001b[0;34m:\u001b[0m\u001b[0;34m\u001b[0m\u001b[0;34m\u001b[0m\u001b[0m\n",
      "\u001b[0;32m~/anaconda3/lib/python3.7/site-packages/urllib3/response.py\u001b[0m in \u001b[0;36m_error_catcher\u001b[0;34m(self)\u001b[0m\n\u001b[1;32m    442\u001b[0m                 \u001b[0;31m# there is yet no clean way to get at it from this context.\u001b[0m\u001b[0;34m\u001b[0m\u001b[0;34m\u001b[0m\u001b[0;34m\u001b[0m\u001b[0m\n\u001b[0;32m--> 443\u001b[0;31m                 \u001b[0;32mraise\u001b[0m \u001b[0mReadTimeoutError\u001b[0m\u001b[0;34m(\u001b[0m\u001b[0mself\u001b[0m\u001b[0;34m.\u001b[0m\u001b[0m_pool\u001b[0m\u001b[0;34m,\u001b[0m \u001b[0;32mNone\u001b[0m\u001b[0;34m,\u001b[0m \u001b[0;34m\"Read timed out.\"\u001b[0m\u001b[0;34m)\u001b[0m\u001b[0;34m\u001b[0m\u001b[0;34m\u001b[0m\u001b[0m\n\u001b[0m\u001b[1;32m    444\u001b[0m \u001b[0;34m\u001b[0m\u001b[0m\n",
      "\u001b[0;31mReadTimeoutError\u001b[0m: HTTPSConnectionPool(host='www.billboard.com', port=443): Read timed out.",
      "\nDuring handling of the above exception, another exception occurred:\n",
      "\u001b[0;31mConnectionError\u001b[0m                           Traceback (most recent call last)",
      "\u001b[0;32m<ipython-input-8-b91337818476>\u001b[0m in \u001b[0;36m<module>\u001b[0;34m\u001b[0m\n\u001b[1;32m     23\u001b[0m     \u001b[0;32mfor\u001b[0m \u001b[0md\u001b[0m \u001b[0;32min\u001b[0m \u001b[0mdates\u001b[0m\u001b[0;34m:\u001b[0m\u001b[0;34m\u001b[0m\u001b[0;34m\u001b[0m\u001b[0m\n\u001b[1;32m     24\u001b[0m         \u001b[0;31m# Retrieve the chart data for the Hot 100 chart for the given date\u001b[0m\u001b[0;34m\u001b[0m\u001b[0;34m\u001b[0m\u001b[0;34m\u001b[0m\u001b[0m\n\u001b[0;32m---> 25\u001b[0;31m         \u001b[0mchart\u001b[0m \u001b[0;34m=\u001b[0m \u001b[0mbillboard\u001b[0m\u001b[0;34m.\u001b[0m\u001b[0mChartData\u001b[0m\u001b[0;34m(\u001b[0m\u001b[0;34m'hot-100'\u001b[0m\u001b[0;34m,\u001b[0m \u001b[0mdate\u001b[0m\u001b[0;34m=\u001b[0m\u001b[0md\u001b[0m\u001b[0;34m.\u001b[0m\u001b[0misoformat\u001b[0m\u001b[0;34m(\u001b[0m\u001b[0;34m)\u001b[0m\u001b[0;34m)\u001b[0m\u001b[0;34m\u001b[0m\u001b[0;34m\u001b[0m\u001b[0m\n\u001b[0m\u001b[1;32m     26\u001b[0m \u001b[0;34m\u001b[0m\u001b[0m\n\u001b[1;32m     27\u001b[0m         \u001b[0;31m# Iterate over each row in the dataframe\u001b[0m\u001b[0;34m\u001b[0m\u001b[0;34m\u001b[0m\u001b[0;34m\u001b[0m\u001b[0m\n",
      "\u001b[0;32m~/anaconda3/lib/python3.7/site-packages/billboard.py\u001b[0m in \u001b[0;36m__init__\u001b[0;34m(self, name, date, year, fetch, max_retries, timeout)\u001b[0m\n\u001b[1;32m    188\u001b[0m         \u001b[0mself\u001b[0m\u001b[0;34m.\u001b[0m\u001b[0mentries\u001b[0m \u001b[0;34m=\u001b[0m \u001b[0;34m[\u001b[0m\u001b[0;34m]\u001b[0m\u001b[0;34m\u001b[0m\u001b[0;34m\u001b[0m\u001b[0m\n\u001b[1;32m    189\u001b[0m         \u001b[0;32mif\u001b[0m \u001b[0mfetch\u001b[0m\u001b[0;34m:\u001b[0m\u001b[0;34m\u001b[0m\u001b[0;34m\u001b[0m\u001b[0m\n\u001b[0;32m--> 190\u001b[0;31m             \u001b[0mself\u001b[0m\u001b[0;34m.\u001b[0m\u001b[0mfetchEntries\u001b[0m\u001b[0;34m(\u001b[0m\u001b[0;34m)\u001b[0m\u001b[0;34m\u001b[0m\u001b[0;34m\u001b[0m\u001b[0m\n\u001b[0m\u001b[1;32m    191\u001b[0m \u001b[0;34m\u001b[0m\u001b[0m\n\u001b[1;32m    192\u001b[0m     \u001b[0;32mdef\u001b[0m \u001b[0m__repr__\u001b[0m\u001b[0;34m(\u001b[0m\u001b[0mself\u001b[0m\u001b[0;34m)\u001b[0m\u001b[0;34m:\u001b[0m\u001b[0;34m\u001b[0m\u001b[0;34m\u001b[0m\u001b[0m\n",
      "\u001b[0;32m~/anaconda3/lib/python3.7/site-packages/billboard.py\u001b[0m in \u001b[0;36mfetchEntries\u001b[0;34m(self)\u001b[0m\n\u001b[1;32m    480\u001b[0m \u001b[0;34m\u001b[0m\u001b[0m\n\u001b[1;32m    481\u001b[0m         \u001b[0msession\u001b[0m \u001b[0;34m=\u001b[0m \u001b[0m_get_session_with_retries\u001b[0m\u001b[0;34m(\u001b[0m\u001b[0mmax_retries\u001b[0m\u001b[0;34m=\u001b[0m\u001b[0mself\u001b[0m\u001b[0;34m.\u001b[0m\u001b[0m_max_retries\u001b[0m\u001b[0;34m)\u001b[0m\u001b[0;34m\u001b[0m\u001b[0;34m\u001b[0m\u001b[0m\n\u001b[0;32m--> 482\u001b[0;31m         \u001b[0mreq\u001b[0m \u001b[0;34m=\u001b[0m \u001b[0msession\u001b[0m\u001b[0;34m.\u001b[0m\u001b[0mget\u001b[0m\u001b[0;34m(\u001b[0m\u001b[0murl\u001b[0m\u001b[0;34m,\u001b[0m \u001b[0mtimeout\u001b[0m\u001b[0;34m=\u001b[0m\u001b[0mself\u001b[0m\u001b[0;34m.\u001b[0m\u001b[0m_timeout\u001b[0m\u001b[0;34m)\u001b[0m\u001b[0;34m\u001b[0m\u001b[0;34m\u001b[0m\u001b[0m\n\u001b[0m\u001b[1;32m    483\u001b[0m         \u001b[0;32mif\u001b[0m \u001b[0mreq\u001b[0m\u001b[0;34m.\u001b[0m\u001b[0mstatus_code\u001b[0m \u001b[0;34m==\u001b[0m \u001b[0;36m404\u001b[0m\u001b[0;34m:\u001b[0m\u001b[0;34m\u001b[0m\u001b[0;34m\u001b[0m\u001b[0m\n\u001b[1;32m    484\u001b[0m             \u001b[0mmessage\u001b[0m \u001b[0;34m=\u001b[0m \u001b[0;34m\"Chart not found (perhaps the name is misspelled?)\"\u001b[0m\u001b[0;34m\u001b[0m\u001b[0;34m\u001b[0m\u001b[0m\n",
      "\u001b[0;32m~/anaconda3/lib/python3.7/site-packages/requests/sessions.py\u001b[0m in \u001b[0;36mget\u001b[0;34m(self, url, **kwargs)\u001b[0m\n\u001b[1;32m    598\u001b[0m \u001b[0;34m\u001b[0m\u001b[0m\n\u001b[1;32m    599\u001b[0m         \u001b[0mkwargs\u001b[0m\u001b[0;34m.\u001b[0m\u001b[0msetdefault\u001b[0m\u001b[0;34m(\u001b[0m\u001b[0;34m\"allow_redirects\"\u001b[0m\u001b[0;34m,\u001b[0m \u001b[0;32mTrue\u001b[0m\u001b[0;34m)\u001b[0m\u001b[0;34m\u001b[0m\u001b[0;34m\u001b[0m\u001b[0m\n\u001b[0;32m--> 600\u001b[0;31m         \u001b[0;32mreturn\u001b[0m \u001b[0mself\u001b[0m\u001b[0;34m.\u001b[0m\u001b[0mrequest\u001b[0m\u001b[0;34m(\u001b[0m\u001b[0;34m\"GET\"\u001b[0m\u001b[0;34m,\u001b[0m \u001b[0murl\u001b[0m\u001b[0;34m,\u001b[0m \u001b[0;34m**\u001b[0m\u001b[0mkwargs\u001b[0m\u001b[0;34m)\u001b[0m\u001b[0;34m\u001b[0m\u001b[0;34m\u001b[0m\u001b[0m\n\u001b[0m\u001b[1;32m    601\u001b[0m \u001b[0;34m\u001b[0m\u001b[0m\n\u001b[1;32m    602\u001b[0m     \u001b[0;32mdef\u001b[0m \u001b[0moptions\u001b[0m\u001b[0;34m(\u001b[0m\u001b[0mself\u001b[0m\u001b[0;34m,\u001b[0m \u001b[0murl\u001b[0m\u001b[0;34m,\u001b[0m \u001b[0;34m**\u001b[0m\u001b[0mkwargs\u001b[0m\u001b[0;34m)\u001b[0m\u001b[0;34m:\u001b[0m\u001b[0;34m\u001b[0m\u001b[0;34m\u001b[0m\u001b[0m\n",
      "\u001b[0;32m~/anaconda3/lib/python3.7/site-packages/requests/sessions.py\u001b[0m in \u001b[0;36mrequest\u001b[0;34m(self, method, url, params, data, headers, cookies, files, auth, timeout, allow_redirects, proxies, hooks, stream, verify, cert, json)\u001b[0m\n\u001b[1;32m    585\u001b[0m         }\n\u001b[1;32m    586\u001b[0m         \u001b[0msend_kwargs\u001b[0m\u001b[0;34m.\u001b[0m\u001b[0mupdate\u001b[0m\u001b[0;34m(\u001b[0m\u001b[0msettings\u001b[0m\u001b[0;34m)\u001b[0m\u001b[0;34m\u001b[0m\u001b[0;34m\u001b[0m\u001b[0m\n\u001b[0;32m--> 587\u001b[0;31m         \u001b[0mresp\u001b[0m \u001b[0;34m=\u001b[0m \u001b[0mself\u001b[0m\u001b[0;34m.\u001b[0m\u001b[0msend\u001b[0m\u001b[0;34m(\u001b[0m\u001b[0mprep\u001b[0m\u001b[0;34m,\u001b[0m \u001b[0;34m**\u001b[0m\u001b[0msend_kwargs\u001b[0m\u001b[0;34m)\u001b[0m\u001b[0;34m\u001b[0m\u001b[0;34m\u001b[0m\u001b[0m\n\u001b[0m\u001b[1;32m    588\u001b[0m \u001b[0;34m\u001b[0m\u001b[0m\n\u001b[1;32m    589\u001b[0m         \u001b[0;32mreturn\u001b[0m \u001b[0mresp\u001b[0m\u001b[0;34m\u001b[0m\u001b[0;34m\u001b[0m\u001b[0m\n",
      "\u001b[0;32m~/anaconda3/lib/python3.7/site-packages/requests/sessions.py\u001b[0m in \u001b[0;36msend\u001b[0;34m(self, request, **kwargs)\u001b[0m\n\u001b[1;32m    721\u001b[0m             \u001b[0;31m# Redirect resolving generator.\u001b[0m\u001b[0;34m\u001b[0m\u001b[0;34m\u001b[0m\u001b[0;34m\u001b[0m\u001b[0m\n\u001b[1;32m    722\u001b[0m             \u001b[0mgen\u001b[0m \u001b[0;34m=\u001b[0m \u001b[0mself\u001b[0m\u001b[0;34m.\u001b[0m\u001b[0mresolve_redirects\u001b[0m\u001b[0;34m(\u001b[0m\u001b[0mr\u001b[0m\u001b[0;34m,\u001b[0m \u001b[0mrequest\u001b[0m\u001b[0;34m,\u001b[0m \u001b[0;34m**\u001b[0m\u001b[0mkwargs\u001b[0m\u001b[0;34m)\u001b[0m\u001b[0;34m\u001b[0m\u001b[0;34m\u001b[0m\u001b[0m\n\u001b[0;32m--> 723\u001b[0;31m             \u001b[0mhistory\u001b[0m \u001b[0;34m=\u001b[0m \u001b[0;34m[\u001b[0m\u001b[0mresp\u001b[0m \u001b[0;32mfor\u001b[0m \u001b[0mresp\u001b[0m \u001b[0;32min\u001b[0m \u001b[0mgen\u001b[0m\u001b[0;34m]\u001b[0m\u001b[0;34m\u001b[0m\u001b[0;34m\u001b[0m\u001b[0m\n\u001b[0m\u001b[1;32m    724\u001b[0m         \u001b[0;32melse\u001b[0m\u001b[0;34m:\u001b[0m\u001b[0;34m\u001b[0m\u001b[0;34m\u001b[0m\u001b[0m\n\u001b[1;32m    725\u001b[0m             \u001b[0mhistory\u001b[0m \u001b[0;34m=\u001b[0m \u001b[0;34m[\u001b[0m\u001b[0;34m]\u001b[0m\u001b[0;34m\u001b[0m\u001b[0;34m\u001b[0m\u001b[0m\n",
      "\u001b[0;32m~/anaconda3/lib/python3.7/site-packages/requests/sessions.py\u001b[0m in \u001b[0;36m<listcomp>\u001b[0;34m(.0)\u001b[0m\n\u001b[1;32m    721\u001b[0m             \u001b[0;31m# Redirect resolving generator.\u001b[0m\u001b[0;34m\u001b[0m\u001b[0;34m\u001b[0m\u001b[0;34m\u001b[0m\u001b[0m\n\u001b[1;32m    722\u001b[0m             \u001b[0mgen\u001b[0m \u001b[0;34m=\u001b[0m \u001b[0mself\u001b[0m\u001b[0;34m.\u001b[0m\u001b[0mresolve_redirects\u001b[0m\u001b[0;34m(\u001b[0m\u001b[0mr\u001b[0m\u001b[0;34m,\u001b[0m \u001b[0mrequest\u001b[0m\u001b[0;34m,\u001b[0m \u001b[0;34m**\u001b[0m\u001b[0mkwargs\u001b[0m\u001b[0;34m)\u001b[0m\u001b[0;34m\u001b[0m\u001b[0;34m\u001b[0m\u001b[0m\n\u001b[0;32m--> 723\u001b[0;31m             \u001b[0mhistory\u001b[0m \u001b[0;34m=\u001b[0m \u001b[0;34m[\u001b[0m\u001b[0mresp\u001b[0m \u001b[0;32mfor\u001b[0m \u001b[0mresp\u001b[0m \u001b[0;32min\u001b[0m \u001b[0mgen\u001b[0m\u001b[0;34m]\u001b[0m\u001b[0;34m\u001b[0m\u001b[0;34m\u001b[0m\u001b[0m\n\u001b[0m\u001b[1;32m    724\u001b[0m         \u001b[0;32melse\u001b[0m\u001b[0;34m:\u001b[0m\u001b[0;34m\u001b[0m\u001b[0;34m\u001b[0m\u001b[0m\n\u001b[1;32m    725\u001b[0m             \u001b[0mhistory\u001b[0m \u001b[0;34m=\u001b[0m \u001b[0;34m[\u001b[0m\u001b[0;34m]\u001b[0m\u001b[0;34m\u001b[0m\u001b[0;34m\u001b[0m\u001b[0m\n",
      "\u001b[0;32m~/anaconda3/lib/python3.7/site-packages/requests/sessions.py\u001b[0m in \u001b[0;36mresolve_redirects\u001b[0;34m(self, resp, req, stream, timeout, verify, cert, proxies, yield_requests, **adapter_kwargs)\u001b[0m\n\u001b[1;32m    272\u001b[0m                     \u001b[0mproxies\u001b[0m\u001b[0;34m=\u001b[0m\u001b[0mproxies\u001b[0m\u001b[0;34m,\u001b[0m\u001b[0;34m\u001b[0m\u001b[0;34m\u001b[0m\u001b[0m\n\u001b[1;32m    273\u001b[0m                     \u001b[0mallow_redirects\u001b[0m\u001b[0;34m=\u001b[0m\u001b[0;32mFalse\u001b[0m\u001b[0;34m,\u001b[0m\u001b[0;34m\u001b[0m\u001b[0;34m\u001b[0m\u001b[0m\n\u001b[0;32m--> 274\u001b[0;31m                     \u001b[0;34m**\u001b[0m\u001b[0madapter_kwargs\u001b[0m\u001b[0;34m,\u001b[0m\u001b[0;34m\u001b[0m\u001b[0;34m\u001b[0m\u001b[0m\n\u001b[0m\u001b[1;32m    275\u001b[0m                 )\n\u001b[1;32m    276\u001b[0m \u001b[0;34m\u001b[0m\u001b[0m\n",
      "\u001b[0;32m~/anaconda3/lib/python3.7/site-packages/requests/sessions.py\u001b[0m in \u001b[0;36msend\u001b[0;34m(self, request, **kwargs)\u001b[0m\n\u001b[1;32m    743\u001b[0m \u001b[0;34m\u001b[0m\u001b[0m\n\u001b[1;32m    744\u001b[0m         \u001b[0;32mif\u001b[0m \u001b[0;32mnot\u001b[0m \u001b[0mstream\u001b[0m\u001b[0;34m:\u001b[0m\u001b[0;34m\u001b[0m\u001b[0;34m\u001b[0m\u001b[0m\n\u001b[0;32m--> 745\u001b[0;31m             \u001b[0mr\u001b[0m\u001b[0;34m.\u001b[0m\u001b[0mcontent\u001b[0m\u001b[0;34m\u001b[0m\u001b[0;34m\u001b[0m\u001b[0m\n\u001b[0m\u001b[1;32m    746\u001b[0m \u001b[0;34m\u001b[0m\u001b[0m\n\u001b[1;32m    747\u001b[0m         \u001b[0;32mreturn\u001b[0m \u001b[0mr\u001b[0m\u001b[0;34m\u001b[0m\u001b[0;34m\u001b[0m\u001b[0m\n",
      "\u001b[0;32m~/anaconda3/lib/python3.7/site-packages/requests/models.py\u001b[0m in \u001b[0;36mcontent\u001b[0;34m(self)\u001b[0m\n\u001b[1;32m    897\u001b[0m                 \u001b[0mself\u001b[0m\u001b[0;34m.\u001b[0m\u001b[0m_content\u001b[0m \u001b[0;34m=\u001b[0m \u001b[0;32mNone\u001b[0m\u001b[0;34m\u001b[0m\u001b[0;34m\u001b[0m\u001b[0m\n\u001b[1;32m    898\u001b[0m             \u001b[0;32melse\u001b[0m\u001b[0;34m:\u001b[0m\u001b[0;34m\u001b[0m\u001b[0;34m\u001b[0m\u001b[0m\n\u001b[0;32m--> 899\u001b[0;31m                 \u001b[0mself\u001b[0m\u001b[0;34m.\u001b[0m\u001b[0m_content\u001b[0m \u001b[0;34m=\u001b[0m \u001b[0;34mb\"\"\u001b[0m\u001b[0;34m.\u001b[0m\u001b[0mjoin\u001b[0m\u001b[0;34m(\u001b[0m\u001b[0mself\u001b[0m\u001b[0;34m.\u001b[0m\u001b[0miter_content\u001b[0m\u001b[0;34m(\u001b[0m\u001b[0mCONTENT_CHUNK_SIZE\u001b[0m\u001b[0;34m)\u001b[0m\u001b[0;34m)\u001b[0m \u001b[0;32mor\u001b[0m \u001b[0;34mb\"\"\u001b[0m\u001b[0;34m\u001b[0m\u001b[0;34m\u001b[0m\u001b[0m\n\u001b[0m\u001b[1;32m    900\u001b[0m \u001b[0;34m\u001b[0m\u001b[0m\n\u001b[1;32m    901\u001b[0m         \u001b[0mself\u001b[0m\u001b[0;34m.\u001b[0m\u001b[0m_content_consumed\u001b[0m \u001b[0;34m=\u001b[0m \u001b[0;32mTrue\u001b[0m\u001b[0;34m\u001b[0m\u001b[0;34m\u001b[0m\u001b[0m\n",
      "\u001b[0;32m~/anaconda3/lib/python3.7/site-packages/requests/models.py\u001b[0m in \u001b[0;36mgenerate\u001b[0;34m()\u001b[0m\n\u001b[1;32m    820\u001b[0m                     \u001b[0;32mraise\u001b[0m \u001b[0mContentDecodingError\u001b[0m\u001b[0;34m(\u001b[0m\u001b[0me\u001b[0m\u001b[0;34m)\u001b[0m\u001b[0;34m\u001b[0m\u001b[0;34m\u001b[0m\u001b[0m\n\u001b[1;32m    821\u001b[0m                 \u001b[0;32mexcept\u001b[0m \u001b[0mReadTimeoutError\u001b[0m \u001b[0;32mas\u001b[0m \u001b[0me\u001b[0m\u001b[0;34m:\u001b[0m\u001b[0;34m\u001b[0m\u001b[0;34m\u001b[0m\u001b[0m\n\u001b[0;32m--> 822\u001b[0;31m                     \u001b[0;32mraise\u001b[0m \u001b[0mConnectionError\u001b[0m\u001b[0;34m(\u001b[0m\u001b[0me\u001b[0m\u001b[0;34m)\u001b[0m\u001b[0;34m\u001b[0m\u001b[0;34m\u001b[0m\u001b[0m\n\u001b[0m\u001b[1;32m    823\u001b[0m                 \u001b[0;32mexcept\u001b[0m \u001b[0mSSLError\u001b[0m \u001b[0;32mas\u001b[0m \u001b[0me\u001b[0m\u001b[0;34m:\u001b[0m\u001b[0;34m\u001b[0m\u001b[0;34m\u001b[0m\u001b[0m\n\u001b[1;32m    824\u001b[0m                     \u001b[0;32mraise\u001b[0m \u001b[0mRequestsSSLError\u001b[0m\u001b[0;34m(\u001b[0m\u001b[0me\u001b[0m\u001b[0;34m)\u001b[0m\u001b[0;34m\u001b[0m\u001b[0;34m\u001b[0m\u001b[0m\n",
      "\u001b[0;31mConnectionError\u001b[0m: HTTPSConnectionPool(host='www.billboard.com', port=443): Read timed out."
     ]
    }
   ],
   "source": [
    "for year in years:\n",
    "    df_rap_oy_year = df_rap_oy.loc[df_rap_oy['year'] == year]\n",
    "    bb_year = year-1\n",
    "\n",
    "    # Define the start and end dates of the year\n",
    "    start_date = date(bb_year-1, 10, 1)\n",
    "    end_date = date(bb_year, 9, 30)\n",
    "\n",
    "    dates = []\n",
    "    d = start_date\n",
    "    while d <= end_date:\n",
    "        if d.weekday() == 1:  # Sunday has weekday index 6\n",
    "            dates.append(d)\n",
    "        d += timedelta(days=1)\n",
    "\n",
    "    rankings = {}\n",
    "\n",
    "    songs = df_rap_oy_year['song']\n",
    "    for song in songs:\n",
    "        rankings[song] = []\n",
    "\n",
    "    # Iterate over each date in the year\n",
    "    for d in dates:\n",
    "        # Retrieve the chart data for the Hot 100 chart for the given date\n",
    "        chart = billboard.ChartData('hot-100', date=d.isoformat())\n",
    "        \n",
    "        # Iterate over each row in the dataframe\n",
    "        for index, row in df_rap_oy_year.iterrows():\n",
    "            song = row['song']\n",
    "            artist = row['artist']\n",
    "            # Check if the song is on the chart\n",
    "            for track in chart:\n",
    "                if song.lower() == track.title.lower():\n",
    "                    # Record the song's position on the chart\n",
    "                    rankings[song].append(track.rank)\n",
    "                    break\n",
    "            else:\n",
    "                # If the song is not on the chart, record a 150 value\n",
    "                rankings[song].append(150)\n",
    "\n",
    "\n",
    "\n",
    "    rankings_for_df = []\n",
    "    for song in songs:\n",
    "        rankings_for_df.append(rankings[song])\n",
    "\n",
    "    df_rap_oy_year[\"rankings\"] = rankings_for_df\n",
    "    df_list.append(df_rap_oy_year)\n",
    "    print(\"Done with \", year) "
   ]
  },
  {
   "cell_type": "code",
   "execution_count": 85,
   "metadata": {},
   "outputs": [
    {
     "data": {
      "text/html": "<div>\n<style scoped>\n    .dataframe tbody tr th:only-of-type {\n        vertical-align: middle;\n    }\n\n    .dataframe tbody tr th {\n        vertical-align: top;\n    }\n\n    .dataframe thead th {\n        text-align: right;\n    }\n</style>\n<table border=\"1\" class=\"dataframe\">\n  <thead>\n    <tr style=\"text-align: right;\">\n      <th></th>\n      <th>year</th>\n      <th>award category</th>\n      <th>song</th>\n      <th>artist</th>\n      <th>wasWinner</th>\n      <th>rankings</th>\n    </tr>\n  </thead>\n  <tbody>\n    <tr>\n      <th>281</th>\n      <td>2011</td>\n      <td>Song of the Year</td>\n      <td>Love the Way You Lie</td>\n      <td>Eminem</td>\n      <td>no</td>\n      <td>[150, 150, 150, 150, 150, 150, 150, 150, 150, ...</td>\n    </tr>\n    <tr>\n      <th>280</th>\n      <td>2011</td>\n      <td>Song of the Year</td>\n      <td>The House That Built Me</td>\n      <td>Miranda Lambert</td>\n      <td>no</td>\n      <td>[150, 150, 150, 150, 150, 150, 150, 150, 150, ...</td>\n    </tr>\n    <tr>\n      <th>279</th>\n      <td>2011</td>\n      <td>Song of the Year</td>\n      <td>F**k You</td>\n      <td>Cee Lo Green</td>\n      <td>no</td>\n      <td>[150, 150, 150, 150, 150, 150, 150, 150, 150, ...</td>\n    </tr>\n    <tr>\n      <th>278</th>\n      <td>2011</td>\n      <td>Song of the Year</td>\n      <td>Beg Steal Or Borrow</td>\n      <td>Ray LaMontagne and The Pariah Dogs</td>\n      <td>no</td>\n      <td>[150, 150, 150, 150, 150, 150, 150, 150, 150, ...</td>\n    </tr>\n    <tr>\n      <th>53</th>\n      <td>2011</td>\n      <td>Song of the Year</td>\n      <td>Need You Now</td>\n      <td>Lady Antebellum</td>\n      <td>yes</td>\n      <td>[37, 30, 24, 22, 18, 22, 22, 5, 14, 17, 16, 19...</td>\n    </tr>\n  </tbody>\n</table>\n</div>",
      "text/plain": "     year    award category                     song  \\\n281  2011  Song of the Year     Love the Way You Lie   \n280  2011  Song of the Year  The House That Built Me   \n279  2011  Song of the Year                 F**k You   \n278  2011  Song of the Year      Beg Steal Or Borrow   \n53   2011  Song of the Year             Need You Now   \n\n                                  artist wasWinner  \\\n281                              Eminem         no   \n280                      Miranda Lambert        no   \n279                         Cee Lo Green        no   \n278   Ray LaMontagne and The Pariah Dogs        no   \n53                       Lady Antebellum       yes   \n\n                                              rankings  \n281  [150, 150, 150, 150, 150, 150, 150, 150, 150, ...  \n280  [150, 150, 150, 150, 150, 150, 150, 150, 150, ...  \n279  [150, 150, 150, 150, 150, 150, 150, 150, 150, ...  \n278  [150, 150, 150, 150, 150, 150, 150, 150, 150, ...  \n53   [37, 30, 24, 22, 18, 22, 22, 5, 14, 17, 16, 19...  "
     },
     "execution_count": 85,
     "metadata": {},
     "output_type": "execute_result"
    }
   ],
   "source": [
    "df_list[32]"
   ]
  },
  {
   "cell_type": "code",
   "execution_count": 86,
   "metadata": {},
   "outputs": [],
   "source": [
    "bb_df = pd.concat(df_list, ignore_index=True)"
   ]
  },
  {
   "cell_type": "code",
   "execution_count": 87,
   "metadata": {},
   "outputs": [],
   "source": [
    "bb_df.to_csv(\"billboard_soy.csv\")"
   ]
  },
  {
   "cell_type": "code",
   "execution_count": 79,
   "metadata": {},
   "outputs": [],
   "source": [
    "df_list[0].to_csv(\"temp.csv\")"
   ]
  },
  {
   "cell_type": "code",
   "execution_count": 71,
   "metadata": {},
   "outputs": [],
   "source": [
    "# Define year to retrive data for \n",
    "year = 2022\n",
    "df_soy_year = df_soy.loc[df_soy['year'] == year]\n",
    "bb_year = year-1\n",
    "\n",
    "# Define the start and end dates of the year\n",
    "start_date = date(bb_year-1, 10, 1)\n",
    "end_date = date(bb_year, 9, 30)"
   ]
  },
  {
   "cell_type": "code",
   "execution_count": 72,
   "metadata": {},
   "outputs": [],
   "source": [
    "dates = []\n",
    "d = start_date\n",
    "while d <= end_date:\n",
    "    if d.weekday() == 1:  # Sunday has weekday index 6\n",
    "        dates.append(d)\n",
    "    d += timedelta(days=1)"
   ]
  },
  {
   "cell_type": "code",
   "execution_count": 52,
   "metadata": {},
   "outputs": [],
   "source": [
    "rankings = {}"
   ]
  },
  {
   "cell_type": "code",
   "execution_count": 53,
   "metadata": {},
   "outputs": [],
   "source": [
    "songs = df_soy_year['song']\n",
    "for song in songs:\n",
    "    rankings[song] = []"
   ]
  },
  {
   "cell_type": "code",
   "execution_count": 54,
   "metadata": {},
   "outputs": [
    {
     "name": "stdout",
     "output_type": "stream",
     "text": [
      "Done for 2020-10-04\n",
      "Done for 2020-10-11\n",
      "Done for 2020-10-18\n",
      "Done for 2020-10-25\n",
      "Done for 2020-11-01\n",
      "Done for 2020-11-08\n",
      "Done for 2020-11-15\n",
      "Done for 2020-11-22\n",
      "Done for 2020-11-29\n",
      "Done for 2020-12-06\n",
      "Done for 2020-12-13\n",
      "Done for 2020-12-20\n",
      "Done for 2020-12-27\n",
      "Done for 2021-01-03\n",
      "Done for 2021-01-10\n",
      "Done for 2021-01-17\n",
      "Done for 2021-01-24\n",
      "Done for 2021-01-31\n",
      "Done for 2021-02-07\n",
      "Done for 2021-02-14\n",
      "Done for 2021-02-21\n",
      "Done for 2021-02-28\n",
      "Done for 2021-03-07\n",
      "Done for 2021-03-14\n",
      "Done for 2021-03-21\n",
      "Done for 2021-03-28\n",
      "Done for 2021-04-04\n",
      "Done for 2021-04-11\n",
      "Done for 2021-04-18\n",
      "Done for 2021-04-25\n",
      "Done for 2021-05-02\n",
      "Done for 2021-05-09\n",
      "Done for 2021-05-16\n",
      "Done for 2021-05-23\n",
      "Done for 2021-05-30\n",
      "Done for 2021-06-06\n",
      "Done for 2021-06-13\n",
      "Done for 2021-06-20\n",
      "Done for 2021-06-27\n",
      "Done for 2021-07-04\n",
      "Done for 2021-07-11\n",
      "Done for 2021-07-18\n",
      "Done for 2021-07-25\n",
      "Done for 2021-08-01\n",
      "Done for 2021-08-08\n",
      "Done for 2021-08-15\n",
      "Done for 2021-08-22\n",
      "Done for 2021-08-29\n",
      "Done for 2021-09-05\n",
      "Done for 2021-09-12\n",
      "Done for 2021-09-19\n",
      "Done for 2021-09-26\n"
     ]
    }
   ],
   "source": [
    "# Iterate over each date in the year\n",
    "for d in dates:\n",
    "    # Retrieve the chart data for the Hot 100 chart for the given date\n",
    "    chart = billboard.ChartData('hot-100', date=d.isoformat())\n",
    "    \n",
    "    # Iterate over each row in the dataframe\n",
    "    for index, row in df_soy_year.iterrows():\n",
    "        song = row['song']\n",
    "        artist = row['artist']\n",
    "        # Check if the song is on the chart\n",
    "        for track in chart:\n",
    "            if song.lower() == track.title.lower():\n",
    "                # Record the song's position on the chart\n",
    "                rankings[song].append(track.rank)\n",
    "                break\n",
    "        else:\n",
    "            # If the song is not on the chart, record a 150 value\n",
    "            rankings[song].append(150)\n",
    "\n",
    "    print(\"Done for\", d)"
   ]
  },
  {
   "cell_type": "code",
   "execution_count": 59,
   "metadata": {},
   "outputs": [],
   "source": [
    "rankings_for_df = []\n",
    "for song in songs:\n",
    "    rankings_for_df.append(rankings[song])\n",
    "\n"
   ]
  },
  {
   "cell_type": "code",
   "execution_count": 65,
   "metadata": {},
   "outputs": [],
   "source": [
    "df_soy_year.to_csv(\"temp.csv\")"
   ]
  },
  {
   "cell_type": "code",
   "execution_count": 15,
   "metadata": {},
   "outputs": [],
   "source": [
    "df_soy_2000 = df_soy.loc[df_soy['year'] == 2000]"
   ]
  },
  {
   "cell_type": "code",
   "execution_count": 16,
   "metadata": {},
   "outputs": [
    {
     "data": {
      "text/html": "<div>\n<style scoped>\n    .dataframe tbody tr th:only-of-type {\n        vertical-align: middle;\n    }\n\n    .dataframe tbody tr th {\n        vertical-align: top;\n    }\n\n    .dataframe thead th {\n        text-align: right;\n    }\n</style>\n<table border=\"1\" class=\"dataframe\">\n  <thead>\n    <tr style=\"text-align: right;\">\n      <th></th>\n      <th>year</th>\n      <th>award category</th>\n      <th>song</th>\n      <th>artist</th>\n      <th>wasWinner</th>\n    </tr>\n  </thead>\n  <tbody>\n    <tr>\n      <th>42</th>\n      <td>2000</td>\n      <td>Song of the Year</td>\n      <td>Smooth</td>\n      <td>Santana featuring Rob Thomas</td>\n      <td>yes</td>\n    </tr>\n    <tr>\n      <th>234</th>\n      <td>2000</td>\n      <td>Song of the Year</td>\n      <td>I Want It That Way</td>\n      <td>Backstreet Boys</td>\n      <td>no</td>\n    </tr>\n    <tr>\n      <th>235</th>\n      <td>2000</td>\n      <td>Song of the Year</td>\n      <td>Livin' la Vida Loca</td>\n      <td>Ricky Martin</td>\n      <td>no</td>\n    </tr>\n    <tr>\n      <th>237</th>\n      <td>2000</td>\n      <td>Song of the Year</td>\n      <td>You've Got a Way</td>\n      <td>Shania Twain</td>\n      <td>no</td>\n    </tr>\n    <tr>\n      <th>236</th>\n      <td>2000</td>\n      <td>Song of the Year</td>\n      <td>T-Boz</td>\n      <td>TLC</td>\n      <td>no</td>\n    </tr>\n  </tbody>\n</table>\n</div>",
      "text/plain": "     year    award category                 song  \\\n42   2000  Song of the Year               Smooth   \n234  2000  Song of the Year   I Want It That Way   \n235  2000  Song of the Year  Livin' la Vida Loca   \n237  2000  Song of the Year     You've Got a Way   \n236  2000  Song of the Year                T-Boz   \n\n                           artist wasWinner  \n42   Santana featuring Rob Thomas       yes  \n234               Backstreet Boys        no  \n235                  Ricky Martin        no  \n237                  Shania Twain        no  \n236                           TLC        no  "
     },
     "execution_count": 16,
     "metadata": {},
     "output_type": "execute_result"
    }
   ],
   "source": [
    "df_soy_2000"
   ]
  },
  {
   "cell_type": "code",
   "execution_count": 7,
   "metadata": {},
   "outputs": [],
   "source": [
    "import string"
   ]
  },
  {
   "cell_type": "code",
   "execution_count": 61,
   "metadata": {},
   "outputs": [],
   "source": [
    "years = [i for i in range(2000, 2023)]"
   ]
  },
  {
   "cell_type": "code",
   "execution_count": 85,
   "metadata": {},
   "outputs": [
    {
     "data": {
      "text/plain": "billboard.YearEndChartEntry(title='Heat Waves', artist='Glass Animals')"
     },
     "execution_count": 85,
     "metadata": {},
     "output_type": "execute_result"
    }
   ],
   "source": [
    "chart[0]"
   ]
  },
  {
   "cell_type": "code",
   "execution_count": null,
   "metadata": {},
   "outputs": [],
   "source": []
  },
  {
   "cell_type": "code",
   "execution_count": 94,
   "metadata": {},
   "outputs": [],
   "source": [
    "df_soy_bb_eoy =  df_soy = df_soy[(df_soy['year'] >= 2007) & (df_soy['year'] <= 2023)]"
   ]
  },
  {
   "cell_type": "code",
   "execution_count": 96,
   "metadata": {},
   "outputs": [
    {
     "data": {
      "text/html": "<div>\n<style scoped>\n    .dataframe tbody tr th:only-of-type {\n        vertical-align: middle;\n    }\n\n    .dataframe tbody tr th {\n        vertical-align: top;\n    }\n\n    .dataframe thead th {\n        text-align: right;\n    }\n</style>\n<table border=\"1\" class=\"dataframe\">\n  <thead>\n    <tr style=\"text-align: right;\">\n      <th></th>\n      <th>year</th>\n      <th>award category</th>\n      <th>song</th>\n      <th>artist</th>\n      <th>wasWinner</th>\n    </tr>\n  </thead>\n  <tbody>\n    <tr>\n      <th>262</th>\n      <td>2007</td>\n      <td>Song of the Year</td>\n      <td>Be Without You</td>\n      <td>Mary J. Blige</td>\n      <td>no</td>\n    </tr>\n    <tr>\n      <th>263</th>\n      <td>2007</td>\n      <td>Song of the Year</td>\n      <td>You're Beautiful</td>\n      <td>James Blunt</td>\n      <td>no</td>\n    </tr>\n    <tr>\n      <th>264</th>\n      <td>2007</td>\n      <td>Song of the Year</td>\n      <td>Put Your Records On</td>\n      <td>Corinne Bailey Rae</td>\n      <td>no</td>\n    </tr>\n    <tr>\n      <th>265</th>\n      <td>2007</td>\n      <td>Song of the Year</td>\n      <td>Jesus Take the Wheel</td>\n      <td>Carrie Underwood</td>\n      <td>no</td>\n    </tr>\n    <tr>\n      <th>49</th>\n      <td>2007</td>\n      <td>Song of the Year</td>\n      <td>Not Ready to Make Nice</td>\n      <td>Dixie Chicks</td>\n      <td>yes</td>\n    </tr>\n    <tr>\n      <th>...</th>\n      <td>...</td>\n      <td>...</td>\n      <td>...</td>\n      <td>...</td>\n      <td>...</td>\n    </tr>\n    <tr>\n      <th>342</th>\n      <td>2023</td>\n      <td>Song of the Year</td>\n      <td>All Too Well (10 Minute Version) (The Short Film)</td>\n      <td>Taylor Swift</td>\n      <td>no</td>\n    </tr>\n    <tr>\n      <th>343</th>\n      <td>2023</td>\n      <td>Song of the Year</td>\n      <td>As It Was</td>\n      <td>Harry Styles</td>\n      <td>no</td>\n    </tr>\n    <tr>\n      <th>344</th>\n      <td>2023</td>\n      <td>Song of the Year</td>\n      <td>Bad Habit</td>\n      <td>Steve Lacy</td>\n      <td>no</td>\n    </tr>\n    <tr>\n      <th>345</th>\n      <td>2023</td>\n      <td>Song of the Year</td>\n      <td>The-Dream</td>\n      <td>Beyoncé</td>\n      <td>no</td>\n    </tr>\n    <tr>\n      <th>348</th>\n      <td>2023</td>\n      <td>Song of the Year</td>\n      <td>The Heart Part 5</td>\n      <td>Kendrick Lamar</td>\n      <td>no</td>\n    </tr>\n  </tbody>\n</table>\n<p>104 rows × 5 columns</p>\n</div>",
      "text/plain": "     year    award category  \\\n262  2007  Song of the Year   \n263  2007  Song of the Year   \n264  2007  Song of the Year   \n265  2007  Song of the Year   \n49   2007  Song of the Year   \n..    ...               ...   \n342  2023  Song of the Year   \n343  2023  Song of the Year   \n344  2023  Song of the Year   \n345  2023  Song of the Year   \n348  2023  Song of the Year   \n\n                                                  song               artist  \\\n262                                     Be Without You        Mary J. Blige   \n263                                   You're Beautiful          James Blunt   \n264                                Put Your Records On   Corinne Bailey Rae   \n265                               Jesus Take the Wheel     Carrie Underwood   \n49                              Not Ready to Make Nice         Dixie Chicks   \n..                                                 ...                  ...   \n342  All Too Well (10 Minute Version) (The Short Film)         Taylor Swift   \n343                                          As It Was         Harry Styles   \n344                                          Bad Habit           Steve Lacy   \n345                                          The-Dream              Beyoncé   \n348                                   The Heart Part 5       Kendrick Lamar   \n\n    wasWinner  \n262        no  \n263        no  \n264        no  \n265        no  \n49        yes  \n..        ...  \n342        no  \n343        no  \n344        no  \n345        no  \n348        no  \n\n[104 rows x 5 columns]"
     },
     "execution_count": 96,
     "metadata": {},
     "output_type": "execute_result"
    }
   ],
   "source": [
    "df_soy_bb_eoy"
   ]
  },
  {
   "cell_type": "code",
   "execution_count": 105,
   "metadata": {},
   "outputs": [],
   "source": [
    "years = [i for i in range(2007, 2024)]"
   ]
  },
  {
   "cell_type": "code",
   "execution_count": 107,
   "metadata": {},
   "outputs": [],
   "source": [
    "bb_eoy = []"
   ]
  },
  {
   "cell_type": "code",
   "execution_count": 108,
   "metadata": {},
   "outputs": [
    {
     "name": "stdout",
     "output_type": "stream",
     "text": [
      "Be Without You by Mary J. Blige on the chart in position 11\n",
      "You're Beautiful by James Blunt on the chart in position 4\n",
      "Put Your Records On did not appear on the chart\n",
      "Jesus Take the Wheel by Carrie Underwood on the chart in position 78\n",
      "Not Ready to Make Nice did not appear on the chart\n",
      "Done with year  2007\n",
      "Like a Star did not appear on the chart\n",
      "Umbrella by Rihanna Featuring Jay-Z on the chart in position 2\n",
      "Rehab by Amy Winehouse on the chart in position 74\n",
      "Before He Cheats by Carrie Underwood on the chart in position 6\n",
      "Hey There Delilah by Plain White T's on the chart in position 7\n",
      "Done with year  2008\n",
      "I'm Yours by Jason Mraz on the chart in position 27\n",
      "Viva la Vida by Coldplay on the chart in position 13\n",
      "American Boy by Estelle Featuring Kanye West on the chart in position 39\n",
      "Love Song by Sara Bareilles on the chart in position 7\n",
      "Chasing Pavements did not appear on the chart\n",
      "Done with year  2009\n",
      "Poker Face by Lady Gaga on the chart in position 2\n",
      "Pretty Wings by Maxwell on the chart in position 99\n",
      "Use Somebody by Kings Of Leon on the chart in position 14\n",
      "Single Ladies (Put a Ring on It) by Beyonce on the chart in position 8\n",
      "You Belong with Me by Taylor Swift on the chart in position 11\n",
      "Done with year  2010\n",
      "The House That Built Me by Miranda Lambert on the chart in position 91\n",
      "F**k You did not appear on the chart\n",
      "Love the Way You Lie by Eminem Featuring Rihanna on the chart in position 7\n",
      "Beg Steal Or Borrow did not appear on the chart\n",
      "Need You Now by Lady Antebellum on the chart in position 2\n",
      "Done with year  2011\n",
      "Grenade by Bruno Mars on the chart in position 6\n",
      "The Cave did not appear on the chart\n",
      "Rolling in the Deep by Adele on the chart in position 1\n",
      "Holocene did not appear on the chart\n",
      "All of the Lights by Kanye West on the chart in position 58\n",
      "Done with year  2012\n",
      "The A Team did not appear on the chart\n",
      "Adorn by Miguel on the chart in position 97\n",
      "We Are Young by fun. Featuring Janelle Monae on the chart in position 3\n",
      "Stronger (What Doesn't Kill You) by Kelly Clarkson on the chart in position 7\n",
      "Call Me Maybe by Carly Rae Jepsen on the chart in position 2\n",
      "Done with year  2013\n",
      "Just Give Me a Reason by P!nk Featuring Nate Ruess on the chart in position 7\n",
      "Same Love by Macklemore & Ryan Lewis Featuring Mary Lambert on the chart in position 43\n",
      "Royals by Lorde on the chart in position 15\n",
      "Locked Out of Heaven by Bruno Mars on the chart in position 11\n",
      "Roar by Katy Perry on the chart in position 10\n",
      "Done with year  2014\n",
      "All About That Bass by Meghan Trainor on the chart in position 8\n",
      "Shake It Off by Taylor Swift on the chart in position 13\n",
      "Stay with Me by Sam Smith on the chart in position 10\n",
      "Chandelier by Sia on the chart in position 25\n",
      "Take Me to Church did not appear on the chart\n",
      "Done with year  2015\n",
      "Alright did not appear on the chart\n",
      "Blank Space by Taylor Swift on the chart in position 7\n",
      "Girl Crush by Little Big Town on the chart in position 63\n",
      "See You Again by Wiz Khalifa Featuring Charlie Puth on the chart in position 3\n",
      "Thinking Out Loud by Ed Sheeran on the chart in position 2\n",
      "Done with year  2016\n",
      "Hello by Adele on the chart in position 7\n",
      "I Took a Pill in Ibiza by Mike Posner on the chart in position 15\n",
      "Formation did not appear on the chart\n",
      "Love Yourself by Justin Bieber on the chart in position 1\n",
      "7 Years by Lukas Graham on the chart in position 12\n",
      "Done with year  2017\n",
      "Despacito by Luis Fonsi & Daddy Yankee Featuring Justin Bieber on the chart in position 2\n",
      "4:44 did not appear on the chart\n",
      "Issues by Julia Michaels on the chart in position 29\n",
      "1-800-273-8255 by Logic Featuring Alessia Cara & Khalid on the chart in position 31\n",
      "That's What I Like by Bruno Mars on the chart in position 3\n",
      "Done with year  2018\n",
      "God's Plan by Drake on the chart in position 1\n",
      "All the Stars by Kendrick Lamar & SZA on the chart in position 47\n",
      "Shallow did not appear on the chart\n",
      "The Middle by Zedd, Maren Morris & Grey on the chart in position 8\n",
      "In My Blood by Shawn Mendes on the chart in position 46\n",
      "The Joke did not appear on the chart\n",
      "This Is America by Childish Gambino on the chart in position 51\n",
      "Boo'd Up by Ella Mai on the chart in position 15\n",
      "Done with year  2019\n",
      "Bad Guy by Billie Eilish on the chart in position 4\n",
      "Bring My Flowers Now did not appear on the chart\n",
      "Always Remember Us This Way did not appear on the chart\n",
      "Hard Place did not appear on the chart\n",
      "Norman Fucking Rockwell did not appear on the chart\n",
      "Someone You Loved by Lewis Capaldi on the chart in position 27\n",
      "Truth Hurts by Lizzo on the chart in position 13\n",
      "Lover did not appear on the chart\n",
      "Done with year  2020\n",
      "I Can't Breathe did not appear on the chart\n",
      "Kaydence did not appear on the chart\n",
      "The Box by Roddy Ricch on the chart in position 3\n",
      "Cardigan did not appear on the chart\n",
      "Circles by Post Malone on the chart in position 2\n",
      "Don't Start Now by Dua Lipa on the chart in position 4\n",
      "Everything I Wanted by Billie Eilish on the chart in position 18\n",
      "If the World Was Ending by JP Saxe Featuring Julia Michaels on the chart in position 56\n",
      "Done with year  2021\n",
      "Fight for You did not appear on the chart\n",
      "Bad Habits by Ed Sheeran on the chart in position 15\n",
      "A Beautiful Noise did not appear on the chart\n",
      "Drivers License by Olivia Rodrigo on the chart in position 8\n",
      "Leave the Door Open by Silk Sonic (Bruno Mars & Anderson .Paak) on the chart in position 7\n",
      "Happier Than Ever by Billie Eilish on the chart in position 94\n",
      "Fury did not appear on the chart\n",
      "Kiss Me More by Doja Cat Featuring SZA on the chart in position 6\n",
      "Right on Time did not appear on the chart\n",
      "Montero (Call Me by Your Name) by Lil Nas X on the chart in position 9\n",
      "Done with year  2022\n",
      "Easy on Me by Adele on the chart in position 4\n",
      "Just Like That did not appear on the chart\n",
      "God Did did not appear on the chart\n",
      "ABCDEFU by GAYLE on the chart in position 17\n",
      "Lizzo did not appear on the chart\n",
      "All Too Well (10 Minute Version) (The Short Film) did not appear on the chart\n",
      "As It Was by Harry Styles on the chart in position 2\n",
      "Bad Habit by Steve Lacy on the chart in position 28\n",
      "The-Dream did not appear on the chart\n",
      "The Heart Part 5 did not appear on the chart\n",
      "Done with year  2023\n"
     ]
    }
   ],
   "source": [
    "for year in years:\n",
    "    # Retrieve the chart data for the year X-1\n",
    "    chart = billboard.ChartData('hot-100-songs', year=year-1)\n",
    "    df_temp = df_soy_bb_eoy.loc[df_soy_bb_eoy['year'] == year]\n",
    "    # Iterate over each row in the dataframe and match the song with the chart data\n",
    "    for index, row in df_temp.iterrows():\n",
    "        song = row['song']\n",
    "        year = row['year']\n",
    "        i = 0\n",
    "        for track in chart:\n",
    "            i += 1\n",
    "            # Remove punctuation from the song title and chart title\n",
    "            song_clean = song.translate(str.maketrans('', '', string.punctuation)).lower()\n",
    "            track_title_clean = track.title.translate(str.maketrans('', '', string.punctuation)).lower()\n",
    "            if song_clean == track_title_clean:\n",
    "                # Print the song title, artist, top position and number of weeks on the chart\n",
    "                print(f\"{song} by {track.artist} on the chart in position {i}\")\n",
    "                bb_eoy.append(i)\n",
    "                break\n",
    "            \n",
    "        else:\n",
    "            # Handle the case where the song is not found on the chart\n",
    "            print(f\"{song} did not appear on the chart\")\n",
    "            bb_eoy.append(150)\n",
    "    print(\"Done with year \", year)"
   ]
  },
  {
   "cell_type": "code",
   "execution_count": 112,
   "metadata": {},
   "outputs": [],
   "source": [
    "df_soy_bb_eoy = df_soy_bb_eoy.copy()\n",
    "df_soy_bb_eoy[\"year end ranking\"] = bb_eoy"
   ]
  },
  {
   "cell_type": "code",
   "execution_count": 117,
   "metadata": {},
   "outputs": [
    {
     "data": {
      "text/html": "<div>\n<style scoped>\n    .dataframe tbody tr th:only-of-type {\n        vertical-align: middle;\n    }\n\n    .dataframe tbody tr th {\n        vertical-align: top;\n    }\n\n    .dataframe thead th {\n        text-align: right;\n    }\n</style>\n<table border=\"1\" class=\"dataframe\">\n  <thead>\n    <tr style=\"text-align: right;\">\n      <th></th>\n      <th>year</th>\n      <th>award category</th>\n      <th>song</th>\n      <th>artist</th>\n      <th>wasWinner</th>\n      <th>year end ranking</th>\n    </tr>\n  </thead>\n  <tbody>\n    <tr>\n      <th>262</th>\n      <td>2007</td>\n      <td>Song of the Year</td>\n      <td>Be Without You</td>\n      <td>Mary J. Blige</td>\n      <td>no</td>\n      <td>11</td>\n    </tr>\n    <tr>\n      <th>263</th>\n      <td>2007</td>\n      <td>Song of the Year</td>\n      <td>You're Beautiful</td>\n      <td>James Blunt</td>\n      <td>no</td>\n      <td>4</td>\n    </tr>\n    <tr>\n      <th>264</th>\n      <td>2007</td>\n      <td>Song of the Year</td>\n      <td>Put Your Records On</td>\n      <td>Corinne Bailey Rae</td>\n      <td>no</td>\n      <td>150</td>\n    </tr>\n    <tr>\n      <th>265</th>\n      <td>2007</td>\n      <td>Song of the Year</td>\n      <td>Jesus Take the Wheel</td>\n      <td>Carrie Underwood</td>\n      <td>no</td>\n      <td>78</td>\n    </tr>\n    <tr>\n      <th>49</th>\n      <td>2007</td>\n      <td>Song of the Year</td>\n      <td>Not Ready to Make Nice</td>\n      <td>Dixie Chicks</td>\n      <td>yes</td>\n      <td>150</td>\n    </tr>\n    <tr>\n      <th>268</th>\n      <td>2008</td>\n      <td>Song of the Year</td>\n      <td>Like a Star</td>\n      <td>Corinne Bailey Rae</td>\n      <td>no</td>\n      <td>150</td>\n    </tr>\n    <tr>\n      <th>269</th>\n      <td>2008</td>\n      <td>Song of the Year</td>\n      <td>Umbrella</td>\n      <td>Rihanna</td>\n      <td>no</td>\n      <td>2</td>\n    </tr>\n    <tr>\n      <th>50</th>\n      <td>2008</td>\n      <td>Song of the Year</td>\n      <td>Rehab</td>\n      <td>Amy Winehouse</td>\n      <td>yes</td>\n      <td>74</td>\n    </tr>\n    <tr>\n      <th>266</th>\n      <td>2008</td>\n      <td>Song of the Year</td>\n      <td>Before He Cheats</td>\n      <td>Carrie Underwood</td>\n      <td>no</td>\n      <td>6</td>\n    </tr>\n    <tr>\n      <th>267</th>\n      <td>2008</td>\n      <td>Song of the Year</td>\n      <td>Hey There Delilah</td>\n      <td>Plain White T's</td>\n      <td>no</td>\n      <td>7</td>\n    </tr>\n    <tr>\n      <th>272</th>\n      <td>2009</td>\n      <td>Song of the Year</td>\n      <td>I'm Yours</td>\n      <td>Jason Mraz</td>\n      <td>no</td>\n      <td>27</td>\n    </tr>\n    <tr>\n      <th>51</th>\n      <td>2009</td>\n      <td>Song of the Year</td>\n      <td>Viva la Vida</td>\n      <td>Coldplay</td>\n      <td>yes</td>\n      <td>13</td>\n    </tr>\n    <tr>\n      <th>270</th>\n      <td>2009</td>\n      <td>Song of the Year</td>\n      <td>American Boy</td>\n      <td>Estelle</td>\n      <td>no</td>\n      <td>39</td>\n    </tr>\n    <tr>\n      <th>273</th>\n      <td>2009</td>\n      <td>Song of the Year</td>\n      <td>Love Song</td>\n      <td>Sara Bareilles</td>\n      <td>no</td>\n      <td>7</td>\n    </tr>\n    <tr>\n      <th>271</th>\n      <td>2009</td>\n      <td>Song of the Year</td>\n      <td>Chasing Pavements</td>\n      <td>Adele</td>\n      <td>no</td>\n      <td>150</td>\n    </tr>\n  </tbody>\n</table>\n</div>",
      "text/plain": "     year    award category                    song               artist  \\\n262  2007  Song of the Year          Be Without You        Mary J. Blige   \n263  2007  Song of the Year        You're Beautiful          James Blunt   \n264  2007  Song of the Year     Put Your Records On   Corinne Bailey Rae   \n265  2007  Song of the Year    Jesus Take the Wheel     Carrie Underwood   \n49   2007  Song of the Year  Not Ready to Make Nice         Dixie Chicks   \n268  2008  Song of the Year             Like a Star   Corinne Bailey Rae   \n269  2008  Song of the Year                Umbrella             Rihanna    \n50   2008  Song of the Year                   Rehab        Amy Winehouse   \n266  2008  Song of the Year        Before He Cheats     Carrie Underwood   \n267  2008  Song of the Year       Hey There Delilah      Plain White T's   \n272  2009  Song of the Year               I'm Yours           Jason Mraz   \n51   2009  Song of the Year            Viva la Vida             Coldplay   \n270  2009  Song of the Year            American Boy             Estelle    \n273  2009  Song of the Year               Love Song       Sara Bareilles   \n271  2009  Song of the Year       Chasing Pavements                Adele   \n\n    wasWinner  year end ranking  \n262        no                11  \n263        no                 4  \n264        no               150  \n265        no                78  \n49        yes               150  \n268        no               150  \n269        no                 2  \n50        yes                74  \n266        no                 6  \n267        no                 7  \n272        no                27  \n51        yes                13  \n270        no                39  \n273        no                 7  \n271        no               150  "
     },
     "execution_count": 117,
     "metadata": {},
     "output_type": "execute_result"
    }
   ],
   "source": [
    "df_soy_bb_eoy[0:15]"
   ]
  },
  {
   "cell_type": "code",
   "execution_count": 116,
   "metadata": {},
   "outputs": [],
   "source": [
    "df_soy_bb_eoy.to_csv(\"bb_soy_eoy.csv\")"
   ]
  },
  {
   "cell_type": "code",
   "execution_count": null,
   "metadata": {},
   "outputs": [],
   "source": []
  },
  {
   "cell_type": "code",
   "execution_count": 27,
   "metadata": {},
   "outputs": [],
   "source": [
    "df_rap_oy = pd.read_csv(\"best_rap_song.csv\")"
   ]
  },
  {
   "cell_type": "code",
   "execution_count": 28,
   "metadata": {},
   "outputs": [],
   "source": [
    "years = [i for i in range(2007, 2024)]"
   ]
  },
  {
   "cell_type": "code",
   "execution_count": 29,
   "metadata": {},
   "outputs": [],
   "source": [
    "df_rap_oy = df_rap_oy[(df_rap_oy['year'] >= 2007) & (df_rap_oy['year'] <= 2023)]"
   ]
  },
  {
   "cell_type": "code",
   "execution_count": 30,
   "metadata": {},
   "outputs": [],
   "source": [
    "df_rap_oy = df_rap_oy.sort_values(by=['year'])"
   ]
  },
  {
   "cell_type": "code",
   "execution_count": 31,
   "metadata": {},
   "outputs": [
    {
     "data": {
      "text/html": "<div>\n<style scoped>\n    .dataframe tbody tr th:only-of-type {\n        vertical-align: middle;\n    }\n\n    .dataframe tbody tr th {\n        vertical-align: top;\n    }\n\n    .dataframe thead th {\n        text-align: right;\n    }\n</style>\n<table border=\"1\" class=\"dataframe\">\n  <thead>\n    <tr style=\"text-align: right;\">\n      <th></th>\n      <th>year</th>\n      <th>award category</th>\n      <th>song</th>\n      <th>artist</th>\n      <th>wasWinner</th>\n    </tr>\n  </thead>\n  <tbody>\n    <tr>\n      <th>3</th>\n      <td>2007</td>\n      <td>Song of the Year</td>\n      <td>Money Maker</td>\n      <td>Ludacris featuring Pharrell</td>\n      <td>yes</td>\n    </tr>\n    <tr>\n      <th>35</th>\n      <td>2007</td>\n      <td>Song of the Year</td>\n      <td>What You Know</td>\n      <td>T.I.</td>\n      <td>no</td>\n    </tr>\n    <tr>\n      <th>34</th>\n      <td>2007</td>\n      <td>Song of the Year</td>\n      <td>Ridin'</td>\n      <td>Chamillionaire</td>\n      <td>no</td>\n    </tr>\n    <tr>\n      <th>33</th>\n      <td>2007</td>\n      <td>Song of the Year</td>\n      <td>Kick</td>\n      <td>Push</td>\n      <td>no</td>\n    </tr>\n    <tr>\n      <th>32</th>\n      <td>2007</td>\n      <td>Song of the Year</td>\n      <td>It's Goin' Down</td>\n      <td>Yung Joc</td>\n      <td>no</td>\n    </tr>\n    <tr>\n      <th>...</th>\n      <td>...</td>\n      <td>...</td>\n      <td>...</td>\n      <td>...</td>\n      <td>...</td>\n    </tr>\n    <tr>\n      <th>101</th>\n      <td>2023</td>\n      <td>Song of the Year</td>\n      <td>Pushin P</td>\n      <td>Gunna and Future featuring Young Thug</td>\n      <td>no</td>\n    </tr>\n    <tr>\n      <th>98</th>\n      <td>2023</td>\n      <td>Song of the Year</td>\n      <td>Churchill Downs</td>\n      <td>Jack Harlow featuring Drake</td>\n      <td>no</td>\n    </tr>\n    <tr>\n      <th>99</th>\n      <td>2023</td>\n      <td>Song of the Year</td>\n      <td>God Did</td>\n      <td>DJ Khaled featuring Rick Ross</td>\n      <td>no</td>\n    </tr>\n    <tr>\n      <th>100</th>\n      <td>2023</td>\n      <td>Song of the Year</td>\n      <td>The Heart Part 5</td>\n      <td>Kendrick Lamar</td>\n      <td>no</td>\n    </tr>\n    <tr>\n      <th>102</th>\n      <td>2023</td>\n      <td>Song of the Year</td>\n      <td>Wait for U</td>\n      <td>Future featuring Drake and Tems</td>\n      <td>no</td>\n    </tr>\n  </tbody>\n</table>\n<p>88 rows × 5 columns</p>\n</div>",
      "text/plain": "     year    award category              song  \\\n3    2007  Song of the Year       Money Maker   \n35   2007  Song of the Year     What You Know   \n34   2007  Song of the Year            Ridin'   \n33   2007  Song of the Year              Kick   \n32   2007  Song of the Year   It's Goin' Down   \n..    ...               ...               ...   \n101  2023  Song of the Year          Pushin P   \n98   2023  Song of the Year   Churchill Downs   \n99   2023  Song of the Year           God Did   \n100  2023  Song of the Year  The Heart Part 5   \n102  2023  Song of the Year        Wait for U   \n\n                                    artist wasWinner  \n3              Ludacris featuring Pharrell       yes  \n35                                    T.I.        no  \n34                          Chamillionaire        no  \n33                                    Push        no  \n32                                Yung Joc        no  \n..                                     ...       ...  \n101  Gunna and Future featuring Young Thug        no  \n98             Jack Harlow featuring Drake        no  \n99           DJ Khaled featuring Rick Ross        no  \n100                         Kendrick Lamar        no  \n102        Future featuring Drake and Tems        no  \n\n[88 rows x 5 columns]"
     },
     "execution_count": 31,
     "metadata": {},
     "output_type": "execute_result"
    }
   ],
   "source": [
    "df_rap_oy"
   ]
  },
  {
   "cell_type": "code",
   "execution_count": 35,
   "metadata": {},
   "outputs": [],
   "source": [
    "df_temp = df_rap_oy.loc[df_rap_oy['year'] == 2023]"
   ]
  },
  {
   "cell_type": "code",
   "execution_count": 36,
   "metadata": {},
   "outputs": [
    {
     "data": {
      "text/html": "<div>\n<style scoped>\n    .dataframe tbody tr th:only-of-type {\n        vertical-align: middle;\n    }\n\n    .dataframe tbody tr th {\n        vertical-align: top;\n    }\n\n    .dataframe thead th {\n        text-align: right;\n    }\n</style>\n<table border=\"1\" class=\"dataframe\">\n  <thead>\n    <tr style=\"text-align: right;\">\n      <th></th>\n      <th>year</th>\n      <th>award category</th>\n      <th>song</th>\n      <th>artist</th>\n      <th>wasWinner</th>\n    </tr>\n  </thead>\n  <tbody>\n    <tr>\n      <th>19</th>\n      <td>2023</td>\n      <td>Song of the Year</td>\n      <td>The Heart Part 5</td>\n      <td>Kendrick Lamar</td>\n      <td>yes</td>\n    </tr>\n    <tr>\n      <th>101</th>\n      <td>2023</td>\n      <td>Song of the Year</td>\n      <td>Pushin P</td>\n      <td>Gunna and Future featuring Young Thug</td>\n      <td>no</td>\n    </tr>\n    <tr>\n      <th>98</th>\n      <td>2023</td>\n      <td>Song of the Year</td>\n      <td>Churchill Downs</td>\n      <td>Jack Harlow featuring Drake</td>\n      <td>no</td>\n    </tr>\n    <tr>\n      <th>99</th>\n      <td>2023</td>\n      <td>Song of the Year</td>\n      <td>God Did</td>\n      <td>DJ Khaled featuring Rick Ross</td>\n      <td>no</td>\n    </tr>\n    <tr>\n      <th>100</th>\n      <td>2023</td>\n      <td>Song of the Year</td>\n      <td>The Heart Part 5</td>\n      <td>Kendrick Lamar</td>\n      <td>no</td>\n    </tr>\n    <tr>\n      <th>102</th>\n      <td>2023</td>\n      <td>Song of the Year</td>\n      <td>Wait for U</td>\n      <td>Future featuring Drake and Tems</td>\n      <td>no</td>\n    </tr>\n  </tbody>\n</table>\n</div>",
      "text/plain": "     year    award category              song  \\\n19   2023  Song of the Year  The Heart Part 5   \n101  2023  Song of the Year          Pushin P   \n98   2023  Song of the Year   Churchill Downs   \n99   2023  Song of the Year           God Did   \n100  2023  Song of the Year  The Heart Part 5   \n102  2023  Song of the Year        Wait for U   \n\n                                    artist wasWinner  \n19                          Kendrick Lamar       yes  \n101  Gunna and Future featuring Young Thug        no  \n98             Jack Harlow featuring Drake        no  \n99           DJ Khaled featuring Rick Ross        no  \n100                         Kendrick Lamar        no  \n102        Future featuring Drake and Tems        no  "
     },
     "execution_count": 36,
     "metadata": {},
     "output_type": "execute_result"
    }
   ],
   "source": [
    "df_temp"
   ]
  },
  {
   "cell_type": "code",
   "execution_count": 37,
   "metadata": {},
   "outputs": [],
   "source": [
    "bb_eoy = []"
   ]
  },
  {
   "cell_type": "code",
   "execution_count": 38,
   "metadata": {},
   "outputs": [
    {
     "name": "stdout",
     "output_type": "stream",
     "text": [
      "Money Maker by Ludacris Featuring Pharrell on the chart in position 35\n",
      "What You Know by T.I. on the chart in position 47\n",
      "Ridin' by Chamillionaire Featuring Krayzie Bone on the chart in position 8\n",
      "Kick did not appear on the chart\n",
      "It's Goin' Down by Yung Joc on the chart in position 18\n",
      "Done with year  2007\n",
      "Crank That did not appear on the chart\n",
      "Can't Tell Me Nothing did not appear on the chart\n",
      "Big Things Poppin' (Do It) by T.I. on the chart in position 75\n",
      "Ayo Technology by 50 Cent Featuring Justin Timberlake & Timbaland on the chart in position 87\n",
      "Good Life did not appear on the chart\n",
      "Done with year  2008\n",
      "Lollipop by Lil Wayne Featuring Static Major on the chart in position 4\n",
      "Swagga Like Us did not appear on the chart\n",
      "Superstar by Lupe Fiasco Featuring Matthew Santos on the chart in position 63\n",
      "Sexual Eruption did not appear on the chart\n",
      "Low by Flo Rida Featuring T-Pain on the chart in position 1\n",
      "Done with year  2009\n",
      "D.O.A. (Death of Auto-Tune) did not appear on the chart\n",
      "Dead and Gone by T.I. Featuring Justin Timberlake on the chart in position 12\n",
      "Day 'n' Nite by Kid Cudi on the chart in position 28\n",
      "Best I Ever Had by Drake on the chart in position 22\n",
      "Run This Town by Jay-Z, Rihanna & Kanye West on the chart in position 31\n",
      "Done with year  2010\n",
      "Not Afraid by Eminem on the chart in position 24\n",
      "Love the Way You Lie by Eminem Featuring Rihanna on the chart in position 7\n",
      "Nothin' On You by B.o.B Featuring Bruno Mars on the chart in position 11\n",
      "On to the Next One did not appear on the chart\n",
      "Empire State of Mind by Jay-Z + Alicia Keys on the chart in position 21\n",
      "Done with year  2011\n",
      "Black and Yellow by Wiz Khalifa on the chart in position 30\n",
      "I Need a Doctor by Dr. Dre Featuring Eminem & Skylar Grey on the chart in position 50\n",
      "Look at Me Now by Chris Brown Featuring Lil Wayne & Busta Rhymes on the chart in position 20\n",
      "Otis did not appear on the chart\n",
      "The Show Goes On by Lupe Fiasco on the chart in position 27\n",
      "All of the Lights by Kanye West on the chart in position 58\n",
      "Done with year  2012\n",
      "Daughters did not appear on the chart\n",
      "Mercy by Kanye West, Big Sean, Pusha T, 2 Chainz on the chart in position 27\n",
      "The Motto by Drake Featuring Lil Wayne on the chart in position 20\n",
      "Young did not appear on the chart\n",
      "Lotus Flower Bomb did not appear on the chart\n",
      "Niggas in Paris did not appear on the chart\n",
      "Done with year  2013\n",
      "Thrift Shop by Macklemore & Ryan Lewis Featuring Wanz on the chart in position 1\n",
      "Started from the Bottom by Drake on the chart in position 32\n",
      "New Slaves did not appear on the chart\n",
      "Holy Grail by Jay Z Featuring Justin Timberlake on the chart in position 22\n",
      "Fuckin' Problems did not appear on the chart\n",
      "Done with year  2014\n",
      "Bound 2 did not appear on the chart\n",
      "Anaconda by Nicki Minaj on the chart in position 36\n",
      "We Dem Boyz did not appear on the chart\n",
      "0 to 100 / The Catch Up by Drake on the chart in position 97\n",
      "i did not appear on the chart\n",
      "Done with year  2015\n",
      "All Day did not appear on the chart\n",
      "Alright did not appear on the chart\n",
      "Energy did not appear on the chart\n",
      "Trap Queen by Fetty Wap on the chart in position 4\n",
      "Glory did not appear on the chart\n",
      "Done with year  2016\n",
      "All the Way Up did not appear on the chart\n",
      "Famous did not appear on the chart\n",
      "Donnie Trumpet did not appear on the chart\n",
      "No Problem did not appear on the chart\n",
      "Hotline Bling by Drake on the chart in position 24\n",
      "Done with year  2017\n",
      "HUMBLE. by Kendrick Lamar on the chart in position 4\n",
      "The Story of O.J. did not appear on the chart\n",
      "Sassy did not appear on the chart\n",
      "Bodak Yellow did not appear on the chart\n",
      "Chase Me did not appear on the chart\n",
      "Done with year  2018\n",
      "Win did not appear on the chart\n",
      "Sicko Mode by Travis Scott on the chart in position 42\n",
      "Lucky You did not appear on the chart\n",
      "King's Dead by Jay Rock, Kendrick Lamar, Future & James Blake on the chart in position 79\n",
      "God's Plan by Drake on the chart in position 1\n",
      "Done with year  2019\n",
      "A Lot by 21 Savage on the chart in position 42\n",
      "Bad Idea did not appear on the chart\n",
      "Gold Roses did not appear on the chart\n",
      "Racks in the Middle did not appear on the chart\n",
      "Suge by DaBaby on the chart in position 24\n",
      "Done with year  2020\n",
      "ROCKSTAR by DaBaby Featuring Roddy Ricch on the chart in position 5\n",
      "The Bigger Picture by Lil Baby on the chart in position 76\n",
      "The Box by Roddy Ricch on the chart in position 3\n",
      "Laugh Now Cry Later by Drake Featuring Lil Durk on the chart in position 41\n",
      "Savage by Megan Thee Stallion on the chart in position 15\n",
      "Done with year  2021\n",
      "Family Ties did not appear on the chart\n",
      "My Life did not appear on the chart\n",
      "Best Friend by Saweetie Featuring Doja Cat on the chart in position 29\n",
      "Jail did not appear on the chart\n",
      "Bath Salts did not appear on the chart\n",
      "Done with year  2022\n",
      "The Heart Part 5 did not appear on the chart\n",
      "Pushin P by Gunna & Future Featuring Young Thug on the chart in position 48\n",
      "Churchill Downs did not appear on the chart\n",
      "God Did did not appear on the chart\n",
      "The Heart Part 5 did not appear on the chart\n",
      "Wait for U by Future Featuring Drake & Tems on the chart in position 11\n",
      "Done with year  2023\n"
     ]
    }
   ],
   "source": [
    "for year in years:\n",
    "    # Retrieve the chart data for the year X-1\n",
    "    chart = billboard.ChartData('hot-100-songs', year=year-1)\n",
    "    df_temp = df_rap_oy.loc[df_rap_oy['year'] == year]\n",
    "    # Iterate over each row in the dataframe and match the song with the chart data\n",
    "    for index, row in df_temp.iterrows():\n",
    "        song = row['song']\n",
    "        year = row['year']\n",
    "        i = 0\n",
    "        for track in chart:\n",
    "            i += 1\n",
    "            # Remove punctuation from the song title and chart title\n",
    "            song_clean = song.translate(str.maketrans('', '', string.punctuation)).lower()\n",
    "            track_title_clean = track.title.translate(str.maketrans('', '', string.punctuation)).lower()\n",
    "            if song_clean == track_title_clean:\n",
    "                # Print the song title, artist, top position and number of weeks on the chart\n",
    "                print(f\"{song} by {track.artist} on the chart in position {i}\")\n",
    "                bb_eoy.append(i)\n",
    "                break\n",
    "            \n",
    "        else:\n",
    "            # Handle the case where the song is not found on the chart\n",
    "            print(f\"{song} did not appear on the chart\")\n",
    "            bb_eoy.append(150)\n",
    "    print(\"Done with year \", year)"
   ]
  },
  {
   "cell_type": "code",
   "execution_count": 39,
   "metadata": {},
   "outputs": [
    {
     "data": {
      "text/plain": "88"
     },
     "execution_count": 39,
     "metadata": {},
     "output_type": "execute_result"
    }
   ],
   "source": [
    "len(bb_eoy)"
   ]
  },
  {
   "cell_type": "code",
   "execution_count": 40,
   "metadata": {},
   "outputs": [
    {
     "data": {
      "text/plain": "88"
     },
     "execution_count": 40,
     "metadata": {},
     "output_type": "execute_result"
    }
   ],
   "source": [
    "len(df_rap_oy)"
   ]
  },
  {
   "cell_type": "code",
   "execution_count": 41,
   "metadata": {},
   "outputs": [],
   "source": [
    "df_rap_oy[\"year_end_ranking\"] = bb_eoy"
   ]
  },
  {
   "cell_type": "code",
   "execution_count": 42,
   "metadata": {},
   "outputs": [
    {
     "data": {
      "text/html": "<div>\n<style scoped>\n    .dataframe tbody tr th:only-of-type {\n        vertical-align: middle;\n    }\n\n    .dataframe tbody tr th {\n        vertical-align: top;\n    }\n\n    .dataframe thead th {\n        text-align: right;\n    }\n</style>\n<table border=\"1\" class=\"dataframe\">\n  <thead>\n    <tr style=\"text-align: right;\">\n      <th></th>\n      <th>year</th>\n      <th>award category</th>\n      <th>song</th>\n      <th>artist</th>\n      <th>wasWinner</th>\n      <th>year_end_ranking</th>\n    </tr>\n  </thead>\n  <tbody>\n    <tr>\n      <th>5</th>\n      <td>2009</td>\n      <td>Song of the Year</td>\n      <td>Lollipop</td>\n      <td>Lil Wayne featuring Static Major</td>\n      <td>yes</td>\n      <td>4</td>\n    </tr>\n    <tr>\n      <th>43</th>\n      <td>2009</td>\n      <td>Song of the Year</td>\n      <td>Swagga Like Us</td>\n      <td>T.I. featuring Jay-Z</td>\n      <td>no</td>\n      <td>150</td>\n    </tr>\n    <tr>\n      <th>42</th>\n      <td>2009</td>\n      <td>Song of the Year</td>\n      <td>Superstar</td>\n      <td>Lupe Fiasco featuring Soundtrak</td>\n      <td>no</td>\n      <td>63</td>\n    </tr>\n    <tr>\n      <th>41</th>\n      <td>2009</td>\n      <td>Song of the Year</td>\n      <td>Sexual Eruption</td>\n      <td>Snoop Dogg</td>\n      <td>no</td>\n      <td>150</td>\n    </tr>\n    <tr>\n      <th>40</th>\n      <td>2009</td>\n      <td>Song of the Year</td>\n      <td>Low</td>\n      <td>Flo Rida featuring T-Pain</td>\n      <td>no</td>\n      <td>1</td>\n    </tr>\n    <tr>\n      <th>47</th>\n      <td>2010</td>\n      <td>Song of the Year</td>\n      <td>D.O.A. (Death of Auto-Tune)</td>\n      <td>Jay-Z</td>\n      <td>no</td>\n      <td>150</td>\n    </tr>\n    <tr>\n      <th>46</th>\n      <td>2010</td>\n      <td>Song of the Year</td>\n      <td>Dead and Gone</td>\n      <td>T.I. featuring Justin Timberlake</td>\n      <td>no</td>\n      <td>12</td>\n    </tr>\n    <tr>\n      <th>45</th>\n      <td>2010</td>\n      <td>Song of the Year</td>\n      <td>Day 'n' Nite</td>\n      <td>Kid Cudi</td>\n      <td>no</td>\n      <td>28</td>\n    </tr>\n    <tr>\n      <th>44</th>\n      <td>2010</td>\n      <td>Song of the Year</td>\n      <td>Best I Ever Had</td>\n      <td>Drake</td>\n      <td>no</td>\n      <td>22</td>\n    </tr>\n    <tr>\n      <th>6</th>\n      <td>2010</td>\n      <td>Song of the Year</td>\n      <td>Run This Town</td>\n      <td>Jay-Z featuring Rihanna and Kanye West</td>\n      <td>yes</td>\n      <td>31</td>\n    </tr>\n    <tr>\n      <th>49</th>\n      <td>2011</td>\n      <td>Song of the Year</td>\n      <td>Not Afraid</td>\n      <td>Eminem</td>\n      <td>no</td>\n      <td>24</td>\n    </tr>\n    <tr>\n      <th>48</th>\n      <td>2011</td>\n      <td>Song of the Year</td>\n      <td>Love the Way You Lie</td>\n      <td>Eminem featuring Rihanna</td>\n      <td>no</td>\n      <td>7</td>\n    </tr>\n    <tr>\n      <th>50</th>\n      <td>2011</td>\n      <td>Song of the Year</td>\n      <td>Nothin' On You</td>\n      <td>B.o.B featuring Bruno Mars</td>\n      <td>no</td>\n      <td>11</td>\n    </tr>\n    <tr>\n      <th>51</th>\n      <td>2011</td>\n      <td>Song of the Year</td>\n      <td>On to the Next One</td>\n      <td>Jay-Z &amp; Swizz Beatz</td>\n      <td>no</td>\n      <td>150</td>\n    </tr>\n    <tr>\n      <th>7</th>\n      <td>2011</td>\n      <td>Song of the Year</td>\n      <td>Empire State of Mind</td>\n      <td>Jay-Z featuring Alicia Keys</td>\n      <td>yes</td>\n      <td>21</td>\n    </tr>\n    <tr>\n      <th>52</th>\n      <td>2012</td>\n      <td>Song of the Year</td>\n      <td>Black and Yellow</td>\n      <td>Wiz Khalifa</td>\n      <td>no</td>\n      <td>30</td>\n    </tr>\n    <tr>\n      <th>53</th>\n      <td>2012</td>\n      <td>Song of the Year</td>\n      <td>I Need a Doctor</td>\n      <td>Dr. Dre</td>\n      <td>no</td>\n      <td>50</td>\n    </tr>\n  </tbody>\n</table>\n</div>",
      "text/plain": "    year    award category                         song  \\\n5   2009  Song of the Year                     Lollipop   \n43  2009  Song of the Year               Swagga Like Us   \n42  2009  Song of the Year                    Superstar   \n41  2009  Song of the Year              Sexual Eruption   \n40  2009  Song of the Year                          Low   \n47  2010  Song of the Year  D.O.A. (Death of Auto-Tune)   \n46  2010  Song of the Year                Dead and Gone   \n45  2010  Song of the Year                 Day 'n' Nite   \n44  2010  Song of the Year              Best I Ever Had   \n6   2010  Song of the Year                Run This Town   \n49  2011  Song of the Year                   Not Afraid   \n48  2011  Song of the Year         Love the Way You Lie   \n50  2011  Song of the Year               Nothin' On You   \n51  2011  Song of the Year           On to the Next One   \n7   2011  Song of the Year         Empire State of Mind   \n52  2012  Song of the Year             Black and Yellow   \n53  2012  Song of the Year              I Need a Doctor   \n\n                                    artist wasWinner  year_end_ranking  \n5         Lil Wayne featuring Static Major       yes                 4  \n43                    T.I. featuring Jay-Z        no               150  \n42         Lupe Fiasco featuring Soundtrak        no                63  \n41                              Snoop Dogg        no               150  \n40               Flo Rida featuring T-Pain        no                 1  \n47                                   Jay-Z        no               150  \n46        T.I. featuring Justin Timberlake        no                12  \n45                                Kid Cudi        no                28  \n44                                   Drake        no                22  \n6   Jay-Z featuring Rihanna and Kanye West       yes                31  \n49                                  Eminem        no                24  \n48                Eminem featuring Rihanna        no                 7  \n50              B.o.B featuring Bruno Mars        no                11  \n51                     Jay-Z & Swizz Beatz        no               150  \n7              Jay-Z featuring Alicia Keys       yes                21  \n52                             Wiz Khalifa        no                30  \n53                                 Dr. Dre        no                50  "
     },
     "execution_count": 42,
     "metadata": {},
     "output_type": "execute_result"
    }
   ],
   "source": [
    "df_rap_oy[10:27]"
   ]
  },
  {
   "cell_type": "code",
   "execution_count": 43,
   "metadata": {},
   "outputs": [],
   "source": [
    "df_rap_oy.to_csv(\"rap_of_the_year_bb_year_end.csv\")"
   ]
  },
  {
   "cell_type": "code",
   "execution_count": null,
   "metadata": {},
   "outputs": [],
   "source": []
  },
  {
   "cell_type": "code",
   "execution_count": null,
   "metadata": {},
   "outputs": [],
   "source": []
  },
  {
   "cell_type": "code",
   "execution_count": 6,
   "metadata": {},
   "outputs": [],
   "source": [
    "years = [i for i in range(2007, 2024)]\n",
    "df_record = df_record[(df_record['year'] >= 2007) & (df_record['year'] <= 2023)]\n",
    "df_record = df_record.sort_values(by=['year'])"
   ]
  },
  {
   "cell_type": "code",
   "execution_count": 7,
   "metadata": {},
   "outputs": [
    {
     "data": {
      "text/html": "<div>\n<style scoped>\n    .dataframe tbody tr th:only-of-type {\n        vertical-align: middle;\n    }\n\n    .dataframe tbody tr th {\n        vertical-align: top;\n    }\n\n    .dataframe thead th {\n        text-align: right;\n    }\n</style>\n<table border=\"1\" class=\"dataframe\">\n  <thead>\n    <tr style=\"text-align: right;\">\n      <th></th>\n      <th>year</th>\n      <th>award category</th>\n      <th>song</th>\n      <th>artist</th>\n      <th>wasWinner</th>\n    </tr>\n  </thead>\n  <tbody>\n    <tr>\n      <th>241</th>\n      <td>2007</td>\n      <td>Record of the year</td>\n      <td>Not Ready To Make Nice</td>\n      <td>Dixie Chicks</td>\n      <td>yes</td>\n    </tr>\n    <tr>\n      <th>242</th>\n      <td>2007</td>\n      <td>Record of the year</td>\n      <td>Put Your Records On</td>\n      <td>Corinne Bailey Rae</td>\n      <td>no</td>\n    </tr>\n    <tr>\n      <th>243</th>\n      <td>2007</td>\n      <td>Record of the year</td>\n      <td>Crazy</td>\n      <td>Gnarls Barkley</td>\n      <td>no</td>\n    </tr>\n    <tr>\n      <th>244</th>\n      <td>2007</td>\n      <td>Record of the year</td>\n      <td>You're Beautiful</td>\n      <td>James Blunt</td>\n      <td>no</td>\n    </tr>\n    <tr>\n      <th>245</th>\n      <td>2007</td>\n      <td>Record of the year</td>\n      <td>Be Without You</td>\n      <td>Mary J. Blige</td>\n      <td>no</td>\n    </tr>\n    <tr>\n      <th>...</th>\n      <td>...</td>\n      <td>...</td>\n      <td>...</td>\n      <td>...</td>\n      <td>...</td>\n    </tr>\n    <tr>\n      <th>338</th>\n      <td>2023</td>\n      <td>Record of the year</td>\n      <td>Bad Habit</td>\n      <td>Steve Lacy</td>\n      <td>no</td>\n    </tr>\n    <tr>\n      <th>337</th>\n      <td>2023</td>\n      <td>Record of the year</td>\n      <td>As It Was</td>\n      <td>Harry Styles</td>\n      <td>no</td>\n    </tr>\n    <tr>\n      <th>336</th>\n      <td>2023</td>\n      <td>Record of the year</td>\n      <td>About Damn Time</td>\n      <td>Lizzo</td>\n      <td>yes</td>\n    </tr>\n    <tr>\n      <th>339</th>\n      <td>2023</td>\n      <td>Record of the year</td>\n      <td>BREAK MY SOUL</td>\n      <td>Beyoncé</td>\n      <td>no</td>\n    </tr>\n    <tr>\n      <th>345</th>\n      <td>2023</td>\n      <td>Record of the year</td>\n      <td>Don't Shut Me Down</td>\n      <td>ABBA</td>\n      <td>no</td>\n    </tr>\n  </tbody>\n</table>\n<p>105 rows × 5 columns</p>\n</div>",
      "text/plain": "     year      award category                    song              artist  \\\n241  2007  Record of the year  Not Ready To Make Nice        Dixie Chicks   \n242  2007  Record of the year     Put Your Records On  Corinne Bailey Rae   \n243  2007  Record of the year                   Crazy      Gnarls Barkley   \n244  2007  Record of the year        You're Beautiful         James Blunt   \n245  2007  Record of the year          Be Without You       Mary J. Blige   \n..    ...                 ...                     ...                 ...   \n338  2023  Record of the year               Bad Habit          Steve Lacy   \n337  2023  Record of the year               As It Was        Harry Styles   \n336  2023  Record of the year         About Damn Time               Lizzo   \n339  2023  Record of the year           BREAK MY SOUL             Beyoncé   \n345  2023  Record of the year      Don't Shut Me Down                ABBA   \n\n    wasWinner  \n241       yes  \n242        no  \n243        no  \n244        no  \n245        no  \n..        ...  \n338        no  \n337        no  \n336       yes  \n339        no  \n345        no  \n\n[105 rows x 5 columns]"
     },
     "execution_count": 7,
     "metadata": {},
     "output_type": "execute_result"
    }
   ],
   "source": [
    "df_record"
   ]
  },
  {
   "cell_type": "code",
   "execution_count": 10,
   "metadata": {},
   "outputs": [],
   "source": [
    "bb_eoy = []"
   ]
  },
  {
   "cell_type": "code",
   "execution_count": 12,
   "metadata": {},
   "outputs": [],
   "source": [
    "import string"
   ]
  },
  {
   "cell_type": "code",
   "execution_count": 13,
   "metadata": {},
   "outputs": [
    {
     "name": "stdout",
     "output_type": "stream",
     "text": [
      "Not Ready To Make Nice did not appear on the chart\n",
      "Put Your Records On did not appear on the chart\n",
      "Crazy by Gnarls Barkley on the chart in position 7\n",
      "You're Beautiful by James Blunt on the chart in position 4\n",
      "Be Without You by Mary J. Blige on the chart in position 11\n",
      "Done with year  2007\n",
      "Rehab by Amy Winehouse on the chart in position 74\n",
      "What Goes Around…Comes Around did not appear on the chart\n",
      "Umbrella by Rihanna Featuring Jay-Z on the chart in position 2\n",
      "The Pretender did not appear on the chart\n",
      "Irreplaceable by Beyonce on the chart in position 1\n",
      "Done with year  2008\n",
      "Chasing Pavements did not appear on the chart\n",
      "Bleeding Love by Leona Lewis on the chart in position 2\n",
      "Viva La Vida by Coldplay on the chart in position 13\n",
      "Please Read The Letter did not appear on the chart\n",
      "Paper Planes by M.I.A. on the chart in position 35\n",
      "Done with year  2009\n",
      "Use Somebody by Kings Of Leon on the chart in position 14\n",
      "You Belong With Me by Taylor Swift on the chart in position 11\n",
      "Poker Face by Lady Gaga on the chart in position 2\n",
      "I Gotta Feeling by The Black Eyed Peas on the chart in position 4\n",
      "Halo by Beyonce on the chart in position 24\n",
      "Done with year  2010\n",
      "Need You Now by Lady Antebellum on the chart in position 2\n",
      "Empire State Of Mind by Jay-Z + Alicia Keys on the chart in position 21\n",
      "Fuck You did not appear on the chart\n",
      "Love The Way You Lie by Eminem Featuring Rihanna on the chart in position 7\n",
      "Nothin' On You by B.o.B Featuring Bruno Mars on the chart in position 11\n",
      "Done with year  2011\n",
      "Holocene did not appear on the chart\n",
      "Grenade by Bruno Mars on the chart in position 6\n",
      "Firework by Katy Perry on the chart in position 3\n",
      "Rolling In The Deep by Adele on the chart in position 1\n",
      "The Cave did not appear on the chart\n",
      "Done with year  2012\n",
      "Somebody That I Used To Know by Gotye Featuring Kimbra on the chart in position 1\n",
      "We Are Never Ever Getting Back Together by Taylor Swift on the chart in position 33\n",
      "Thinkin Bout You did not appear on the chart\n",
      "We Are Young by fun. Featuring Janelle Monae on the chart in position 3\n",
      "Stronger (What Doesn't Kill You) by Kelly Clarkson on the chart in position 7\n",
      "Lonely Boy did not appear on the chart\n",
      "Done with year  2013\n",
      "Radioactive by Imagine Dragons on the chart in position 3\n",
      "Locked Out Of Heaven by Bruno Mars on the chart in position 11\n",
      "Royals by Lorde on the chart in position 15\n",
      "Get Lucky by Daft Punk Featuring Pharrell Williams on the chart in position 14\n",
      "Blurred Lines by Robin Thicke Featuring T.I. + Pharrell on the chart in position 2\n",
      "Done with year  2014\n",
      "Stay With Me (Darkchild Version) did not appear on the chart\n",
      "All About That Bass by Meghan Trainor on the chart in position 8\n",
      "Shake It Off by Taylor Swift on the chart in position 13\n",
      "Chandelier by Sia on the chart in position 25\n",
      "Fancy by Iggy Azalea Featuring Charli XCX on the chart in position 4\n",
      "Done with year  2015\n",
      "Thinking Out Loud by Ed Sheeran on the chart in position 2\n",
      "Uptown Funk by Mark Ronson Featuring Bruno Mars on the chart in position 1\n",
      "Can't Feel My Face by The Weeknd on the chart in position 12\n",
      "Blank Space by Taylor Swift on the chart in position 7\n",
      "Really Love did not appear on the chart\n",
      "Done with year  2016\n",
      "Formation did not appear on the chart\n",
      "7 Years by Lukas Graham on the chart in position 12\n",
      "Stressed Out by twenty one pilots on the chart in position 5\n",
      "Hello by Adele on the chart in position 7\n",
      "Work by Rihanna Featuring Drake on the chart in position 4\n",
      "Done with year  2017\n",
      "24K Magic by Bruno Mars on the chart in position 16\n",
      "HUMBLE. by Kendrick Lamar on the chart in position 4\n",
      "Redbone by Childish Gambino on the chart in position 25\n",
      "The Story Of O.J. did not appear on the chart\n",
      "Despacito by Luis Fonsi & Daddy Yankee Featuring Justin Bieber on the chart in position 2\n",
      "Done with year  2018\n",
      "All The Stars by Kendrick Lamar & SZA on the chart in position 47\n",
      "Rockstar by Post Malone Featuring 21 Savage on the chart in position 5\n",
      "Shallow did not appear on the chart\n",
      "God's Plan by Drake on the chart in position 1\n",
      "The Middle by Zedd, Maren Morris & Grey on the chart in position 8\n",
      "I Like It by Cardi B, Bad Bunny & J Balvin on the chart in position 7\n",
      "This Is America by Childish Gambino on the chart in position 51\n",
      "The Joke did not appear on the chart\n",
      "Done with year  2019\n",
      "Hard Place did not appear on the chart\n",
      "Talk by Khalid on the chart in position 8\n",
      "Old Town Road by Lil Nas X Featuring Billy Ray Cyrus on the chart in position 1\n",
      "Truth Hurts by Lizzo on the chart in position 13\n",
      "Hey did not appear on the chart\n",
      "7 rings by Ariana Grande on the chart in position 7\n",
      "Bad Guy by Billie Eilish on the chart in position 4\n",
      "Sunflower did not appear on the chart\n",
      "Done with year  2020\n",
      "Black Parade did not appear on the chart\n",
      "Colors did not appear on the chart\n",
      "Don't Start Now by Dua Lipa on the chart in position 4\n",
      "Savage by Megan Thee Stallion on the chart in position 15\n",
      "Say So by Doja Cat on the chart in position 11\n",
      "Circles by Post Malone on the chart in position 2\n",
      "Everything I Wanted by Billie Eilish on the chart in position 18\n",
      "Rockstar by DaBaby Featuring Roddy Ricch on the chart in position 5\n",
      "Done with year  2021\n",
      "I Still Have Faith In You did not appear on the chart\n",
      "Freedom did not appear on the chart\n",
      "I Get A Kick Out Of You did not appear on the chart\n",
      "Peaches by Justin Bieber Featuring Daniel Caesar & Giveon on the chart in position 10\n",
      "Right On Time did not appear on the chart\n",
      "drivers license by Olivia Rodrigo on the chart in position 8\n",
      "Montero (Call Me By Your Name) by Lil Nas X on the chart in position 9\n",
      "Kiss Me More by Doja Cat Featuring SZA on the chart in position 6\n",
      "Leave The Door Open by Silk Sonic (Bruno Mars & Anderson .Paak) on the chart in position 7\n",
      "Happier Than Ever by Billie Eilish on the chart in position 94\n",
      "Done with year  2022\n",
      "Woman by Doja Cat on the chart in position 21\n",
      "Good Morning Gorgeous did not appear on the chart\n",
      "You And Me On The Rock did not appear on the chart\n",
      "The Heart Part 5 did not appear on the chart\n",
      "Easy On Me by Adele on the chart in position 4\n",
      "Bad Habit by Steve Lacy on the chart in position 28\n",
      "As It Was by Harry Styles on the chart in position 2\n",
      "About Damn Time by Lizzo on the chart in position 12\n",
      "BREAK MY SOUL by Beyonce on the chart in position 38\n",
      "Don't Shut Me Down did not appear on the chart\n",
      "Done with year  2023\n"
     ]
    }
   ],
   "source": [
    "for year in years:\n",
    "    # Retrieve the chart data for the year X-1\n",
    "    chart = billboard.ChartData('hot-100-songs', year=year-1)\n",
    "    df_temp = df_record.loc[df_record['year'] == year]\n",
    "    # Iterate over each row in the dataframe and match the song with the chart data\n",
    "    for index, row in df_temp.iterrows():\n",
    "        song = row['song']\n",
    "        year = row['year']\n",
    "        i = 0\n",
    "        for track in chart:\n",
    "            i += 1\n",
    "            # Remove punctuation from the song title and chart title\n",
    "            song_clean = song.translate(str.maketrans('', '', string.punctuation)).lower()\n",
    "            track_title_clean = track.title.translate(str.maketrans('', '', string.punctuation)).lower()\n",
    "            if song_clean == track_title_clean:\n",
    "                # Print the song title, artist, top position and number of weeks on the chart\n",
    "                print(f\"{song} by {track.artist} on the chart in position {i}\")\n",
    "                bb_eoy.append(i)\n",
    "                break\n",
    "            \n",
    "        else:\n",
    "            # Handle the case where the song is not found on the chart\n",
    "            print(f\"{song} did not appear on the chart\")\n",
    "            bb_eoy.append(150)\n",
    "    print(\"Done with year \", year)"
   ]
  },
  {
   "cell_type": "code",
   "execution_count": 14,
   "metadata": {},
   "outputs": [],
   "source": [
    "df_record[\"year_end_ranking\"] = bb_eoy"
   ]
  },
  {
   "cell_type": "code",
   "execution_count": 15,
   "metadata": {},
   "outputs": [],
   "source": [
    "df_record.to_csv(\"record_of_the_year_bb_eoy.csv\")"
   ]
  },
  {
   "cell_type": "code",
   "execution_count": null,
   "metadata": {},
   "outputs": [],
   "source": []
  },
  {
   "cell_type": "code",
   "execution_count": null,
   "metadata": {},
   "outputs": [],
   "source": []
  },
  {
   "cell_type": "code",
   "execution_count": 16,
   "metadata": {},
   "outputs": [],
   "source": [
    "df = pd.read_csv(\"record_of_the_year_spotify.csv\")"
   ]
  },
  {
   "cell_type": "code",
   "execution_count": 17,
   "metadata": {},
   "outputs": [],
   "source": [
    "df[\"year\"] = df[\"year\"]+1"
   ]
  },
  {
   "cell_type": "code",
   "execution_count": 18,
   "metadata": {},
   "outputs": [],
   "source": [
    "df.to_csv(\"record_of_the_year_spotify.csv\")"
   ]
  },
  {
   "cell_type": "code",
   "execution_count": null,
   "metadata": {},
   "outputs": [],
   "source": []
  }
 ],
 "metadata": {
  "kernelspec": {
   "display_name": "Python 3.7.6 64-bit ('base': conda)",
   "name": "python376jvsc74a57bd00bfc7db77e0c4857d02c6a3eddcf2a18a066a4e9984550ab3594627fdc00b5fe"
  },
  "language_info": {
   "name": "python",
   "version": ""
  },
  "orig_nbformat": 2
 },
 "nbformat": 4,
 "nbformat_minor": 2
}